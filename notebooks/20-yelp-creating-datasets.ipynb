{
 "cells": [
  {
   "cell_type": "markdown",
   "metadata": {},
   "source": [
    "# 2.0: Reproducible Data Sources\n",
    "\"In God we trust. All others must bring data.” – W. Edwards Deming\""
   ]
  },
  {
   "cell_type": "code",
   "execution_count": 3,
   "metadata": {},
   "outputs": [
    {
     "name": "stdout",
     "output_type": "stream",
     "text": [
      "The autoreload extension is already loaded. To reload it, use:\n",
      "  %reload_ext autoreload\n"
     ]
    }
   ],
   "source": [
    "%load_ext autoreload\n",
    "%autoreload 2"
   ]
  },
  {
   "cell_type": "code",
   "execution_count": 4,
   "metadata": {},
   "outputs": [],
   "source": [
    "import logging\n",
    "from src.logging import logger\n",
    "logger.setLevel(logging.INFO)"
   ]
  },
  {
   "cell_type": "markdown",
   "metadata": {},
   "source": [
    "# Introducing the `DataSource`\n",
    "The `DataSource` object handles downloading, unpacking, and processing raw data files, and serves as a container for some basic metadata about the raw data, including **documentation** and **license** information.\n",
    "\n",
    "Raw data files are downloaded to  `paths.raw_data_path`.\n",
    " Cache files and unpacked raw files are saved to `paths.interim_data_path`.\n",
    "    "
   ]
  },
  {
   "cell_type": "markdown",
   "metadata": {},
   "source": [
    "### Downloading Raw Data Source Files"
   ]
  },
  {
   "cell_type": "code",
   "execution_count": 5,
   "metadata": {},
   "outputs": [],
   "source": [
    "from src.data import DataSource\n",
    "from src.utils import list_dir\n",
    "from src import paths"
   ]
  },
  {
   "cell_type": "code",
   "execution_count": 11,
   "metadata": {},
   "outputs": [],
   "source": [
    "# Create a data source object\n",
    "datasource_name = 'yelp'\n",
    "dsrc = DataSource(datasource_name)"
   ]
  },
  {
   "cell_type": "code",
   "execution_count": 12,
   "metadata": {},
   "outputs": [],
   "source": [
    "# Add URL(s) for raw data files\n",
    "dsrc.add_file(source_file='/mnt/timc/downloads/yelp_dataset.tar.gz', hash_value='096ac5ced8a9229ecc5116e77b6be8d8f90fdacb')\n",
    "\n",
    "#"
   ]
  },
  {
   "cell_type": "markdown",
   "metadata": {},
   "source": [
    "dsrc.add_file()  \n",
    "This should have file_name as the first parameter due to the fact that it has no default"
   ]
  },
  {
   "cell_type": "code",
   "execution_count": 14,
   "metadata": {},
   "outputs": [
    {
     "data": {
      "text/plain": [
       "[{'hash_type': 'sha1',\n",
       "  'hash_value': '096ac5ced8a9229ecc5116e77b6be8d8f90fdacb',\n",
       "  'name': None,\n",
       "  'source_file': PosixPath('/mnt/timc/downloads/yelp_dataset.tar.gz'),\n",
       "  'file_name': 'yelp_dataset.tar.gz'}]"
      ]
     },
     "execution_count": 14,
     "metadata": {},
     "output_type": "execute_result"
    }
   ],
   "source": [
    "dsrc.file_list"
   ]
  },
  {
   "cell_type": "code",
   "execution_count": 13,
   "metadata": {},
   "outputs": [
    {
     "name": "stderr",
     "output_type": "stream",
     "text": [
      "2019-02-27 17:16:26,117 - fetch - DEBUG - `file_name` not specified. Inferring from `source_file`: yelp_dataset.tar.gz\n",
      "2019-02-27 17:16:26,118 - fetch - DEBUG - No file_name specified. Inferring yelp_dataset.tar.gz from URL\n",
      "2019-02-27 17:16:54,389 - fetch - DEBUG - yelp_dataset.tar.gz already exists and hash is valid\n"
     ]
    },
    {
     "name": "stdout",
     "output_type": "stream",
     "text": [
      "CPU times: user 5.7 s, sys: 1.69 s, total: 7.39 s\n",
      "Wall time: 28.3 s\n"
     ]
    }
   ],
   "source": [
    "%%time\n",
    "# Fetch the files\n",
    "logger.setLevel(logging.DEBUG)\n",
    "dsrc.fetch()"
   ]
  },
  {
   "cell_type": "markdown",
   "metadata": {},
   "source": [
    "By default, data files are downloaded to the `paths.raw_data_path` directory:"
   ]
  },
  {
   "cell_type": "code",
   "execution_count": 15,
   "metadata": {},
   "outputs": [
    {
     "name": "stdout",
     "output_type": "stream",
     "text": [
      "total 3311308\r\n",
      "drwxr-xr-x 2 ava00114 users       4096 Feb 27 17:14 .\r\n",
      "drwxr-xr-x 2 ava00114 users          0 Feb 27 13:20 ..\r\n",
      "-rwxr-xr-x 1 ava00114 users  231669760 Feb 27 16:56 cifsd879\r\n",
      "-rwxr-xr-x 1 ava00114 users       1110 Feb 27 16:39 fmnist.license\r\n",
      "-rwxr-xr-x 1 ava00114 users          0 Feb 26 12:08 .gitkeep\r\n",
      "-rwxr-xr-x 1 ava00114 users     747520 Feb 27 16:39 lvq_pak-3.1.tar\r\n",
      "-rwxr-xr-x 1 ava00114 users       2483 Feb 27 16:39 lvq-pak.license\r\n",
      "-rwxr-xr-x 1 ava00114 users       4958 Feb 27 16:39 lvq-pak.readme\r\n",
      "-rwxr-xr-x 1 ava00114 users    4422102 Feb 27 16:39 t10k-images-idx3-ubyte.gz\r\n",
      "-rwxr-xr-x 1 ava00114 users       5148 Feb 27 16:39 t10k-labels-idx1-ubyte.gz\r\n",
      "-rwxr-xr-x 1 ava00114 users   26421880 Feb 27 16:39 train-images-idx3-ubyte.gz\r\n",
      "-rwxr-xr-x 1 ava00114 users      29515 Feb 27 16:39 train-labels-idx1-ubyte.gz\r\n",
      "-rwxr-xr-x 1 ava00114 users 3127449759 Feb 27 17:14 yelp_dataset.tar.gz\r\n"
     ]
    }
   ],
   "source": [
    "!ls -la $paths.raw_data_path"
   ]
  },
  {
   "cell_type": "markdown",
   "metadata": {},
   "source": [
    "Since we did not specify a hash, or target filename, these are inferred from the downloaded file:"
   ]
  },
  {
   "cell_type": "code",
   "execution_count": 16,
   "metadata": {},
   "outputs": [
    {
     "data": {
      "text/plain": [
       "[{'hash_type': 'sha1',\n",
       "  'hash_value': '096ac5ced8a9229ecc5116e77b6be8d8f90fdacb',\n",
       "  'name': None,\n",
       "  'source_file': PosixPath('/mnt/timc/downloads/yelp_dataset.tar.gz'),\n",
       "  'file_name': 'yelp_dataset.tar.gz'}]"
      ]
     },
     "execution_count": 16,
     "metadata": {},
     "output_type": "execute_result"
    }
   ],
   "source": [
    "dsrc.file_list"
   ]
  },
  {
   "cell_type": "markdown",
   "metadata": {},
   "source": [
    "### Unpacking Raw Data Files"
   ]
  },
  {
   "cell_type": "code",
   "execution_count": 18,
   "metadata": {},
   "outputs": [
    {
     "name": "stderr",
     "output_type": "stream",
     "text": [
      "2019-02-27 17:25:23,300 - fetch - DEBUG - Extracting yelp_dataset.tar.gz\n"
     ]
    },
    {
     "name": "stdout",
     "output_type": "stream",
     "text": [
      "CPU times: user 58.6 s, sys: 8.66 s, total: 1min 7s\n",
      "Wall time: 1min 38s\n"
     ]
    }
   ],
   "source": [
    "%%time\n",
    "unpack_dir = dsrc.unpack()"
   ]
  },
  {
   "cell_type": "markdown",
   "metadata": {},
   "source": [
    "By default, files are decompressed/unpacked to the `paths.interim_data_path`/`datasource_name` directory:"
   ]
  },
  {
   "cell_type": "code",
   "execution_count": 19,
   "metadata": {},
   "outputs": [
    {
     "name": "stdout",
     "output_type": "stream",
     "text": [
      "total 0\r\n",
      "drwxr-xr-x 2 ava00114 users 0 Feb 27 17:22 .\r\n",
      "drwxr-xr-x 2 ava00114 users 0 Feb 27 13:20 ..\r\n",
      "drwxr-xr-x 2 ava00114 users 0 Feb 27 16:39 fmnist\r\n",
      "-rwxr-xr-x 1 ava00114 users 0 Feb 26 12:08 .gitkeep\r\n",
      "drwxr-xr-x 2 ava00114 users 0 Feb 27 16:39 lvq-pak\r\n",
      "drwxr-xr-x 2 ava00114 users 0 Feb 27 17:24 yelp\r\n"
     ]
    }
   ],
   "source": [
    "!ls -la $paths.interim_data_path"
   ]
  },
  {
   "cell_type": "code",
   "execution_count": null,
   "metadata": {},
   "outputs": [],
   "source": [
    "# We unpack everything into interim_data_path/datasource_name, which is returned by `unpack()`"
   ]
  },
  {
   "cell_type": "code",
   "execution_count": 20,
   "metadata": {},
   "outputs": [
    {
     "name": "stdout",
     "output_type": "stream",
     "text": [
      "total 7182460\r\n",
      "drwxr-xr-x 2 ava00114 users       4096 Feb 27 17:24 .\r\n",
      "drwxr-xr-x 2 ava00114 users          0 Feb 27 17:22 ..\r\n",
      "-rwxr-xr-x 1 ava00114 users        674 Jul 31  2018 ._Dataset_Challenge_Dataset_Agreement.pdf\r\n",
      "-rwxr-xr-x 1 ava00114 users     100912 Jul 31  2018 Dataset_Challenge_Dataset_Agreement.pdf\r\n",
      "-rwxr-xr-x 1 ava00114 users  146374098 Jul  2  2018 yelp_academic_dataset_business.json\r\n",
      "-rwxr-xr-x 1 ava00114 users   52744210 Jul  2  2018 yelp_academic_dataset_checkin.json\r\n",
      "-rwxr-xr-x 1 ava00114 users   36596656 Jul 31  2018 yelp_academic_dataset_photo.json\r\n",
      "-rwxr-xr-x 1 ava00114 users 4717078453 Jul  2  2018 yelp_academic_dataset_review.json\r\n",
      "-rwxr-xr-x 1 ava00114 users  213316940 Jul  2  2018 yelp_academic_dataset_tip.json\r\n",
      "-rwxr-xr-x 1 ava00114 users 2188485470 Jul  2  2018 yelp_academic_dataset_user.json\r\n",
      "-rwxr-xr-x 1 ava00114 users        674 Jul 31  2018 ._Yelp_Dataset_Challenge_Round_12.pdf\r\n",
      "-rwxr-xr-x 1 ava00114 users     111712 Jul 31  2018 Yelp_Dataset_Challenge_Round_12.pdf\r\n"
     ]
    }
   ],
   "source": [
    "!ls -la $unpack_dir"
   ]
  },
  {
   "cell_type": "markdown",
   "metadata": {},
   "source": [
    "### Adding Metadata to Raw Data\n",
    "Wait, what have we actually downloaded, and are we actually allowed to **use** this data? We keep track of two key pieces of metadata along with a raw dataset:\n",
    "* Description (`DESCR`) Text: Human-readable text describing the dataset, its source, and what it represents\n",
    "* License (`LICENSE`) Text: Terms of use for this dataset, often in the form of a license agreement"
   ]
  },
  {
   "cell_type": "markdown",
   "metadata": {},
   "source": [
    "Often, a dataset comes complete with its own README and LICENSE files. If these are available via URL, we can add these like we add any other data file, tagging them as metadata using the `name` field:"
   ]
  },
  {
   "cell_type": "code",
   "execution_count": 21,
   "metadata": {},
   "outputs": [],
   "source": [
    "yelp_license = \"\"\"\n",
    "YELP DATASET TERMS OF USE\n",
    "\n",
    "Last Updated: July 26, 2018\n",
    "This document governs the terms under which you may access and use the data that Yelp\n",
    "makes available for download through this website (or made available by other means) for\n",
    "academic purposes (the “Data”). This document incorporates the terms of the following\n",
    "additional document, including all future amendments or modifications thereto (collectively, and\n",
    "together with this document, the “Data Agreement” ):\n",
    "\n",
    "Yelp Terms of Service:\n",
    "\n",
    "By accessing or using the Data, you agree to be bound by the Data Agreement and represent\n",
    "that the contact information you provide to Yelp is correct. If you access or use the Data on\n",
    "behalf of a university, school, or other entity, you represent that you have authority to bind such\n",
    "entity and its affiliates to the Data Agreement and that it is fully binding upon them. In such\n",
    "case, the term “you” and “your” will refer to such entity and its affiliates. If you do not have\n",
    "authority, or if you do not agree with the terms of the Data Agreement, you may not access or\n",
    "use the Data. You should read and keep a copy of each component of the Data Agreement for\n",
    "your records. In the event of a conflict among them, the terms of this document will control.\n",
    "\n",
    "1. Purpose\n",
    "\n",
    "The Data is made available by Yelp Inc. (“Yelp”) to enable you to access valuable\n",
    "local information to develop an academic project as part of an ongoing course of study. With this\n",
    "in mind, Yelp reserves the right to continually review and evaluate all uses of the Data provided\n",
    "under the Data Agreement.\n",
    "\n",
    "2. Changes\n",
    "\n",
    "Yelp reserves the right to modify or revise the Data Agreement at any time. If the\n",
    "change is deemed to be material and it is foreseeable that such change could be adverse to\n",
    "your interests, Yelp will provide you notice of the change to this Data Agreement by sending you\n",
    "an email to the email you provided to Yelp. Your continued use of the Data after the notice of\n",
    "material change will constitute your acceptance of and agreement to such changes. \n",
    "\n",
    "If YOU DO\n",
    "NOT WISH TO BE BOUND TO ANY NEW TERMS, YOU MUST TERMINATE THE DATA\n",
    "AGREEMENT BY IMMEDIATELY CEASING USE OF THE DATA AND DELETING IT FROM\n",
    "ANY SYSTEMS OR MEDIA.\n",
    "\n",
    "3. License\n",
    "\n",
    "Subject to the terms set forth in the Data Agreement (specifically the restrictions set\n",
    "forth in Section 4 below), Yelp grants you a royalty-free, non-exclusive, revocable,\n",
    "non-sublicensable, non-transferable, fully paid-up right and license during the Term to use,\n",
    "access, and create derivative works of the Data in electronic form for academic purposes only.\n",
    "You may not use the Data for any other purpose without Yelp’s prior written consent. You\n",
    "acknowledge and agree that Yelp may request information about, review, audit, and/or monitor\n",
    "your use of the Data at any time in order to confirm compliance with the Data Agreement.\n",
    "Nothing herein shall be construed as a license to use Yelp’s registered trademarks or service\n",
    "marks, or any other Yelp branding.\n",
    "\n",
    "4. Restrictions\n",
    "\n",
    "You agree that you will not, and will not encourage, assist, or enable others to:\n",
    "A. display, perform, or distribute any of the Data, or use the Data to update or create\n",
    "your own business listing information (i.e. you may not publicly display any of the Data to any\n",
    "third party, especially reviews and other user generated content, as this is a private data set\n",
    "challenge and not a license to compete with or disparage with Yelp);\n",
    "B. use the Data in connection with any commercial purpose;\n",
    "C. use the Data in any manner or for any purpose that may violate any law or regulation,\n",
    "or any right of any person including, but not limited to, intellectual property rights, rights of\n",
    "privacy and/or rights of personality, or which otherwise may be harmful (in Yelp's sole\n",
    "discretion) to Yelp, its providers, its suppliers, end users of this website, or your end users;\n",
    "D. use the Data on behalf of any third party without Yelp’s consent;\n",
    "E. create, redistribute or disclose any summary of, or metrics related to, the Data (e.g.,\n",
    "the number of reviewed business included in the Data and other statistical analysis) to any third\n",
    "party or on any website or other electronic media not expressly covered by this Agreement, this\n",
    "provision however, excludes any disclosures necessary for academic purposes, including\n",
    "without limitation the publication of academic articles concerning your use of the Data;\n",
    "F. use the Data in a manner that is competitive in nature with Yelp;\n",
    "G. display Data in a manner that could reasonably imply an endorsement, relationship or\n",
    "affiliation with or sponsorship between you or a third party and Yelp, other than your permitted\n",
    "use of the Data under the terms of the Data Agreement;\n",
    "H. rent, lease, sell, transfer, assign, or sublicense, any part of the Data;\n",
    "I. modify, rate, rank, review, vote or comment on, or otherwise respond to the content\n",
    "contained in the Data;\n",
    "J. display the Data or publicly communicate in any way, or on any site, in a manner that\n",
    "disparages Yelp or its products or services, or infringes any Yelp intellectual property or other\n",
    "rights;\n",
    "K. use the Data in a manner that could reasonably be interpreted to suggest that Yelp is\n",
    "the author or entity that is responsible, in whole or in part, for the creation or development of any\n",
    "Data or that such Data represents the views of Yelp; or\n",
    "L. use the Data for any purpose prohibited by law.\n",
    "\n",
    "5. Ownership\n",
    "\n",
    "As between you and Yelp, the Data and any derivative works you create from the\n",
    "Data, and all intellectual property rights contained in the foregoing, are and will at all times\n",
    "remain the sole and exclusive property of Yelp and are protected by applicable intellectual\n",
    "property laws and treaties (whether those rights happen to be registered or not, and wherever in\n",
    "the world those rights may exist), or as otherwise set forth in the contest rules where the various\n",
    "submitted solutions must be made available under a specified open source license, such as the\n",
    "MIT License.\n",
    "\n",
    "6. Indemnity\n",
    "\n",
    "You agree that your use of the Data is at your own risk and you agree to hold\n",
    "harmless, defend (subject to Yelp's right to participate with counsel it selects) and indemnify\n",
    "Yelp and its subsidiaries, affiliates, officers, agents, employees and suppliers from and against\n",
    "any and all claims, damages, liabilities, costs and fees (including reasonable attorneys’ fee)\n",
    "arising from, or in any way related to your or your end users’ use or implementation of the Data.\n",
    "You will not agree to any settlement that imposes any obligation on Yelp without Yelp's prior\n",
    "consent.\n",
    "                  \n",
    "7. No Warranties by Yelp; No Entitlement to Support from Yelp\n",
    "\n",
    "THE DATA IS PROVIDED\n",
    "“AS IS”, “WITH ALL FAULTS” AND “AS AVAILABLE” WITHOUT WARRANTY, OF ANY KIND\n",
    "AND AT YOUR SOLE RISK. EXCEPT TO THE MAXIMUM EXTENT REQUIRED BY\n",
    "APPLICABLE LAW, YELP DISCLAIMS ALL WARRANTIES, REPRESENTATIONS,\n",
    "CONDITIONS, AND DUTIES, WHETHER EXPRESS, IMPLIED OR STATUTORY,\n",
    "REGARDING THE DATA, INCLUDING, WITHOUT LIMITATION, ANY AND ALL IMPLIED\n",
    "WARRANTIES OF MERCHANTABILITY, ACCURACY, RESULTS OF USE, RELIABILITY,\n",
    "FITNESS FOR A PARTICULAR PURPOSE, TITLE, INTERFERENCE WITH QUIET\n",
    "ENJOYMENT AND NON-INFRINGEMENT OF THIRD-PARTY RIGHTS. FURTHER, YELP\n",
    "DISCLAIMS ANY WARRANTY THAT YOUR USE OF THE DATA WILL BE UNINTERRUPTED,\n",
    "SECURE, TIMELY OR ERROR FREE. FOR THE AVOIDANCE OF DOUBT, YOU\n",
    "ACKNOWLEDGE AND AGREE THAT THE DATA AGREEMENT DOES NOT ENTITLE YOU\n",
    "TO ANY SUPPORT FOR THE DATA. NO ADVICE OR INFORMATION, WHETHER ORAL OR\n",
    "IN WRITING, OBTAINED BY YOU FROM YELP WILL CREATE ANY WARRANTY NOT\n",
    "EXPRESSLY STATED IN THE DATA AGREEMENT.\n",
    "\n",
    "8. Limitation of Liability\n",
    "\n",
    "THE DATA IS BEING PROVIDED FREE OF CHARGE.\n",
    "ACCORDINGLY, YOU AGREE THAT YELP SHALL HAVE NO LIABILITY ARISING FROM OR\n",
    "BASED ON YOUR USE OF THE DATA. REGARDLESS OF WHETHER ANY REMEDY SET\n",
    "FORTH HEREIN FAILS OF ITS ESSENTIAL PURPOSE OR OTHERWISE, AND EXCEPT FOR\n",
    "BODILY INJURY, IN NO EVENT SHALL YELP OR ITS SUBSIDIARIES, AFFILIATES,\n",
    "OFFICERS, AGENTS, EMPLOYEES AND SUPPLIERS BE LIABLE TO YOU OR TO ANY\n",
    "THIRD PARTY UNDER ANY TORT, CONTRACT, NEGLIGENCE, STRICT LIABILITY OR\n",
    "OTHER LEGAL OR EQUITABLE THEORY FOR ANY LOST PROFITS, LOST OR\n",
    "CORRUPTED DATA, COMPUTER FAILURE OR MALFUNCTION, INTERRUPTION OF\n",
    "BUSINESS, OR OTHER SPECIAL, INDIRECT, INCIDENTAL OR CONSEQUENTIAL\n",
    "DAMAGES OF ANY KIND ARISING OUT OF THE USE OR INABILITY TO USE THE DATA,\n",
    "EVEN IF YELP HAS BEEN ADVISED OF THE POSSIBILITY OF SUCH LOSS OR DAMAGES\n",
    "AND WHETHER OR NOT SUCH LOSS OR DAMAGES ARE FORESEEABLE. ANY CLAIM\n",
    "ARISING OUT OF OR RELATING TO THE DATA AGREEMENT MUST BE BROUGHT WITHIN\n",
    "(1) YEAR AFTER THE OCCURRENCE OF THE EVENT GIVING RISE TO SUCH CLAIM. IF\n",
    "SUCH CLAIM IS NOT FILED, THEN THAT CLAIM IS PERMANENTLY BARRED. THIS\n",
    "APPLIES TO YOU AND YOUR SUCCESSORS, AND TO YELP AND ITS SUCCESSORS.\n",
    "NOTWITHSTANDING THE FOREGOING, SINCE THIS LICENSE IS PROVIDED TO YOU AT\n",
    "NO CHARGE, YELP’S MAXIMUM LIABILITY UNDER THIS DATA AGREEMENT SHALL NOT,\n",
    "IN ANY EVENT, EXCEED US$50.00.\n",
    "\n",
    "9. Limited Relationship\n",
    "                  \n",
    "Yelp and You are, and will remain, independent contractors, and\n",
    "nothing in the Data Agreement will be construed as creating an employer-employee\n",
    "relationship, partnership or joint venture. Although you are permitted to publicize your use of the\n",
    "Data, you agree not to make any other statements, without the prior written consent of Yelp,\n",
    "implying a different kind of relationship between you and Yelp, including any implied\n",
    "endorsement by Yelp. You do not have any authority of any kind to bind Yelp in any respect\n",
    "whatsoever.\n",
    "\n",
    "10. Term and Termination\n",
    "                  \n",
    "This Data Agreement is effective as of the date you download or\n",
    "otherwise access the Data (“Effective Date” ) and shall continue in full force and effect for a term\n",
    "of twelve (12) months from the Effective Date, unless earlier terminated by the parties or expires\n",
    "in accordance with this Section 11 (the “Term”). Either party may immediately terminate this\n",
    "Data Agreement, for any reason or for no reason, by providing written notice to the other party.\n",
    "Yelp will provide notice of termination to the email account you provided to Yelp during\n",
    "registration and termination will be effective upon delivery of the email notice. Yelp reserves the\n",
    "right, in its sole discretion (for any reason or for no reason) and at any time without notice to\n",
    "you, to change, suspend or discontinue the Data and/or suspend or terminate your further\n",
    "access to the Data. Any termination of the Data Agreement will also immediately terminate the\n",
    "licenses granted to you hereunder. Upon any termination of the Data Agreement, you will\n",
    "promptly: (i) delete and remove all Data from any location, including any web pages, scripts,\n",
    "widgets, applications and any other software in your possession or under your control; (ii)\n",
    "destroy and remove from all computers, hard drives, networks and other storage media in your\n",
    "possession or under your control all copies of any Data; and (iii) upon Yelp’s request, certify in\n",
    "writing to Yelp that such actions have been taken.\n",
    "\n",
    "11. Miscellaneous\n",
    "                  \n",
    "The Data Agreement encompasses the entire agreement between you and\n",
    "Yelp regarding the subject matter discussed therein. The Data Agreement, and any disputes\n",
    "arising from or relating to the interpretation thereof, will be governed by and construed under the\n",
    "laws of the State of California without regard to its conflict of law provisions. You agree to\n",
    "personal jurisdiction by and venue in the state and federal courts of the State of California, City\n",
    "of San Francisco. The failure of Yelp to exercise or enforce any right or provision of the Data\n",
    "Agreement will not constitute a waiver of such right or provision. The failure of either party to\n",
    "exercise in any respect any right provided for herein will not be deemed a waiver of any further\n",
    "rights hereunder. If any provision of the Data Agreement is found to be unenforceable or invalid,\n",
    "that provision will be replaced with terms that most closely match the intent of the provision that\n",
    "is not enforceable to the minimum extent necessary so that the remaining Data Agreement will\n",
    "otherwise remain in full force and effect and enforceable. The Data Agreement is not\n",
    "assignable, transferable or sublicensable, in whole or in part, by you except with Yelp's prior\n",
    "written consent. Any attempt to do so is void. Yelp may assign the Data Agreement, in whole or\n",
    "in part, at any time with or without notice to you. The section titles in the Data Agreement are for\n",
    "convenience only and have no legal or contractual effect.\n",
    "\n",
    "12. Survival \n",
    "\n",
    "Sections 4 through 13 will survive any expiration or termination of this Data\n",
    "Agreement for any reason.\n",
    "\n",
    "13.  Contact and Violations\n",
    "                  \n",
    "Please contact Yelp with any questions regarding the Data\n",
    "Agreement. Please report any violations of the Data Agreement couvidat@yelp.com.\n",
    "\"\"\""
   ]
  },
  {
   "cell_type": "code",
   "execution_count": 22,
   "metadata": {},
   "outputs": [],
   "source": [
    "yelp_readme = '''\n",
    "Yelp Dataset JSON\n",
    "\n",
    "Each file is composed of a single object type, one JSON-object per-line.\n",
    "\n",
    "Take a look at some examples to get you started: https://github.com/Yelp/dataset-examples.\n",
    "\n",
    "Note: the follow examples contain inline comments, which are technically not valid JSON. This is done here to simplify the documentation and explaining the structure, the JSON files you download will not contain any comments and will be fully valid JSON.\n",
    "business.json\n",
    "\n",
    "Contains business data including location data, attributes, and categories.\n",
    "\n",
    "{\n",
    "    // string, 22 character unique string business id\n",
    "    \"business_id\": \"tnhfDv5Il8EaGSXZGiuQGg\",\n",
    "\n",
    "    // string, the business's name\n",
    "    \"name\": \"Garaje\",\n",
    "\n",
    "    // string, the neighborhood's name\n",
    "    \"neighborhood\": \"SoMa\",\n",
    "\n",
    "    // string, the full address of the business\n",
    "    \"address\": \"475 3rd St\",\n",
    "\n",
    "    // string, the city\n",
    "    \"city\": \"San Francisco\",\n",
    "\n",
    "    // string, 2 character state code, if applicable\n",
    "    \"state\": \"CA\",\n",
    "\n",
    "    // string, the postal code\n",
    "    \"postal code\": \"94107\",\n",
    "\n",
    "    // float, latitude\n",
    "    \"latitude\": 37.7817529521,\n",
    "\n",
    "    // float, longitude\n",
    "    \"longitude\": -122.39612197,\n",
    "\n",
    "    // float, star rating, rounded to half-stars\n",
    "    \"stars\": 4.5,\n",
    "\n",
    "    // interger, number of reviews\n",
    "    \"review_count\": 1198,\n",
    "\n",
    "    // integer, 0 or 1 for closed or open, respectively\n",
    "    \"is_open\": 1,\n",
    "\n",
    "    // object, business attributes to values. note: some attribute values might be objects\n",
    "    \"attributes\": {\n",
    "        \"RestaurantsTakeOut\": true,\n",
    "        \"BusinessParking\": {\n",
    "            \"garage\": false,\n",
    "            \"street\": true,\n",
    "            \"validated\": false,\n",
    "            \"lot\": false,\n",
    "            \"valet\": false\n",
    "        },\n",
    "    },\n",
    "\n",
    "    // an array of strings of business categories\n",
    "    \"categories\": [\n",
    "        \"Mexican\",\n",
    "        \"Burgers\",\n",
    "        \"Gastropubs\"\n",
    "    ],\n",
    "\n",
    "    // an object of key day to value hours, hours are using a 24hr clock\n",
    "    \"hours\": {\n",
    "        \"Monday\": \"10:00-21:00\",\n",
    "        \"Tuesday\": \"10:00-21:00\",\n",
    "        \"Friday\": \"10:00-21:00\",\n",
    "        \"Wednesday\": \"10:00-21:00\",\n",
    "        \"Thursday\": \"10:00-21:00\",\n",
    "        \"Sunday\": \"11:00-18:00\",\n",
    "        \"Saturday\": \"10:00-21:00\"\n",
    "    }\n",
    "}\n",
    "\n",
    "review.json\n",
    "\n",
    "Contains full review text data including the user_id that wrote the review and the business_id the review is written for.\n",
    "\n",
    "{\n",
    "    // string, 22 character unique review id\n",
    "    \"review_id\": \"zdSx_SD6obEhz9VrW9uAWA\",\n",
    "\n",
    "    // string, 22 character unique user id, maps to the user in user.json\n",
    "    \"user_id\": \"Ha3iJu77CxlrFm-vQRs_8g\",\n",
    "\n",
    "    // string, 22 character business id, maps to business in business.json\n",
    "    \"business_id\": \"tnhfDv5Il8EaGSXZGiuQGg\",\n",
    "\n",
    "    // integer, star rating\n",
    "    \"stars\": 4,\n",
    "\n",
    "    // string, date formatted YYYY-MM-DD\n",
    "    \"date\": \"2016-03-09\",\n",
    "\n",
    "    // string, the review itself\n",
    "    \"text\": \"Great place to hang out after work: the prices are decent, and the ambience is fun. It's a bit loud, but very lively. The staff is friendly, and the food is good. They have a good selection of drinks.\",\n",
    "\n",
    "    // integer, number of useful votes received\n",
    "    \"useful\": 0,\n",
    "\n",
    "    // integer, number of funny votes received\n",
    "    \"funny\": 0,\n",
    "\n",
    "    // integer, number of cool votes received\n",
    "    \"cool\": 0\n",
    "}\n",
    "\n",
    "user.json\n",
    "\n",
    "User data including the user's friend mapping and all the metadata associated with the user.\n",
    "\n",
    "{\n",
    "    // string, 22 character unique user id, maps to the user in user.json\n",
    "    \"user_id\": \"Ha3iJu77CxlrFm-vQRs_8g\",\n",
    "\n",
    "    // string, the user's first name\n",
    "    \"name\": \"Sebastien\",\n",
    "\n",
    "    // integer, the number of reviews they've written\n",
    "    \"review_count\": 56,\n",
    "\n",
    "    // string, when the user joined Yelp, formatted like YYYY-MM-DD\n",
    "    \"yelping_since\": \"2011-01-01\",\n",
    "\n",
    "    // array of strings, an array of the user's friend as user_ids\n",
    "    \"friends\": [\n",
    "        \"wqoXYLWmpkEH0YvTmHBsJQ\",\n",
    "        \"KUXLLiJGrjtSsapmxmpvTA\",\n",
    "        \"6e9rJKQC3n0RSKyHLViL-Q\"\n",
    "    ],\n",
    "\n",
    "    // integer, number of useful votes sent by the user\n",
    "    \"useful\": 21,\n",
    "\n",
    "    // integer, number of funny votes sent by the user\n",
    "    \"funny\": 88,\n",
    "\n",
    "    // integer, number of cool votes sent by the user\n",
    "    \"cool\": 15,\n",
    "\n",
    "    // integer, number of fans the user has\n",
    "    \"fans\": 1032,\n",
    "\n",
    "    // array of integers, the years the user was elite\n",
    "    \"elite\": [\n",
    "        2012,\n",
    "        2013\n",
    "    ],\n",
    "\n",
    "    // float, average rating of all reviews\n",
    "    \"average_stars\": 4.31,\n",
    "\n",
    "    // integer, number of hot compliments received by the user\n",
    "    \"compliment_hot\": 339,\n",
    "\n",
    "    // integer, number of more compliments received by the user\n",
    "    \"compliment_more\": 668,\n",
    "\n",
    "    // integer, number of profile compliments received by the user\n",
    "    \"compliment_profile\": 42,\n",
    "\n",
    "    // integer, number of cute compliments received by the user\n",
    "    \"compliment_cute\": 62,\n",
    "\n",
    "    // integer, number of list compliments received by the user\n",
    "    \"compliment_list\": 37,\n",
    "\n",
    "    // integer, number of note compliments received by the user\n",
    "    \"compliment_note\": 356,\n",
    "\n",
    "    // integer, number of plain compliments received by the user\n",
    "    \"compliment_plain\": 68,\n",
    "\n",
    "    // integer, number of cool compliments received by the user\n",
    "    \"compliment_cool\": 91,\n",
    "\n",
    "    // integer, number of funny compliments received by the user\n",
    "    \"compliment_funny\": 99,\n",
    "\n",
    "    // integer, number of writer compliments received by the user\n",
    "    \"compliment_writer\": 95,\n",
    "\n",
    "    // integer, number of photo compliments received by the user\n",
    "    \"compliment_photos\": 50\n",
    "}\n",
    "\n",
    "checkin.json\n",
    "\n",
    "Checkins on a business.\n",
    "\n",
    "{\n",
    "    // nested object of the day of the week with key of\n",
    "    // the hour (using a 24hr clock) with the count of checkins\n",
    "    // for that hour (e.g. 14:00 - 14:59).\n",
    "    \"time\": {\n",
    "        \"Wednesday\": {\n",
    "            \"14:00\": 2,\n",
    "            \"16:00\": 1,\n",
    "            \"2:00\": 1,\n",
    "            \"0:00\": 1\n",
    "        },\n",
    "        \"Sunday\": {\n",
    "            \"16:00\": 8,\n",
    "            \"14:00\": 3,\n",
    "            \"15:00\": 3,\n",
    "            \"13:00\": 1,\n",
    "            \"18:00\": 2,\n",
    "            \"23:00\": 1,\n",
    "            \"21:00\": 1,\n",
    "            \"17:00\": 2\n",
    "        },\n",
    "        \"Friday\": {\n",
    "            \"16:00\": 1,\n",
    "            \"13:00\": 1,\n",
    "            \"11:00\": 2,\n",
    "            \"23:00\": 2\n",
    "        },\n",
    "    },\n",
    "\n",
    "    // string, 22 character business id, maps to business in business.json\n",
    "    \"business_id\": \"tnhfDv5Il8EaGSXZGiuQGg\"\n",
    "}\n",
    "\n",
    "tip.json\n",
    "\n",
    "Tips written by a user on a business. Tips are shorter than reviews and tend to convey quick suggestions.\n",
    "\n",
    "{\n",
    "    // string, text of the tip\n",
    "    \"text\": \"Secret menu - fried chicken sando is da bombbbbbb Their zapatos are good too.\",\n",
    "\n",
    "    // string, when the tip was written, formatted like YYYY-MM-DD\n",
    "    \"date\": \"2013-09-20\",\n",
    "\n",
    "    // integer, how many likes it has\n",
    "    \"likes\": 172,\n",
    "\n",
    "    // string, 22 character business id, maps to business in business.json\n",
    "    \"business_id\": \"tnhfDv5Il8EaGSXZGiuQGg\",\n",
    "\n",
    "    // string, 22 character unique user id, maps to the user in user.json\n",
    "    \"user_id\": \"49JhAJh8vSQ-vM4Aourl0g\"\n",
    "}\n",
    "\n",
    "photo.json\n",
    "\n",
    "Contains photo data including the caption and classification (one of \"food\", \"drink\", \"menu\", \"inside\" or \"outside\").\n",
    "\n",
    "{\n",
    "    // string, 22 character unique photo id\n",
    "    \"photo_id\": \"_nN_DhLXkfwEkwPNxne9hw\",\n",
    "\n",
    "\n",
    "    // string, 22 character business id, maps to business in business.json\n",
    "    \"business_id\" : \"tnhfDv5Il8EaGSXZGiuQGg\",\n",
    "\n",
    "    // string, the photo caption, if any\n",
    "    \"caption\" : \"carne asada fries\",\n",
    "\n",
    "    // string, the category the photo belongs to, if any\n",
    "    \"label\" : \"food\"\n",
    "}\n",
    "'''\n"
   ]
  },
  {
   "cell_type": "code",
   "execution_count": 24,
   "metadata": {},
   "outputs": [],
   "source": [
    "dsrc.add_metadata(kind='DESCR', contents=yelp_readme)\n",
    "dsrc.add_metadata(kind='LICENSE', contents=yelp_license)\n"
   ]
  },
  {
   "cell_type": "code",
   "execution_count": 55,
   "metadata": {
    "scrolled": true
   },
   "outputs": [
    {
     "name": "stderr",
     "output_type": "stream",
     "text": [
      "2019-02-28 13:30:37,598 - fetch - DEBUG - yelp_dataset.tar.gz already exists and hash is valid\n",
      "2019-02-28 13:30:37,634 - fetch - DEBUG - Creating yelp.readme from `contents` string\n",
      "2019-02-28 13:30:37,687 - fetch - DEBUG - yelp.readme already exists and hash is valid\n",
      "2019-02-28 13:30:37,689 - fetch - DEBUG - Creating yelp.readme from `contents` string\n",
      "2019-02-28 13:30:37,726 - fetch - DEBUG - yelp.readme already exists and hash is valid\n",
      "2019-02-28 13:30:37,727 - fetch - DEBUG - Creating yelp.license from `contents` string\n",
      "2019-02-28 13:30:37,769 - fetch - DEBUG - yelp.license already exists and hash is valid\n",
      "2019-02-28 13:32:15,310 - fetch - DEBUG - Extracting yelp_dataset.tar.gz\n",
      "2019-02-28 13:32:15,326 - fetch - DEBUG - Copying yelp.readme\n",
      "2019-02-28 13:32:15,354 - fetch - DEBUG - Copying yelp.readme\n",
      "2019-02-28 13:32:15,370 - fetch - DEBUG - Copying yelp.license\n"
     ]
    },
    {
     "name": "stdout",
     "output_type": "stream",
     "text": [
      "CPU times: user 1min 1s, sys: 10.5 s, total: 1min 11s\n",
      "Wall time: 2min 4s\n"
     ]
    }
   ],
   "source": [
    "%%time\n",
    "dsrc.fetch(force=True)\n",
    "dsrc.unpack(force=True)"
   ]
  },
  {
   "cell_type": "code",
   "execution_count": 34,
   "metadata": {},
   "outputs": [],
   "source": [
    "# We now fetch 2 files. Note the metadata has been tagged accordingly in the `name` field\n",
    "dsrc.file_list[0]['source_file']=str(dsrc.file_list[0]['source_file'])"
   ]
  },
  {
   "cell_type": "code",
   "execution_count": 36,
   "metadata": {},
   "outputs": [
    {
     "data": {
      "text/plain": [
       "[{'hash_type': 'sha1',\n",
       "  'hash_value': '096ac5ced8a9229ecc5116e77b6be8d8f90fdacb',\n",
       "  'name': None,\n",
       "  'source_file': '/mnt/timc/downloads/yelp_dataset.tar.gz',\n",
       "  'file_name': 'yelp_dataset.tar.gz'},\n",
       " {'contents': '\\nYelp Dataset JSON\\n\\nEach file is composed of a single object type, one JSON-object per-line.\\n\\nTake a look at some examples to get you started: https://github.com/Yelp/dataset-examples.\\n\\nNote: the follow examples contain inline comments, which are technically not valid JSON. This is done here to simplify the documentation and explaining the structure, the JSON files you download will not contain any comments and will be fully valid JSON.\\nbusiness.json\\n\\nContains business data including location data, attributes, and categories.\\n\\n{\\n    // string, 22 character unique string business id\\n    \"business_id\": \"tnhfDv5Il8EaGSXZGiuQGg\",\\n\\n    // string, the business\\'s name\\n    \"name\": \"Garaje\",\\n\\n    // string, the neighborhood\\'s name\\n    \"neighborhood\": \"SoMa\",\\n\\n    // string, the full address of the business\\n    \"address\": \"475 3rd St\",\\n\\n    // string, the city\\n    \"city\": \"San Francisco\",\\n\\n    // string, 2 character state code, if applicable\\n    \"state\": \"CA\",\\n\\n    // string, the postal code\\n    \"postal code\": \"94107\",\\n\\n    // float, latitude\\n    \"latitude\": 37.7817529521,\\n\\n    // float, longitude\\n    \"longitude\": -122.39612197,\\n\\n    // float, star rating, rounded to half-stars\\n    \"stars\": 4.5,\\n\\n    // interger, number of reviews\\n    \"review_count\": 1198,\\n\\n    // integer, 0 or 1 for closed or open, respectively\\n    \"is_open\": 1,\\n\\n    // object, business attributes to values. note: some attribute values might be objects\\n    \"attributes\": {\\n        \"RestaurantsTakeOut\": true,\\n        \"BusinessParking\": {\\n            \"garage\": false,\\n            \"street\": true,\\n            \"validated\": false,\\n            \"lot\": false,\\n            \"valet\": false\\n        },\\n    },\\n\\n    // an array of strings of business categories\\n    \"categories\": [\\n        \"Mexican\",\\n        \"Burgers\",\\n        \"Gastropubs\"\\n    ],\\n\\n    // an object of key day to value hours, hours are using a 24hr clock\\n    \"hours\": {\\n        \"Monday\": \"10:00-21:00\",\\n        \"Tuesday\": \"10:00-21:00\",\\n        \"Friday\": \"10:00-21:00\",\\n        \"Wednesday\": \"10:00-21:00\",\\n        \"Thursday\": \"10:00-21:00\",\\n        \"Sunday\": \"11:00-18:00\",\\n        \"Saturday\": \"10:00-21:00\"\\n    }\\n}\\n\\nreview.json\\n\\nContains full review text data including the user_id that wrote the review and the business_id the review is written for.\\n\\n{\\n    // string, 22 character unique review id\\n    \"review_id\": \"zdSx_SD6obEhz9VrW9uAWA\",\\n\\n    // string, 22 character unique user id, maps to the user in user.json\\n    \"user_id\": \"Ha3iJu77CxlrFm-vQRs_8g\",\\n\\n    // string, 22 character business id, maps to business in business.json\\n    \"business_id\": \"tnhfDv5Il8EaGSXZGiuQGg\",\\n\\n    // integer, star rating\\n    \"stars\": 4,\\n\\n    // string, date formatted YYYY-MM-DD\\n    \"date\": \"2016-03-09\",\\n\\n    // string, the review itself\\n    \"text\": \"Great place to hang out after work: the prices are decent, and the ambience is fun. It\\'s a bit loud, but very lively. The staff is friendly, and the food is good. They have a good selection of drinks.\",\\n\\n    // integer, number of useful votes received\\n    \"useful\": 0,\\n\\n    // integer, number of funny votes received\\n    \"funny\": 0,\\n\\n    // integer, number of cool votes received\\n    \"cool\": 0\\n}\\n\\nuser.json\\n\\nUser data including the user\\'s friend mapping and all the metadata associated with the user.\\n\\n{\\n    // string, 22 character unique user id, maps to the user in user.json\\n    \"user_id\": \"Ha3iJu77CxlrFm-vQRs_8g\",\\n\\n    // string, the user\\'s first name\\n    \"name\": \"Sebastien\",\\n\\n    // integer, the number of reviews they\\'ve written\\n    \"review_count\": 56,\\n\\n    // string, when the user joined Yelp, formatted like YYYY-MM-DD\\n    \"yelping_since\": \"2011-01-01\",\\n\\n    // array of strings, an array of the user\\'s friend as user_ids\\n    \"friends\": [\\n        \"wqoXYLWmpkEH0YvTmHBsJQ\",\\n        \"KUXLLiJGrjtSsapmxmpvTA\",\\n        \"6e9rJKQC3n0RSKyHLViL-Q\"\\n    ],\\n\\n    // integer, number of useful votes sent by the user\\n    \"useful\": 21,\\n\\n    // integer, number of funny votes sent by the user\\n    \"funny\": 88,\\n\\n    // integer, number of cool votes sent by the user\\n    \"cool\": 15,\\n\\n    // integer, number of fans the user has\\n    \"fans\": 1032,\\n\\n    // array of integers, the years the user was elite\\n    \"elite\": [\\n        2012,\\n        2013\\n    ],\\n\\n    // float, average rating of all reviews\\n    \"average_stars\": 4.31,\\n\\n    // integer, number of hot compliments received by the user\\n    \"compliment_hot\": 339,\\n\\n    // integer, number of more compliments received by the user\\n    \"compliment_more\": 668,\\n\\n    // integer, number of profile compliments received by the user\\n    \"compliment_profile\": 42,\\n\\n    // integer, number of cute compliments received by the user\\n    \"compliment_cute\": 62,\\n\\n    // integer, number of list compliments received by the user\\n    \"compliment_list\": 37,\\n\\n    // integer, number of note compliments received by the user\\n    \"compliment_note\": 356,\\n\\n    // integer, number of plain compliments received by the user\\n    \"compliment_plain\": 68,\\n\\n    // integer, number of cool compliments received by the user\\n    \"compliment_cool\": 91,\\n\\n    // integer, number of funny compliments received by the user\\n    \"compliment_funny\": 99,\\n\\n    // integer, number of writer compliments received by the user\\n    \"compliment_writer\": 95,\\n\\n    // integer, number of photo compliments received by the user\\n    \"compliment_photos\": 50\\n}\\n\\ncheckin.json\\n\\nCheckins on a business.\\n\\n{\\n    // nested object of the day of the week with key of\\n    // the hour (using a 24hr clock) with the count of checkins\\n    // for that hour (e.g. 14:00 - 14:59).\\n    \"time\": {\\n        \"Wednesday\": {\\n            \"14:00\": 2,\\n            \"16:00\": 1,\\n            \"2:00\": 1,\\n            \"0:00\": 1\\n        },\\n        \"Sunday\": {\\n            \"16:00\": 8,\\n            \"14:00\": 3,\\n            \"15:00\": 3,\\n            \"13:00\": 1,\\n            \"18:00\": 2,\\n            \"23:00\": 1,\\n            \"21:00\": 1,\\n            \"17:00\": 2\\n        },\\n        \"Friday\": {\\n            \"16:00\": 1,\\n            \"13:00\": 1,\\n            \"11:00\": 2,\\n            \"23:00\": 2\\n        },\\n    },\\n\\n    // string, 22 character business id, maps to business in business.json\\n    \"business_id\": \"tnhfDv5Il8EaGSXZGiuQGg\"\\n}\\n\\ntip.json\\n\\nTips written by a user on a business. Tips are shorter than reviews and tend to convey quick suggestions.\\n\\n{\\n    // string, text of the tip\\n    \"text\": \"Secret menu - fried chicken sando is da bombbbbbb Their zapatos are good too.\",\\n\\n    // string, when the tip was written, formatted like YYYY-MM-DD\\n    \"date\": \"2013-09-20\",\\n\\n    // integer, how many likes it has\\n    \"likes\": 172,\\n\\n    // string, 22 character business id, maps to business in business.json\\n    \"business_id\": \"tnhfDv5Il8EaGSXZGiuQGg\",\\n\\n    // string, 22 character unique user id, maps to the user in user.json\\n    \"user_id\": \"49JhAJh8vSQ-vM4Aourl0g\"\\n}\\n\\nphoto.json\\n\\nContains photo data including the caption and classification (one of \"food\", \"drink\", \"menu\", \"inside\" or \"outside\").\\n\\n{\\n    // string, 22 character unique photo id\\n    \"photo_id\": \"_nN_DhLXkfwEkwPNxne9hw\",\\n\\n\\n    // string, 22 character business id, maps to business in business.json\\n    \"business_id\" : \"tnhfDv5Il8EaGSXZGiuQGg\",\\n\\n    // string, the photo caption, if any\\n    \"caption\" : \"carne asada fries\",\\n\\n    // string, the category the photo belongs to, if any\\n    \"label\" : \"food\"\\n}\\n',\n",
       "  'file_name': 'yelp.readme',\n",
       "  'name': 'DESCR',\n",
       "  'hash_value': 'f686e70bab08a995ec7098a342cb76294439a59c'},\n",
       " {'contents': '\\nYelp Dataset JSON\\n\\nEach file is composed of a single object type, one JSON-object per-line.\\n\\nTake a look at some examples to get you started: https://github.com/Yelp/dataset-examples.\\n\\nNote: the follow examples contain inline comments, which are technically not valid JSON. This is done here to simplify the documentation and explaining the structure, the JSON files you download will not contain any comments and will be fully valid JSON.\\nbusiness.json\\n\\nContains business data including location data, attributes, and categories.\\n\\n{\\n    // string, 22 character unique string business id\\n    \"business_id\": \"tnhfDv5Il8EaGSXZGiuQGg\",\\n\\n    // string, the business\\'s name\\n    \"name\": \"Garaje\",\\n\\n    // string, the neighborhood\\'s name\\n    \"neighborhood\": \"SoMa\",\\n\\n    // string, the full address of the business\\n    \"address\": \"475 3rd St\",\\n\\n    // string, the city\\n    \"city\": \"San Francisco\",\\n\\n    // string, 2 character state code, if applicable\\n    \"state\": \"CA\",\\n\\n    // string, the postal code\\n    \"postal code\": \"94107\",\\n\\n    // float, latitude\\n    \"latitude\": 37.7817529521,\\n\\n    // float, longitude\\n    \"longitude\": -122.39612197,\\n\\n    // float, star rating, rounded to half-stars\\n    \"stars\": 4.5,\\n\\n    // interger, number of reviews\\n    \"review_count\": 1198,\\n\\n    // integer, 0 or 1 for closed or open, respectively\\n    \"is_open\": 1,\\n\\n    // object, business attributes to values. note: some attribute values might be objects\\n    \"attributes\": {\\n        \"RestaurantsTakeOut\": true,\\n        \"BusinessParking\": {\\n            \"garage\": false,\\n            \"street\": true,\\n            \"validated\": false,\\n            \"lot\": false,\\n            \"valet\": false\\n        },\\n    },\\n\\n    // an array of strings of business categories\\n    \"categories\": [\\n        \"Mexican\",\\n        \"Burgers\",\\n        \"Gastropubs\"\\n    ],\\n\\n    // an object of key day to value hours, hours are using a 24hr clock\\n    \"hours\": {\\n        \"Monday\": \"10:00-21:00\",\\n        \"Tuesday\": \"10:00-21:00\",\\n        \"Friday\": \"10:00-21:00\",\\n        \"Wednesday\": \"10:00-21:00\",\\n        \"Thursday\": \"10:00-21:00\",\\n        \"Sunday\": \"11:00-18:00\",\\n        \"Saturday\": \"10:00-21:00\"\\n    }\\n}\\n\\nreview.json\\n\\nContains full review text data including the user_id that wrote the review and the business_id the review is written for.\\n\\n{\\n    // string, 22 character unique review id\\n    \"review_id\": \"zdSx_SD6obEhz9VrW9uAWA\",\\n\\n    // string, 22 character unique user id, maps to the user in user.json\\n    \"user_id\": \"Ha3iJu77CxlrFm-vQRs_8g\",\\n\\n    // string, 22 character business id, maps to business in business.json\\n    \"business_id\": \"tnhfDv5Il8EaGSXZGiuQGg\",\\n\\n    // integer, star rating\\n    \"stars\": 4,\\n\\n    // string, date formatted YYYY-MM-DD\\n    \"date\": \"2016-03-09\",\\n\\n    // string, the review itself\\n    \"text\": \"Great place to hang out after work: the prices are decent, and the ambience is fun. It\\'s a bit loud, but very lively. The staff is friendly, and the food is good. They have a good selection of drinks.\",\\n\\n    // integer, number of useful votes received\\n    \"useful\": 0,\\n\\n    // integer, number of funny votes received\\n    \"funny\": 0,\\n\\n    // integer, number of cool votes received\\n    \"cool\": 0\\n}\\n\\nuser.json\\n\\nUser data including the user\\'s friend mapping and all the metadata associated with the user.\\n\\n{\\n    // string, 22 character unique user id, maps to the user in user.json\\n    \"user_id\": \"Ha3iJu77CxlrFm-vQRs_8g\",\\n\\n    // string, the user\\'s first name\\n    \"name\": \"Sebastien\",\\n\\n    // integer, the number of reviews they\\'ve written\\n    \"review_count\": 56,\\n\\n    // string, when the user joined Yelp, formatted like YYYY-MM-DD\\n    \"yelping_since\": \"2011-01-01\",\\n\\n    // array of strings, an array of the user\\'s friend as user_ids\\n    \"friends\": [\\n        \"wqoXYLWmpkEH0YvTmHBsJQ\",\\n        \"KUXLLiJGrjtSsapmxmpvTA\",\\n        \"6e9rJKQC3n0RSKyHLViL-Q\"\\n    ],\\n\\n    // integer, number of useful votes sent by the user\\n    \"useful\": 21,\\n\\n    // integer, number of funny votes sent by the user\\n    \"funny\": 88,\\n\\n    // integer, number of cool votes sent by the user\\n    \"cool\": 15,\\n\\n    // integer, number of fans the user has\\n    \"fans\": 1032,\\n\\n    // array of integers, the years the user was elite\\n    \"elite\": [\\n        2012,\\n        2013\\n    ],\\n\\n    // float, average rating of all reviews\\n    \"average_stars\": 4.31,\\n\\n    // integer, number of hot compliments received by the user\\n    \"compliment_hot\": 339,\\n\\n    // integer, number of more compliments received by the user\\n    \"compliment_more\": 668,\\n\\n    // integer, number of profile compliments received by the user\\n    \"compliment_profile\": 42,\\n\\n    // integer, number of cute compliments received by the user\\n    \"compliment_cute\": 62,\\n\\n    // integer, number of list compliments received by the user\\n    \"compliment_list\": 37,\\n\\n    // integer, number of note compliments received by the user\\n    \"compliment_note\": 356,\\n\\n    // integer, number of plain compliments received by the user\\n    \"compliment_plain\": 68,\\n\\n    // integer, number of cool compliments received by the user\\n    \"compliment_cool\": 91,\\n\\n    // integer, number of funny compliments received by the user\\n    \"compliment_funny\": 99,\\n\\n    // integer, number of writer compliments received by the user\\n    \"compliment_writer\": 95,\\n\\n    // integer, number of photo compliments received by the user\\n    \"compliment_photos\": 50\\n}\\n\\ncheckin.json\\n\\nCheckins on a business.\\n\\n{\\n    // nested object of the day of the week with key of\\n    // the hour (using a 24hr clock) with the count of checkins\\n    // for that hour (e.g. 14:00 - 14:59).\\n    \"time\": {\\n        \"Wednesday\": {\\n            \"14:00\": 2,\\n            \"16:00\": 1,\\n            \"2:00\": 1,\\n            \"0:00\": 1\\n        },\\n        \"Sunday\": {\\n            \"16:00\": 8,\\n            \"14:00\": 3,\\n            \"15:00\": 3,\\n            \"13:00\": 1,\\n            \"18:00\": 2,\\n            \"23:00\": 1,\\n            \"21:00\": 1,\\n            \"17:00\": 2\\n        },\\n        \"Friday\": {\\n            \"16:00\": 1,\\n            \"13:00\": 1,\\n            \"11:00\": 2,\\n            \"23:00\": 2\\n        },\\n    },\\n\\n    // string, 22 character business id, maps to business in business.json\\n    \"business_id\": \"tnhfDv5Il8EaGSXZGiuQGg\"\\n}\\n\\ntip.json\\n\\nTips written by a user on a business. Tips are shorter than reviews and tend to convey quick suggestions.\\n\\n{\\n    // string, text of the tip\\n    \"text\": \"Secret menu - fried chicken sando is da bombbbbbb Their zapatos are good too.\",\\n\\n    // string, when the tip was written, formatted like YYYY-MM-DD\\n    \"date\": \"2013-09-20\",\\n\\n    // integer, how many likes it has\\n    \"likes\": 172,\\n\\n    // string, 22 character business id, maps to business in business.json\\n    \"business_id\": \"tnhfDv5Il8EaGSXZGiuQGg\",\\n\\n    // string, 22 character unique user id, maps to the user in user.json\\n    \"user_id\": \"49JhAJh8vSQ-vM4Aourl0g\"\\n}\\n\\nphoto.json\\n\\nContains photo data including the caption and classification (one of \"food\", \"drink\", \"menu\", \"inside\" or \"outside\").\\n\\n{\\n    // string, 22 character unique photo id\\n    \"photo_id\": \"_nN_DhLXkfwEkwPNxne9hw\",\\n\\n\\n    // string, 22 character business id, maps to business in business.json\\n    \"business_id\" : \"tnhfDv5Il8EaGSXZGiuQGg\",\\n\\n    // string, the photo caption, if any\\n    \"caption\" : \"carne asada fries\",\\n\\n    // string, the category the photo belongs to, if any\\n    \"label\" : \"food\"\\n}\\n',\n",
       "  'file_name': 'yelp.readme',\n",
       "  'name': 'DESCR',\n",
       "  'hash_value': 'f686e70bab08a995ec7098a342cb76294439a59c'},\n",
       " {'contents': \"\\nYELP DATASET TERMS OF USE\\n\\nLast Updated: July 26, 2018\\nThis document governs the terms under which you may access and use the data that Yelp\\nmakes available for download through this website (or made available by other means) for\\nacademic purposes (the “Data”). This document incorporates the terms of the following\\nadditional document, including all future amendments or modifications thereto (collectively, and\\ntogether with this document, the “Data Agreement” ):\\n\\nYelp Terms of Service:\\n\\nBy accessing or using the Data, you agree to be bound by the Data Agreement and represent\\nthat the contact information you provide to Yelp is correct. If you access or use the Data on\\nbehalf of a university, school, or other entity, you represent that you have authority to bind such\\nentity and its affiliates to the Data Agreement and that it is fully binding upon them. In such\\ncase, the term “you” and “your” will refer to such entity and its affiliates. If you do not have\\nauthority, or if you do not agree with the terms of the Data Agreement, you may not access or\\nuse the Data. You should read and keep a copy of each component of the Data Agreement for\\nyour records. In the event of a conflict among them, the terms of this document will control.\\n\\n1. Purpose\\n\\nThe Data is made available by Yelp Inc. (“Yelp”) to enable you to access valuable\\nlocal information to develop an academic project as part of an ongoing course of study. With this\\nin mind, Yelp reserves the right to continually review and evaluate all uses of the Data provided\\nunder the Data Agreement.\\n\\n2. Changes\\n\\nYelp reserves the right to modify or revise the Data Agreement at any time. If the\\nchange is deemed to be material and it is foreseeable that such change could be adverse to\\nyour interests, Yelp will provide you notice of the change to this Data Agreement by sending you\\nan email to the email you provided to Yelp. Your continued use of the Data after the notice of\\nmaterial change will constitute your acceptance of and agreement to such changes. \\n\\nIf YOU DO\\nNOT WISH TO BE BOUND TO ANY NEW TERMS, YOU MUST TERMINATE THE DATA\\nAGREEMENT BY IMMEDIATELY CEASING USE OF THE DATA AND DELETING IT FROM\\nANY SYSTEMS OR MEDIA.\\n\\n3. License\\n\\nSubject to the terms set forth in the Data Agreement (specifically the restrictions set\\nforth in Section 4 below), Yelp grants you a royalty-free, non-exclusive, revocable,\\nnon-sublicensable, non-transferable, fully paid-up right and license during the Term to use,\\naccess, and create derivative works of the Data in electronic form for academic purposes only.\\nYou may not use the Data for any other purpose without Yelp’s prior written consent. You\\nacknowledge and agree that Yelp may request information about, review, audit, and/or monitor\\nyour use of the Data at any time in order to confirm compliance with the Data Agreement.\\nNothing herein shall be construed as a license to use Yelp’s registered trademarks or service\\nmarks, or any other Yelp branding.\\n\\n4. Restrictions\\n\\nYou agree that you will not, and will not encourage, assist, or enable others to:\\nA. display, perform, or distribute any of the Data, or use the Data to update or create\\nyour own business listing information (i.e. you may not publicly display any of the Data to any\\nthird party, especially reviews and other user generated content, as this is a private data set\\nchallenge and not a license to compete with or disparage with Yelp);\\nB. use the Data in connection with any commercial purpose;\\nC. use the Data in any manner or for any purpose that may violate any law or regulation,\\nor any right of any person including, but not limited to, intellectual property rights, rights of\\nprivacy and/or rights of personality, or which otherwise may be harmful (in Yelp's sole\\ndiscretion) to Yelp, its providers, its suppliers, end users of this website, or your end users;\\nD. use the Data on behalf of any third party without Yelp’s consent;\\nE. create, redistribute or disclose any summary of, or metrics related to, the Data (e.g.,\\nthe number of reviewed business included in the Data and other statistical analysis) to any third\\nparty or on any website or other electronic media not expressly covered by this Agreement, this\\nprovision however, excludes any disclosures necessary for academic purposes, including\\nwithout limitation the publication of academic articles concerning your use of the Data;\\nF. use the Data in a manner that is competitive in nature with Yelp;\\nG. display Data in a manner that could reasonably imply an endorsement, relationship or\\naffiliation with or sponsorship between you or a third party and Yelp, other than your permitted\\nuse of the Data under the terms of the Data Agreement;\\nH. rent, lease, sell, transfer, assign, or sublicense, any part of the Data;\\nI. modify, rate, rank, review, vote or comment on, or otherwise respond to the content\\ncontained in the Data;\\nJ. display the Data or publicly communicate in any way, or on any site, in a manner that\\ndisparages Yelp or its products or services, or infringes any Yelp intellectual property or other\\nrights;\\nK. use the Data in a manner that could reasonably be interpreted to suggest that Yelp is\\nthe author or entity that is responsible, in whole or in part, for the creation or development of any\\nData or that such Data represents the views of Yelp; or\\nL. use the Data for any purpose prohibited by law.\\n\\n5. Ownership\\n\\nAs between you and Yelp, the Data and any derivative works you create from the\\nData, and all intellectual property rights contained in the foregoing, are and will at all times\\nremain the sole and exclusive property of Yelp and are protected by applicable intellectual\\nproperty laws and treaties (whether those rights happen to be registered or not, and wherever in\\nthe world those rights may exist), or as otherwise set forth in the contest rules where the various\\nsubmitted solutions must be made available under a specified open source license, such as the\\nMIT License.\\n\\n6. Indemnity\\n\\nYou agree that your use of the Data is at your own risk and you agree to hold\\nharmless, defend (subject to Yelp's right to participate with counsel it selects) and indemnify\\nYelp and its subsidiaries, affiliates, officers, agents, employees and suppliers from and against\\nany and all claims, damages, liabilities, costs and fees (including reasonable attorneys’ fee)\\narising from, or in any way related to your or your end users’ use or implementation of the Data.\\nYou will not agree to any settlement that imposes any obligation on Yelp without Yelp's prior\\nconsent.\\n                  \\n7. No Warranties by Yelp; No Entitlement to Support from Yelp\\n\\nTHE DATA IS PROVIDED\\n“AS IS”, “WITH ALL FAULTS” AND “AS AVAILABLE” WITHOUT WARRANTY, OF ANY KIND\\nAND AT YOUR SOLE RISK. EXCEPT TO THE MAXIMUM EXTENT REQUIRED BY\\nAPPLICABLE LAW, YELP DISCLAIMS ALL WARRANTIES, REPRESENTATIONS,\\nCONDITIONS, AND DUTIES, WHETHER EXPRESS, IMPLIED OR STATUTORY,\\nREGARDING THE DATA, INCLUDING, WITHOUT LIMITATION, ANY AND ALL IMPLIED\\nWARRANTIES OF MERCHANTABILITY, ACCURACY, RESULTS OF USE, RELIABILITY,\\nFITNESS FOR A PARTICULAR PURPOSE, TITLE, INTERFERENCE WITH QUIET\\nENJOYMENT AND NON-INFRINGEMENT OF THIRD-PARTY RIGHTS. FURTHER, YELP\\nDISCLAIMS ANY WARRANTY THAT YOUR USE OF THE DATA WILL BE UNINTERRUPTED,\\nSECURE, TIMELY OR ERROR FREE. FOR THE AVOIDANCE OF DOUBT, YOU\\nACKNOWLEDGE AND AGREE THAT THE DATA AGREEMENT DOES NOT ENTITLE YOU\\nTO ANY SUPPORT FOR THE DATA. NO ADVICE OR INFORMATION, WHETHER ORAL OR\\nIN WRITING, OBTAINED BY YOU FROM YELP WILL CREATE ANY WARRANTY NOT\\nEXPRESSLY STATED IN THE DATA AGREEMENT.\\n\\n8. Limitation of Liability\\n\\nTHE DATA IS BEING PROVIDED FREE OF CHARGE.\\nACCORDINGLY, YOU AGREE THAT YELP SHALL HAVE NO LIABILITY ARISING FROM OR\\nBASED ON YOUR USE OF THE DATA. REGARDLESS OF WHETHER ANY REMEDY SET\\nFORTH HEREIN FAILS OF ITS ESSENTIAL PURPOSE OR OTHERWISE, AND EXCEPT FOR\\nBODILY INJURY, IN NO EVENT SHALL YELP OR ITS SUBSIDIARIES, AFFILIATES,\\nOFFICERS, AGENTS, EMPLOYEES AND SUPPLIERS BE LIABLE TO YOU OR TO ANY\\nTHIRD PARTY UNDER ANY TORT, CONTRACT, NEGLIGENCE, STRICT LIABILITY OR\\nOTHER LEGAL OR EQUITABLE THEORY FOR ANY LOST PROFITS, LOST OR\\nCORRUPTED DATA, COMPUTER FAILURE OR MALFUNCTION, INTERRUPTION OF\\nBUSINESS, OR OTHER SPECIAL, INDIRECT, INCIDENTAL OR CONSEQUENTIAL\\nDAMAGES OF ANY KIND ARISING OUT OF THE USE OR INABILITY TO USE THE DATA,\\nEVEN IF YELP HAS BEEN ADVISED OF THE POSSIBILITY OF SUCH LOSS OR DAMAGES\\nAND WHETHER OR NOT SUCH LOSS OR DAMAGES ARE FORESEEABLE. ANY CLAIM\\nARISING OUT OF OR RELATING TO THE DATA AGREEMENT MUST BE BROUGHT WITHIN\\n(1) YEAR AFTER THE OCCURRENCE OF THE EVENT GIVING RISE TO SUCH CLAIM. IF\\nSUCH CLAIM IS NOT FILED, THEN THAT CLAIM IS PERMANENTLY BARRED. THIS\\nAPPLIES TO YOU AND YOUR SUCCESSORS, AND TO YELP AND ITS SUCCESSORS.\\nNOTWITHSTANDING THE FOREGOING, SINCE THIS LICENSE IS PROVIDED TO YOU AT\\nNO CHARGE, YELP’S MAXIMUM LIABILITY UNDER THIS DATA AGREEMENT SHALL NOT,\\nIN ANY EVENT, EXCEED US$50.00.\\n\\n9. Limited Relationship\\n                  \\nYelp and You are, and will remain, independent contractors, and\\nnothing in the Data Agreement will be construed as creating an employer-employee\\nrelationship, partnership or joint venture. Although you are permitted to publicize your use of the\\nData, you agree not to make any other statements, without the prior written consent of Yelp,\\nimplying a different kind of relationship between you and Yelp, including any implied\\nendorsement by Yelp. You do not have any authority of any kind to bind Yelp in any respect\\nwhatsoever.\\n\\n10. Term and Termination\\n                  \\nThis Data Agreement is effective as of the date you download or\\notherwise access the Data (“Effective Date” ) and shall continue in full force and effect for a term\\nof twelve (12) months from the Effective Date, unless earlier terminated by the parties or expires\\nin accordance with this Section 11 (the “Term”). Either party may immediately terminate this\\nData Agreement, for any reason or for no reason, by providing written notice to the other party.\\nYelp will provide notice of termination to the email account you provided to Yelp during\\nregistration and termination will be effective upon delivery of the email notice. Yelp reserves the\\nright, in its sole discretion (for any reason or for no reason) and at any time without notice to\\nyou, to change, suspend or discontinue the Data and/or suspend or terminate your further\\naccess to the Data. Any termination of the Data Agreement will also immediately terminate the\\nlicenses granted to you hereunder. Upon any termination of the Data Agreement, you will\\npromptly: (i) delete and remove all Data from any location, including any web pages, scripts,\\nwidgets, applications and any other software in your possession or under your control; (ii)\\ndestroy and remove from all computers, hard drives, networks and other storage media in your\\npossession or under your control all copies of any Data; and (iii) upon Yelp’s request, certify in\\nwriting to Yelp that such actions have been taken.\\n\\n11. Miscellaneous\\n                  \\nThe Data Agreement encompasses the entire agreement between you and\\nYelp regarding the subject matter discussed therein. The Data Agreement, and any disputes\\narising from or relating to the interpretation thereof, will be governed by and construed under the\\nlaws of the State of California without regard to its conflict of law provisions. You agree to\\npersonal jurisdiction by and venue in the state and federal courts of the State of California, City\\nof San Francisco. The failure of Yelp to exercise or enforce any right or provision of the Data\\nAgreement will not constitute a waiver of such right or provision. The failure of either party to\\nexercise in any respect any right provided for herein will not be deemed a waiver of any further\\nrights hereunder. If any provision of the Data Agreement is found to be unenforceable or invalid,\\nthat provision will be replaced with terms that most closely match the intent of the provision that\\nis not enforceable to the minimum extent necessary so that the remaining Data Agreement will\\notherwise remain in full force and effect and enforceable. The Data Agreement is not\\nassignable, transferable or sublicensable, in whole or in part, by you except with Yelp's prior\\nwritten consent. Any attempt to do so is void. Yelp may assign the Data Agreement, in whole or\\nin part, at any time with or without notice to you. The section titles in the Data Agreement are for\\nconvenience only and have no legal or contractual effect.\\n\\n12. Survival \\n\\nSections 4 through 13 will survive any expiration or termination of this Data\\nAgreement for any reason.\\n\\n13.  Contact and Violations\\n                  \\nPlease contact Yelp with any questions regarding the Data\\nAgreement. Please report any violations of the Data Agreement couvidat@yelp.com.\\n\",\n",
       "  'file_name': 'yelp.license',\n",
       "  'name': 'LICENSE',\n",
       "  'hash_value': 'dcd73f42faa2414fecb7bd26725a27e5d3b42f90'}]"
      ]
     },
     "execution_count": 36,
     "metadata": {},
     "output_type": "execute_result"
    }
   ],
   "source": [
    "dsrc.file_list"
   ]
  },
  {
   "cell_type": "markdown",
   "metadata": {},
   "source": [
    "### Adding Raw Data to the Catalog"
   ]
  },
  {
   "cell_type": "code",
   "execution_count": 37,
   "metadata": {},
   "outputs": [],
   "source": [
    "from src import workflow"
   ]
  },
  {
   "cell_type": "code",
   "execution_count": 38,
   "metadata": {},
   "outputs": [
    {
     "name": "stderr",
     "output_type": "stream",
     "text": [
      "2019-02-27 17:36:37,133 - datasets - WARNING - No dataset file found: datasources.json\n"
     ]
    },
    {
     "data": {
      "text/plain": [
       "[]"
      ]
     },
     "execution_count": 38,
     "metadata": {},
     "output_type": "execute_result"
    }
   ],
   "source": [
    "workflow.available_datasources()"
   ]
  },
  {
   "cell_type": "code",
   "execution_count": 39,
   "metadata": {},
   "outputs": [
    {
     "name": "stderr",
     "output_type": "stream",
     "text": [
      "2019-02-27 17:36:39,172 - datasets - WARNING - No dataset file found: datasources.json\n"
     ]
    }
   ],
   "source": [
    "workflow.add_datasource(dsrc)"
   ]
  },
  {
   "cell_type": "code",
   "execution_count": 40,
   "metadata": {},
   "outputs": [
    {
     "data": {
      "text/plain": [
       "['yelp']"
      ]
     },
     "execution_count": 40,
     "metadata": {},
     "output_type": "execute_result"
    }
   ],
   "source": [
    "workflow.available_datasources()"
   ]
  },
  {
   "cell_type": "markdown",
   "metadata": {},
   "source": [
    "We will make use of this raw dataset catalog later in this tutorial. We can now load our `DataSource` by name:"
   ]
  },
  {
   "cell_type": "code",
   "execution_count": 89,
   "metadata": {},
   "outputs": [],
   "source": [
    "ds = DataSource.from_name('lvq-pak')"
   ]
  },
  {
   "cell_type": "code",
   "execution_count": 90,
   "metadata": {
    "scrolled": true
   },
   "outputs": [
    {
     "data": {
      "text/plain": [
       "[{'file_name': 'lvq_pak-3.1.tar',\n",
       "  'hash_type': 'sha1',\n",
       "  'hash_value': '86024a871724e521341da0ffb783956e39aadb6e',\n",
       "  'name': None,\n",
       "  'url': 'http://www.cis.hut.fi/research/lvq_pak/lvq_pak-3.1.tar'},\n",
       " {'file_name': 'lvq-pak.readme',\n",
       "  'hash_type': 'sha1',\n",
       "  'hash_value': '138b69cc0b4e02950cec5833752e50a54d36fd0f',\n",
       "  'name': 'DESCR',\n",
       "  'url': 'http://www.cis.hut.fi/research/lvq_pak/README'},\n",
       " {'contents': \"\\n************************************************************************\\n*                                                                      *\\n*                              LVQ_PAK                                 *\\n*                                                                      *\\n*                                The                                   *\\n*                                                                      *\\n*                   Learning  Vector  Quantization                     *\\n*                                                                      *\\n*                          Program  Package                            *\\n*                                                                      *\\n*                   Version 3.1 (April 7, 1995)                        *\\n*                                                                      *\\n*                          Prepared by the                             *\\n*                    LVQ Programming Team of the                       *\\n*                 Helsinki University of Technology                    *\\n*           Laboratory of Computer and Information Science             *\\n*                Rakentajanaukio 2 C, SF-02150 Espoo                   *\\n*                              FINLAND                                 *\\n*                                                                      *\\n*                      Copyright (c) 1991-1995                         *\\n*                                                                      *\\n************************************************************************\\n*                                                                      *\\n*  NOTE: This program package is copyrighted in the sense that it      *\\n*  may be used for scientific purposes. The package as a whole, or     *\\n*  parts thereof, cannot be included or used in any commercial         *\\n*  application without written permission granted by its producents.   *\\n*  No programs contained in this package may be copied for commercial  *\\n*  distribution.                                                       *\\n*                                                                      *\\n*  All comments concerning this program package may be sent to the     *\\n*  e-mail address 'lvq@nucleus.hut.fi'.                                *\\n*                                                                      *\\n************************************************************************\\n\",\n",
       "  'file_name': 'lvq-pak.license',\n",
       "  'hash_value': 'e5f53b172926d34cb6a49877be49ee08bc4d51c1',\n",
       "  'name': 'LICENSE'}]"
      ]
     },
     "execution_count": 90,
     "metadata": {},
     "output_type": "execute_result"
    }
   ],
   "source": [
    "ds.file_list"
   ]
  },
  {
   "cell_type": "markdown",
   "metadata": {},
   "source": [
    "### Exercise: Add F-MNIST to the Raw Dataset Catalog"
   ]
  },
  {
   "cell_type": "code",
   "execution_count": 91,
   "metadata": {},
   "outputs": [],
   "source": [
    "workflow.add_datasource(dsrc_mnist)"
   ]
  },
  {
   "cell_type": "code",
   "execution_count": 41,
   "metadata": {},
   "outputs": [
    {
     "data": {
      "text/plain": [
       "['yelp']"
      ]
     },
     "execution_count": 41,
     "metadata": {},
     "output_type": "execute_result"
    }
   ],
   "source": [
    "# Your fmnist dataset should now show up here:\n",
    "workflow.available_datasources()"
   ]
  },
  {
   "cell_type": "markdown",
   "metadata": {},
   "source": [
    "### Nuke it from Orbit\n",
    "\n",
    "Now we can blow away all the data that we've downloaded and set up so far, and recreate it from the workflow datasource. Or, use some of our `make` commands!"
   ]
  },
  {
   "cell_type": "code",
   "execution_count": 44,
   "metadata": {},
   "outputs": [
    {
     "name": "stdout",
     "output_type": "stream",
     "text": [
      "rm -f data/raw/*\r\n"
     ]
    }
   ],
   "source": [
    "!cd .. && make clean_raw"
   ]
  },
  {
   "cell_type": "code",
   "execution_count": 45,
   "metadata": {},
   "outputs": [
    {
     "name": "stdout",
     "output_type": "stream",
     "text": [
      "total 226244\r\n",
      "drwxr-xr-x 2 ava00114 users      4096 Feb 28 13:21 .\r\n",
      "drwxr-xr-x 2 ava00114 users         0 Feb 27 13:20 ..\r\n",
      "-rwxr-xr-x 1 ava00114 users 231669760 Feb 27 16:56 cifsd879\r\n",
      "-rwxr-xr-x 1 ava00114 users         0 Feb 26 12:08 .gitkeep\r\n"
     ]
    }
   ],
   "source": [
    "!ls -la $paths.raw_data_path"
   ]
  },
  {
   "cell_type": "code",
   "execution_count": 46,
   "metadata": {},
   "outputs": [
    {
     "name": "stdout",
     "output_type": "stream",
     "text": [
      "python3 -m src.data.make_dataset fetch\n",
      "2019-02-28 13:23:29,998 - datasets - INFO - Running fetch on yelp\n",
      "Traceback (most recent call last):\n",
      "  File \"/opt/software/anaconda3/envs/text_evaluation/lib/python3.7/runpy.py\", line 193, in _run_module_as_main\n",
      "    \"__main__\", mod_spec)\n",
      "  File \"/opt/software/anaconda3/envs/text_evaluation/lib/python3.7/runpy.py\", line 85, in _run_code\n",
      "    exec(code, run_globals)\n",
      "  File \"/mnt/timc/sandbox/ava00114/text_evaluation/src/data/make_dataset.py\", line 32, in <module>\n",
      "    main()\n",
      "  File \"/opt/software/anaconda3/envs/text_evaluation/lib/python3.7/site-packages/click/core.py\", line 764, in __call__\n",
      "    return self.main(*args, **kwargs)\n",
      "  File \"/opt/software/anaconda3/envs/text_evaluation/lib/python3.7/site-packages/click/core.py\", line 717, in main\n",
      "    rv = self.invoke(ctx)\n",
      "  File \"/opt/software/anaconda3/envs/text_evaluation/lib/python3.7/site-packages/click/core.py\", line 956, in invoke\n",
      "    return ctx.invoke(self.callback, **ctx.params)\n",
      "  File \"/opt/software/anaconda3/envs/text_evaluation/lib/python3.7/site-packages/click/core.py\", line 555, in invoke\n",
      "    return callback(*args, **kwargs)\n",
      "  File \"/mnt/timc/sandbox/ava00114/text_evaluation/src/data/make_dataset.py\", line 22, in main\n",
      "    process_datasources(datasources=datasources, action=action)\n",
      "  File \"/mnt/timc/sandbox/ava00114/text_evaluation/src/data/datasets.py\", line 73, in process_datasources\n",
      "    dsrc.fetch()\n",
      "  File \"/mnt/timc/sandbox/ava00114/text_evaluation/src/data/datasets.py\", line 548, in fetch\n",
      "    status, result, hash_value = fetch_file(**item)\n",
      "  File \"/mnt/timc/sandbox/ava00114/text_evaluation/src/data/fetch.py\", line 258, in fetch_file\n",
      "    logger.debug(f'Retrieved {raw_data_file.name} (hash '\n",
      "UnboundLocalError: local variable 'raw_file_hash' referenced before assignment\n",
      "make: *** [fetch_sources] Error 1\n"
     ]
    }
   ],
   "source": [
    "!cd .. && make fetch_sources"
   ]
  },
  {
   "cell_type": "code",
   "execution_count": 47,
   "metadata": {},
   "outputs": [
    {
     "name": "stdout",
     "output_type": "stream",
     "text": [
      "total 3280396\r\n",
      "drwxr-xr-x 2 ava00114 users       4096 Feb 28 13:23 .\r\n",
      "drwxr-xr-x 2 ava00114 users          0 Feb 27 13:20 ..\r\n",
      "-rwxr-xr-x 1 ava00114 users  231669760 Feb 27 16:56 cifsd879\r\n",
      "-rwxr-xr-x 1 ava00114 users          0 Feb 26 12:08 .gitkeep\r\n",
      "-rwxr-xr-x 1 ava00114 users 3127449759 Feb 28 13:23 yelp_dataset.tar.gz\r\n"
     ]
    }
   ],
   "source": [
    "!ls -la $paths.raw_data_path"
   ]
  },
  {
   "cell_type": "code",
   "execution_count": 48,
   "metadata": {},
   "outputs": [
    {
     "name": "stdout",
     "output_type": "stream",
     "text": [
      "rm -f data/raw/*\n",
      "rm -rf data/interim/*\n"
     ]
    }
   ],
   "source": [
    "# What about fetch and unpack?\n",
    "!cd .. && make clean_raw && make clean_interim"
   ]
  },
  {
   "cell_type": "code",
   "execution_count": 49,
   "metadata": {},
   "outputs": [
    {
     "name": "stdout",
     "output_type": "stream",
     "text": [
      "total 0\r\n",
      "drwxr-xr-x 2 ava00114 users 0 Feb 28 13:25 .\r\n",
      "drwxr-xr-x 2 ava00114 users 0 Feb 27 13:20 ..\r\n",
      "-rwxr-xr-x 1 ava00114 users 0 Feb 26 12:08 .gitkeep\r\n"
     ]
    }
   ],
   "source": [
    "!ls -la $paths.interim_data_path"
   ]
  },
  {
   "cell_type": "code",
   "execution_count": 50,
   "metadata": {},
   "outputs": [
    {
     "name": "stdout",
     "output_type": "stream",
     "text": [
      "python3 -m src.data.make_dataset unpack\n",
      "2019-02-28 13:25:42,622 - datasets - INFO - Running unpack on yelp\n",
      "Traceback (most recent call last):\n",
      "  File \"/opt/software/anaconda3/envs/text_evaluation/lib/python3.7/runpy.py\", line 193, in _run_module_as_main\n",
      "    \"__main__\", mod_spec)\n",
      "  File \"/opt/software/anaconda3/envs/text_evaluation/lib/python3.7/runpy.py\", line 85, in _run_code\n",
      "    exec(code, run_globals)\n",
      "  File \"/mnt/timc/sandbox/ava00114/text_evaluation/src/data/make_dataset.py\", line 32, in <module>\n",
      "    main()\n",
      "  File \"/opt/software/anaconda3/envs/text_evaluation/lib/python3.7/site-packages/click/core.py\", line 764, in __call__\n",
      "    return self.main(*args, **kwargs)\n",
      "  File \"/opt/software/anaconda3/envs/text_evaluation/lib/python3.7/site-packages/click/core.py\", line 717, in main\n",
      "    rv = self.invoke(ctx)\n",
      "  File \"/opt/software/anaconda3/envs/text_evaluation/lib/python3.7/site-packages/click/core.py\", line 956, in invoke\n",
      "    return ctx.invoke(self.callback, **ctx.params)\n",
      "  File \"/opt/software/anaconda3/envs/text_evaluation/lib/python3.7/site-packages/click/core.py\", line 555, in invoke\n",
      "    return callback(*args, **kwargs)\n",
      "  File \"/mnt/timc/sandbox/ava00114/text_evaluation/src/data/make_dataset.py\", line 22, in main\n",
      "    process_datasources(datasources=datasources, action=action)\n",
      "  File \"/mnt/timc/sandbox/ava00114/text_evaluation/src/data/datasets.py\", line 75, in process_datasources\n",
      "    dsrc.unpack()\n",
      "  File \"/mnt/timc/sandbox/ava00114/text_evaluation/src/data/datasets.py\", line 567, in unpack\n",
      "    self.fetch()\n",
      "  File \"/mnt/timc/sandbox/ava00114/text_evaluation/src/data/datasets.py\", line 548, in fetch\n",
      "    status, result, hash_value = fetch_file(**item)\n",
      "  File \"/mnt/timc/sandbox/ava00114/text_evaluation/src/data/fetch.py\", line 258, in fetch_file\n",
      "    logger.debug(f'Retrieved {raw_data_file.name} (hash '\n",
      "UnboundLocalError: local variable 'raw_file_hash' referenced before assignment\n",
      "make: *** [unpack_sources] Error 1\n"
     ]
    }
   ],
   "source": [
    "!cd .. && make unpack_sources"
   ]
  },
  {
   "cell_type": "code",
   "execution_count": 51,
   "metadata": {},
   "outputs": [
    {
     "name": "stdout",
     "output_type": "stream",
     "text": [
      "total 3280396\r\n",
      "drwxr-xr-x 2 ava00114 users       4096 Feb 28 13:25 .\r\n",
      "drwxr-xr-x 2 ava00114 users          0 Feb 27 13:20 ..\r\n",
      "-rwxr-xr-x 1 ava00114 users  231669760 Feb 27 16:56 cifsd879\r\n",
      "-rwxr-xr-x 1 ava00114 users          0 Feb 26 12:08 .gitkeep\r\n",
      "-rwxr-xr-x 1 ava00114 users 3127449759 Feb 28 13:25 yelp_dataset.tar.gz\r\n"
     ]
    }
   ],
   "source": [
    "!ls -la $paths.raw_data_path"
   ]
  },
  {
   "cell_type": "code",
   "execution_count": 52,
   "metadata": {},
   "outputs": [
    {
     "name": "stdout",
     "output_type": "stream",
     "text": [
      "total 0\r\n",
      "drwxr-xr-x 2 ava00114 users 0 Feb 28 13:25 .\r\n",
      "drwxr-xr-x 2 ava00114 users 0 Feb 27 13:20 ..\r\n",
      "-rwxr-xr-x 1 ava00114 users 0 Feb 26 12:08 .gitkeep\r\n"
     ]
    }
   ],
   "source": [
    "!ls -la $paths.interim_data_path"
   ]
  },
  {
   "cell_type": "markdown",
   "metadata": {},
   "source": [
    "### Your data sources are now reproducible!"
   ]
  },
  {
   "cell_type": "code",
   "execution_count": null,
   "metadata": {},
   "outputs": [],
   "source": []
  }
 ],
 "metadata": {
  "kernelspec": {
   "display_name": "Python 3",
   "language": "python",
   "name": "python3"
  },
  "language_info": {
   "codemirror_mode": {
    "name": "ipython",
    "version": 3
   },
   "file_extension": ".py",
   "mimetype": "text/x-python",
   "name": "python",
   "nbconvert_exporter": "python",
   "pygments_lexer": "ipython3",
   "version": "3.7.2"
  }
 },
 "nbformat": 4,
 "nbformat_minor": 2
}
