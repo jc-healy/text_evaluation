{
 "cells": [
  {
   "cell_type": "code",
   "execution_count": 1,
   "metadata": {},
   "outputs": [],
   "source": [
    "import pandas as pd\n",
    "import pathlib\n",
    "import numpy as np\n",
    "from pprint import pprint\n",
    "from functools import partial\n",
    "import json\n",
    "import random\n",
    "\n",
    "from src.data import datasets, utils, Dataset, DataSource\n",
    "from src.data.fetch import fetch_text_file, hash_file\n",
    "from src.data.utils import normalize_labels, read_space_delimited, reservoir_sample\n",
    "from src.paths import interim_data_path, raw_data_path, processed_data_path"
   ]
  },
  {
   "cell_type": "code",
   "execution_count": 2,
   "metadata": {},
   "outputs": [],
   "source": [
    "%load_ext autoreload\n",
    "%autoreload 2"
   ]
  },
  {
   "cell_type": "code",
   "execution_count": 20,
   "metadata": {},
   "outputs": [],
   "source": [
    "import logging\n",
    "from src.logging import logger\n",
    "logger.setLevel(logging.INFO)"
   ]
  },
  {
   "cell_type": "markdown",
   "metadata": {},
   "source": [
    "# Adding and Processing the Yelp Dataset\n",
    "\n"
   ]
  },
  {
   "cell_type": "markdown",
   "metadata": {},
   "source": [
    "### Adding to the raw dataset list\n",
    "A raw dataset is really just a list of files (and their associated hash values) and metadata that is later processed into a usable dataset. \n",
    "\n",
    "1. Assemble the raw data files.\n",
    "2. Generate hashes to check the validity of these files\n",
    "3. Add LICENSE and DESCR (description) metadata to the dataset\n"
   ]
  },
  {
   "cell_type": "code",
   "execution_count": 3,
   "metadata": {},
   "outputs": [],
   "source": [
    "dataset_name='yelp'"
   ]
  },
  {
   "cell_type": "markdown",
   "metadata": {},
   "source": [
    "The yelp dataset is free to use under a reasonable license agreement, but you need to register to download a copy.\n",
    "https://www.yelp.com/dataset/download\n"
   ]
  },
  {
   "cell_type": "markdown",
   "metadata": {},
   "source": [
    "When I did this, I got the following:\n",
    "```\n",
    ">>> sha1sum ~/downloads/yelp_dataset.tar.gz\n",
    "096ac5ced8a9229ecc5116e77b6be8d8f90fdacb  ~/downloads/yelp_dataset.tar.gz\n",
    "```\n"
   ]
  },
  {
   "cell_type": "markdown",
   "metadata": {},
   "source": [
    "Once we have followed the instructions at the above link, we should have a local copy of the tarfile"
   ]
  },
  {
   "cell_type": "markdown",
   "metadata": {},
   "source": [
    "By default, we store raw data in `src.paths.raw_data_path` (by default: `data/raw`). We will want to copy this datafile to the raw_data_path"
   ]
  },
  {
   "cell_type": "code",
   "execution_count": 4,
   "metadata": {},
   "outputs": [
    {
     "name": "stdout",
     "output_type": "stream",
     "text": [
      "total 3054176\r\n",
      "drwxr-xr-x 2 ava00088 users          0 Feb 26 14:25 .\r\n",
      "drwxr-xr-x 2 ava00088 users          0 Feb 26 13:26 ..\r\n",
      "-rwxr-xr-x 1 ava00088 users          0 Feb 26 13:26 .gitkeep\r\n",
      "-rwxr-xr-x 1 ava00088 users 3127449759 Feb 26 14:13 yelp_dataset.tar.gz\r\n",
      "-rwxr-xr-x 1 ava00088 users      12848 Feb 26 16:52 yelp.license\r\n",
      "-rwxr-xr-x 1 ava00088 users       7282 Feb 26 16:52 yelp.readme\r\n"
     ]
    }
   ],
   "source": [
    "from src.paths import raw_data_path\n",
    "\n",
    "!ls -la $raw_data_path"
   ]
  },
  {
   "cell_type": "code",
   "execution_count": 21,
   "metadata": {},
   "outputs": [],
   "source": [
    "rawdata = DataSource(dataset_name)"
   ]
  },
  {
   "cell_type": "code",
   "execution_count": 22,
   "metadata": {},
   "outputs": [],
   "source": [
    "rawdata.add_file(source_file='/home/ava00088/TIMC/downloads/yelp_dataset.tar.gz', hash_value='096ac5ced8a9229ecc5116e77b6be8d8f90fdacb')"
   ]
  },
  {
   "cell_type": "code",
   "execution_count": 23,
   "metadata": {},
   "outputs": [],
   "source": [
    "rawdata.add_file(source_file='/home/ava00088/TIMC/downloads/yelp.readme', name='DESCR')"
   ]
  },
  {
   "cell_type": "markdown",
   "metadata": {},
   "source": [
    "The **name** field can be used to indicate the type of datafile being downloaded. Usually, this is just informational. However, if you specify names `DESCR` or `LICENSE`, the downloaded (text) file will be used as the dataset description and license text, respectively.\n",
    "\n",
    "Usually you will want to give these unique names, so they don't clash with other downloaded files. (e.g. \"LICENSE.txt\" is a terrible name to use). We use the **file_name** option for this:"
   ]
  },
  {
   "cell_type": "code",
   "execution_count": 24,
   "metadata": {},
   "outputs": [
    {
     "data": {
      "text/plain": [
       "[{'hash_type': 'sha1',\n",
       "  'hash_value': '096ac5ced8a9229ecc5116e77b6be8d8f90fdacb',\n",
       "  'name': None,\n",
       "  'source_file': PosixPath('/home/ava00088/TIMC/downloads/yelp_dataset.tar.gz'),\n",
       "  'file_name': None},\n",
       " {'hash_type': 'sha1',\n",
       "  'hash_value': None,\n",
       "  'name': 'DESCR',\n",
       "  'source_file': PosixPath('/home/ava00088/TIMC/downloads/yelp.readme'),\n",
       "  'file_name': None}]"
      ]
     },
     "execution_count": 24,
     "metadata": {},
     "output_type": "execute_result"
    }
   ],
   "source": [
    "rawdata.file_list"
   ]
  },
  {
   "cell_type": "code",
   "execution_count": 25,
   "metadata": {},
   "outputs": [
    {
     "name": "stderr",
     "output_type": "stream",
     "text": [
      "2019-02-27 17:05:19,863 - fetch - DEBUG - `file_name` not specified. Inferring from `source_file`: {file_name}\n",
      "2019-02-27 17:05:19,864 - fetch - DEBUG - No file_name specified. Inferring yelp_dataset.tar.gz from URL\n",
      "2019-02-27 17:05:42,065 - fetch - DEBUG - yelp_dataset.tar.gz already exists and hash is valid\n",
      "2019-02-27 17:05:42,066 - fetch - DEBUG - `file_name` not specified. Inferring from `source_file`: {file_name}\n",
      "2019-02-27 17:05:42,066 - fetch - DEBUG - No file_name specified. Inferring yelp.readme from URL\n"
     ]
    },
    {
     "ename": "NameError",
     "evalue": "name 'copyfile' is not defined",
     "output_type": "error",
     "traceback": [
      "\u001b[0;31m---------------------------------------------------------------------------\u001b[0m",
      "\u001b[0;31mNameError\u001b[0m                                 Traceback (most recent call last)",
      "\u001b[0;32m<ipython-input-25-7a4e8d4e3488>\u001b[0m in \u001b[0;36m<module>\u001b[0;34m\u001b[0m\n\u001b[1;32m      1\u001b[0m \u001b[0mlogger\u001b[0m\u001b[0;34m.\u001b[0m\u001b[0msetLevel\u001b[0m\u001b[0;34m(\u001b[0m\u001b[0mlogging\u001b[0m\u001b[0;34m.\u001b[0m\u001b[0mDEBUG\u001b[0m\u001b[0;34m)\u001b[0m\u001b[0;34m\u001b[0m\u001b[0;34m\u001b[0m\u001b[0m\n\u001b[0;32m----> 2\u001b[0;31m \u001b[0mrawdata\u001b[0m\u001b[0;34m.\u001b[0m\u001b[0mfetch\u001b[0m\u001b[0;34m(\u001b[0m\u001b[0;34m)\u001b[0m\u001b[0;34m\u001b[0m\u001b[0;34m\u001b[0m\u001b[0m\n\u001b[0m",
      "\u001b[0;32m~/TIMC/sandbox/ava00088/devel/text_embed_john/src/data/datasets.py\u001b[0m in \u001b[0;36mfetch\u001b[0;34m(self, fetch_path, force)\u001b[0m\n\u001b[1;32m    546\u001b[0m         \u001b[0mself\u001b[0m\u001b[0;34m.\u001b[0m\u001b[0mfetched_files_\u001b[0m \u001b[0;34m=\u001b[0m \u001b[0;34m[\u001b[0m\u001b[0;34m]\u001b[0m\u001b[0;34m\u001b[0m\u001b[0;34m\u001b[0m\u001b[0m\n\u001b[1;32m    547\u001b[0m         \u001b[0;32mfor\u001b[0m \u001b[0mitem\u001b[0m \u001b[0;32min\u001b[0m \u001b[0mself\u001b[0m\u001b[0;34m.\u001b[0m\u001b[0mfile_list\u001b[0m\u001b[0;34m:\u001b[0m\u001b[0;34m\u001b[0m\u001b[0;34m\u001b[0m\u001b[0m\n\u001b[0;32m--> 548\u001b[0;31m             \u001b[0mstatus\u001b[0m\u001b[0;34m,\u001b[0m \u001b[0mresult\u001b[0m\u001b[0;34m,\u001b[0m \u001b[0mhash_value\u001b[0m \u001b[0;34m=\u001b[0m \u001b[0mfetch_file\u001b[0m\u001b[0;34m(\u001b[0m\u001b[0;34m**\u001b[0m\u001b[0mitem\u001b[0m\u001b[0;34m)\u001b[0m\u001b[0;34m\u001b[0m\u001b[0;34m\u001b[0m\u001b[0m\n\u001b[0m\u001b[1;32m    549\u001b[0m             \u001b[0;32mif\u001b[0m \u001b[0mstatus\u001b[0m\u001b[0;34m:\u001b[0m  \u001b[0;31m# True (cached) or HTTP Code (successful download)\u001b[0m\u001b[0;34m\u001b[0m\u001b[0;34m\u001b[0m\u001b[0m\n\u001b[1;32m    550\u001b[0m                 \u001b[0mitem\u001b[0m\u001b[0;34m[\u001b[0m\u001b[0;34m'hash_value'\u001b[0m\u001b[0;34m]\u001b[0m \u001b[0;34m=\u001b[0m \u001b[0mhash_value\u001b[0m\u001b[0;34m\u001b[0m\u001b[0;34m\u001b[0m\u001b[0m\n",
      "\u001b[0;32m~/TIMC/sandbox/ava00088/devel/text_embed_john/src/data/fetch.py\u001b[0m in \u001b[0;36mfetch_file\u001b[0;34m(url, contents, file_name, dst_dir, force, source_file, hash_type, hash_value, **kwargs)\u001b[0m\n\u001b[1;32m    251\u001b[0m         \u001b[0;32mreturn\u001b[0m \u001b[0;32mTrue\u001b[0m\u001b[0;34m,\u001b[0m \u001b[0mraw_data_file\u001b[0m\u001b[0;34m,\u001b[0m \u001b[0mraw_file_hash\u001b[0m\u001b[0;34m\u001b[0m\u001b[0;34m\u001b[0m\u001b[0m\n\u001b[1;32m    252\u001b[0m     \u001b[0;32melif\u001b[0m \u001b[0msource_file\u001b[0m \u001b[0;32mis\u001b[0m \u001b[0;32mnot\u001b[0m \u001b[0;32mNone\u001b[0m\u001b[0;34m:\u001b[0m\u001b[0;34m\u001b[0m\u001b[0;34m\u001b[0m\u001b[0m\n\u001b[0;32m--> 253\u001b[0;31m         \u001b[0mcopyfile\u001b[0m\u001b[0;34m(\u001b[0m\u001b[0msource_file\u001b[0m\u001b[0;34m,\u001b[0m \u001b[0mraw_data_file\u001b[0m\u001b[0;34m)\u001b[0m\u001b[0;34m\u001b[0m\u001b[0;34m\u001b[0m\u001b[0m\n\u001b[0m\u001b[1;32m    254\u001b[0m         \u001b[0mlogger\u001b[0m\u001b[0;34m.\u001b[0m\u001b[0mdebug\u001b[0m\u001b[0;34m(\u001b[0m\u001b[0;34m\"Copying {source_file.name} to raw_data_path\"\u001b[0m\u001b[0;34m)\u001b[0m\u001b[0;34m\u001b[0m\u001b[0;34m\u001b[0m\u001b[0m\n\u001b[1;32m    255\u001b[0m     \u001b[0;32melse\u001b[0m\u001b[0;34m:\u001b[0m\u001b[0;34m\u001b[0m\u001b[0;34m\u001b[0m\u001b[0m\n",
      "\u001b[0;31mNameError\u001b[0m: name 'copyfile' is not defined"
     ]
    }
   ],
   "source": [
    "logger.setLevel(logging.DEBUG)\n",
    "rawdata.fetch()"
   ]
  },
  {
   "cell_type": "markdown",
   "metadata": {},
   "source": [
    "### Adding a License and Description"
   ]
  },
  {
   "cell_type": "markdown",
   "metadata": {},
   "source": [
    "Every dataset should have an associated **license** and **description**. These are stored as `LICENSE` and `DESCR` attributes respectively.\n",
    "\n",
    "There are 3 typical ways to add license and description text:\n",
    "* Download textfiles from somewhere on the Internet, and using the `name` parameter in `build_dataset_dict` to tag them as either `LICENSE` or `DESCR`\n",
    "* Create a `{dataset_name}.license`, or `{dataset_name}.readme` in `src/data`. When a dataset matching this\n",
    "name is created, this information will automatically be used, or\n",
    "* specify the text directly using `from_txt` in `build_dataset_dict()`"
   ]
  },
  {
   "cell_type": "markdown",
   "metadata": {},
   "source": [
    "#### Adding A License File\n",
    "\n",
    "In this case, the license is available from https://s3-media1.fl.yelpcdn.com/assets/srv0/engineering_pages/06cb5ad91db8/assets/vendor/yelp-dataset-agreement.pdf\n",
    "\n",
    "we can write this to a textfile directly"
   ]
  },
  {
   "cell_type": "code",
   "execution_count": 12,
   "metadata": {},
   "outputs": [],
   "source": [
    "yelp_license = \"\"\"\n",
    "YELP DATASET TERMS OF USE\n",
    "\n",
    "Last Updated: July 26, 2018\n",
    "This document governs the terms under which you may access and use the data that Yelp\n",
    "makes available for download through this website (or made available by other means) for\n",
    "academic purposes (the “Data”). This document incorporates the terms of the following\n",
    "additional document, including all future amendments or modifications thereto (collectively, and\n",
    "together with this document, the “Data Agreement” ):\n",
    "\n",
    "Yelp Terms of Service:\n",
    "\n",
    "By accessing or using the Data, you agree to be bound by the Data Agreement and represent\n",
    "that the contact information you provide to Yelp is correct. If you access or use the Data on\n",
    "behalf of a university, school, or other entity, you represent that you have authority to bind such\n",
    "entity and its affiliates to the Data Agreement and that it is fully binding upon them. In such\n",
    "case, the term “you” and “your” will refer to such entity and its affiliates. If you do not have\n",
    "authority, or if you do not agree with the terms of the Data Agreement, you may not access or\n",
    "use the Data. You should read and keep a copy of each component of the Data Agreement for\n",
    "your records. In the event of a conflict among them, the terms of this document will control.\n",
    "\n",
    "1. Purpose\n",
    "\n",
    "The Data is made available by Yelp Inc. (“Yelp”) to enable you to access valuable\n",
    "local information to develop an academic project as part of an ongoing course of study. With this\n",
    "in mind, Yelp reserves the right to continually review and evaluate all uses of the Data provided\n",
    "under the Data Agreement.\n",
    "\n",
    "2. Changes\n",
    "\n",
    "Yelp reserves the right to modify or revise the Data Agreement at any time. If the\n",
    "change is deemed to be material and it is foreseeable that such change could be adverse to\n",
    "your interests, Yelp will provide you notice of the change to this Data Agreement by sending you\n",
    "an email to the email you provided to Yelp. Your continued use of the Data after the notice of\n",
    "material change will constitute your acceptance of and agreement to such changes. \n",
    "\n",
    "If YOU DO\n",
    "NOT WISH TO BE BOUND TO ANY NEW TERMS, YOU MUST TERMINATE THE DATA\n",
    "AGREEMENT BY IMMEDIATELY CEASING USE OF THE DATA AND DELETING IT FROM\n",
    "ANY SYSTEMS OR MEDIA.\n",
    "\n",
    "3. License\n",
    "\n",
    "Subject to the terms set forth in the Data Agreement (specifically the restrictions set\n",
    "forth in Section 4 below), Yelp grants you a royalty-free, non-exclusive, revocable,\n",
    "non-sublicensable, non-transferable, fully paid-up right and license during the Term to use,\n",
    "access, and create derivative works of the Data in electronic form for academic purposes only.\n",
    "You may not use the Data for any other purpose without Yelp’s prior written consent. You\n",
    "acknowledge and agree that Yelp may request information about, review, audit, and/or monitor\n",
    "your use of the Data at any time in order to confirm compliance with the Data Agreement.\n",
    "Nothing herein shall be construed as a license to use Yelp’s registered trademarks or service\n",
    "marks, or any other Yelp branding.\n",
    "\n",
    "4. Restrictions\n",
    "\n",
    "You agree that you will not, and will not encourage, assist, or enable others to:\n",
    "A. display, perform, or distribute any of the Data, or use the Data to update or create\n",
    "your own business listing information (i.e. you may not publicly display any of the Data to any\n",
    "third party, especially reviews and other user generated content, as this is a private data set\n",
    "challenge and not a license to compete with or disparage with Yelp);\n",
    "B. use the Data in connection with any commercial purpose;\n",
    "C. use the Data in any manner or for any purpose that may violate any law or regulation,\n",
    "or any right of any person including, but not limited to, intellectual property rights, rights of\n",
    "privacy and/or rights of personality, or which otherwise may be harmful (in Yelp's sole\n",
    "discretion) to Yelp, its providers, its suppliers, end users of this website, or your end users;\n",
    "D. use the Data on behalf of any third party without Yelp’s consent;\n",
    "E. create, redistribute or disclose any summary of, or metrics related to, the Data (e.g.,\n",
    "the number of reviewed business included in the Data and other statistical analysis) to any third\n",
    "party or on any website or other electronic media not expressly covered by this Agreement, this\n",
    "provision however, excludes any disclosures necessary for academic purposes, including\n",
    "without limitation the publication of academic articles concerning your use of the Data;\n",
    "F. use the Data in a manner that is competitive in nature with Yelp;\n",
    "G. display Data in a manner that could reasonably imply an endorsement, relationship or\n",
    "affiliation with or sponsorship between you or a third party and Yelp, other than your permitted\n",
    "use of the Data under the terms of the Data Agreement;\n",
    "H. rent, lease, sell, transfer, assign, or sublicense, any part of the Data;\n",
    "I. modify, rate, rank, review, vote or comment on, or otherwise respond to the content\n",
    "contained in the Data;\n",
    "J. display the Data or publicly communicate in any way, or on any site, in a manner that\n",
    "disparages Yelp or its products or services, or infringes any Yelp intellectual property or other\n",
    "rights;\n",
    "K. use the Data in a manner that could reasonably be interpreted to suggest that Yelp is\n",
    "the author or entity that is responsible, in whole or in part, for the creation or development of any\n",
    "Data or that such Data represents the views of Yelp; or\n",
    "L. use the Data for any purpose prohibited by law.\n",
    "\n",
    "5. Ownership\n",
    "\n",
    "As between you and Yelp, the Data and any derivative works you create from the\n",
    "Data, and all intellectual property rights contained in the foregoing, are and will at all times\n",
    "remain the sole and exclusive property of Yelp and are protected by applicable intellectual\n",
    "property laws and treaties (whether those rights happen to be registered or not, and wherever in\n",
    "the world those rights may exist), or as otherwise set forth in the contest rules where the various\n",
    "submitted solutions must be made available under a specified open source license, such as the\n",
    "MIT License.\n",
    "\n",
    "6. Indemnity\n",
    "\n",
    "You agree that your use of the Data is at your own risk and you agree to hold\n",
    "harmless, defend (subject to Yelp's right to participate with counsel it selects) and indemnify\n",
    "Yelp and its subsidiaries, affiliates, officers, agents, employees and suppliers from and against\n",
    "any and all claims, damages, liabilities, costs and fees (including reasonable attorneys’ fee)\n",
    "arising from, or in any way related to your or your end users’ use or implementation of the Data.\n",
    "You will not agree to any settlement that imposes any obligation on Yelp without Yelp's prior\n",
    "consent.\n",
    "                  \n",
    "7. No Warranties by Yelp; No Entitlement to Support from Yelp\n",
    "\n",
    "THE DATA IS PROVIDED\n",
    "“AS IS”, “WITH ALL FAULTS” AND “AS AVAILABLE” WITHOUT WARRANTY, OF ANY KIND\n",
    "AND AT YOUR SOLE RISK. EXCEPT TO THE MAXIMUM EXTENT REQUIRED BY\n",
    "APPLICABLE LAW, YELP DISCLAIMS ALL WARRANTIES, REPRESENTATIONS,\n",
    "CONDITIONS, AND DUTIES, WHETHER EXPRESS, IMPLIED OR STATUTORY,\n",
    "REGARDING THE DATA, INCLUDING, WITHOUT LIMITATION, ANY AND ALL IMPLIED\n",
    "WARRANTIES OF MERCHANTABILITY, ACCURACY, RESULTS OF USE, RELIABILITY,\n",
    "FITNESS FOR A PARTICULAR PURPOSE, TITLE, INTERFERENCE WITH QUIET\n",
    "ENJOYMENT AND NON-INFRINGEMENT OF THIRD-PARTY RIGHTS. FURTHER, YELP\n",
    "DISCLAIMS ANY WARRANTY THAT YOUR USE OF THE DATA WILL BE UNINTERRUPTED,\n",
    "SECURE, TIMELY OR ERROR FREE. FOR THE AVOIDANCE OF DOUBT, YOU\n",
    "ACKNOWLEDGE AND AGREE THAT THE DATA AGREEMENT DOES NOT ENTITLE YOU\n",
    "TO ANY SUPPORT FOR THE DATA. NO ADVICE OR INFORMATION, WHETHER ORAL OR\n",
    "IN WRITING, OBTAINED BY YOU FROM YELP WILL CREATE ANY WARRANTY NOT\n",
    "EXPRESSLY STATED IN THE DATA AGREEMENT.\n",
    "\n",
    "8. Limitation of Liability\n",
    "\n",
    "THE DATA IS BEING PROVIDED FREE OF CHARGE.\n",
    "ACCORDINGLY, YOU AGREE THAT YELP SHALL HAVE NO LIABILITY ARISING FROM OR\n",
    "BASED ON YOUR USE OF THE DATA. REGARDLESS OF WHETHER ANY REMEDY SET\n",
    "FORTH HEREIN FAILS OF ITS ESSENTIAL PURPOSE OR OTHERWISE, AND EXCEPT FOR\n",
    "BODILY INJURY, IN NO EVENT SHALL YELP OR ITS SUBSIDIARIES, AFFILIATES,\n",
    "OFFICERS, AGENTS, EMPLOYEES AND SUPPLIERS BE LIABLE TO YOU OR TO ANY\n",
    "THIRD PARTY UNDER ANY TORT, CONTRACT, NEGLIGENCE, STRICT LIABILITY OR\n",
    "OTHER LEGAL OR EQUITABLE THEORY FOR ANY LOST PROFITS, LOST OR\n",
    "CORRUPTED DATA, COMPUTER FAILURE OR MALFUNCTION, INTERRUPTION OF\n",
    "BUSINESS, OR OTHER SPECIAL, INDIRECT, INCIDENTAL OR CONSEQUENTIAL\n",
    "DAMAGES OF ANY KIND ARISING OUT OF THE USE OR INABILITY TO USE THE DATA,\n",
    "EVEN IF YELP HAS BEEN ADVISED OF THE POSSIBILITY OF SUCH LOSS OR DAMAGES\n",
    "AND WHETHER OR NOT SUCH LOSS OR DAMAGES ARE FORESEEABLE. ANY CLAIM\n",
    "ARISING OUT OF OR RELATING TO THE DATA AGREEMENT MUST BE BROUGHT WITHIN\n",
    "(1) YEAR AFTER THE OCCURRENCE OF THE EVENT GIVING RISE TO SUCH CLAIM. IF\n",
    "SUCH CLAIM IS NOT FILED, THEN THAT CLAIM IS PERMANENTLY BARRED. THIS\n",
    "APPLIES TO YOU AND YOUR SUCCESSORS, AND TO YELP AND ITS SUCCESSORS.\n",
    "NOTWITHSTANDING THE FOREGOING, SINCE THIS LICENSE IS PROVIDED TO YOU AT\n",
    "NO CHARGE, YELP’S MAXIMUM LIABILITY UNDER THIS DATA AGREEMENT SHALL NOT,\n",
    "IN ANY EVENT, EXCEED US$50.00.\n",
    "\n",
    "9. Limited Relationship\n",
    "                  \n",
    "Yelp and You are, and will remain, independent contractors, and\n",
    "nothing in the Data Agreement will be construed as creating an employer-employee\n",
    "relationship, partnership or joint venture. Although you are permitted to publicize your use of the\n",
    "Data, you agree not to make any other statements, without the prior written consent of Yelp,\n",
    "implying a different kind of relationship between you and Yelp, including any implied\n",
    "endorsement by Yelp. You do not have any authority of any kind to bind Yelp in any respect\n",
    "whatsoever.\n",
    "\n",
    "10. Term and Termination\n",
    "                  \n",
    "This Data Agreement is effective as of the date you download or\n",
    "otherwise access the Data (“Effective Date” ) and shall continue in full force and effect for a term\n",
    "of twelve (12) months from the Effective Date, unless earlier terminated by the parties or expires\n",
    "in accordance with this Section 11 (the “Term”). Either party may immediately terminate this\n",
    "Data Agreement, for any reason or for no reason, by providing written notice to the other party.\n",
    "Yelp will provide notice of termination to the email account you provided to Yelp during\n",
    "registration and termination will be effective upon delivery of the email notice. Yelp reserves the\n",
    "right, in its sole discretion (for any reason or for no reason) and at any time without notice to\n",
    "you, to change, suspend or discontinue the Data and/or suspend or terminate your further\n",
    "access to the Data. Any termination of the Data Agreement will also immediately terminate the\n",
    "licenses granted to you hereunder. Upon any termination of the Data Agreement, you will\n",
    "promptly: (i) delete and remove all Data from any location, including any web pages, scripts,\n",
    "widgets, applications and any other software in your possession or under your control; (ii)\n",
    "destroy and remove from all computers, hard drives, networks and other storage media in your\n",
    "possession or under your control all copies of any Data; and (iii) upon Yelp’s request, certify in\n",
    "writing to Yelp that such actions have been taken.\n",
    "\n",
    "11. Miscellaneous\n",
    "                  \n",
    "The Data Agreement encompasses the entire agreement between you and\n",
    "Yelp regarding the subject matter discussed therein. The Data Agreement, and any disputes\n",
    "arising from or relating to the interpretation thereof, will be governed by and construed under the\n",
    "laws of the State of California without regard to its conflict of law provisions. You agree to\n",
    "personal jurisdiction by and venue in the state and federal courts of the State of California, City\n",
    "of San Francisco. The failure of Yelp to exercise or enforce any right or provision of the Data\n",
    "Agreement will not constitute a waiver of such right or provision. The failure of either party to\n",
    "exercise in any respect any right provided for herein will not be deemed a waiver of any further\n",
    "rights hereunder. If any provision of the Data Agreement is found to be unenforceable or invalid,\n",
    "that provision will be replaced with terms that most closely match the intent of the provision that\n",
    "is not enforceable to the minimum extent necessary so that the remaining Data Agreement will\n",
    "otherwise remain in full force and effect and enforceable. The Data Agreement is not\n",
    "assignable, transferable or sublicensable, in whole or in part, by you except with Yelp's prior\n",
    "written consent. Any attempt to do so is void. Yelp may assign the Data Agreement, in whole or\n",
    "in part, at any time with or without notice to you. The section titles in the Data Agreement are for\n",
    "convenience only and have no legal or contractual effect.\n",
    "\n",
    "12. Survival \n",
    "\n",
    "Sections 4 through 13 will survive any expiration or termination of this Data\n",
    "Agreement for any reason.\n",
    "\n",
    "13.  Contact and Violations\n",
    "                  \n",
    "Please contact Yelp with any questions regarding the Data\n",
    "Agreement. Please report any violations of the Data Agreement couvidat@yelp.com.\n",
    "\"\"\""
   ]
  },
  {
   "cell_type": "markdown",
   "metadata": {},
   "source": [
    "The other thing we can do is just save the text to a string, and add it using `from_txt`:"
   ]
  },
  {
   "cell_type": "code",
   "execution_count": 13,
   "metadata": {},
   "outputs": [],
   "source": [
    "yelp_readme = '''\n",
    "Yelp Dataset JSON\n",
    "\n",
    "Each file is composed of a single object type, one JSON-object per-line.\n",
    "\n",
    "Take a look at some examples to get you started: https://github.com/Yelp/dataset-examples.\n",
    "\n",
    "Note: the follow examples contain inline comments, which are technically not valid JSON. This is done here to simplify the documentation and explaining the structure, the JSON files you download will not contain any comments and will be fully valid JSON.\n",
    "business.json\n",
    "\n",
    "Contains business data including location data, attributes, and categories.\n",
    "\n",
    "{\n",
    "    // string, 22 character unique string business id\n",
    "    \"business_id\": \"tnhfDv5Il8EaGSXZGiuQGg\",\n",
    "\n",
    "    // string, the business's name\n",
    "    \"name\": \"Garaje\",\n",
    "\n",
    "    // string, the neighborhood's name\n",
    "    \"neighborhood\": \"SoMa\",\n",
    "\n",
    "    // string, the full address of the business\n",
    "    \"address\": \"475 3rd St\",\n",
    "\n",
    "    // string, the city\n",
    "    \"city\": \"San Francisco\",\n",
    "\n",
    "    // string, 2 character state code, if applicable\n",
    "    \"state\": \"CA\",\n",
    "\n",
    "    // string, the postal code\n",
    "    \"postal code\": \"94107\",\n",
    "\n",
    "    // float, latitude\n",
    "    \"latitude\": 37.7817529521,\n",
    "\n",
    "    // float, longitude\n",
    "    \"longitude\": -122.39612197,\n",
    "\n",
    "    // float, star rating, rounded to half-stars\n",
    "    \"stars\": 4.5,\n",
    "\n",
    "    // interger, number of reviews\n",
    "    \"review_count\": 1198,\n",
    "\n",
    "    // integer, 0 or 1 for closed or open, respectively\n",
    "    \"is_open\": 1,\n",
    "\n",
    "    // object, business attributes to values. note: some attribute values might be objects\n",
    "    \"attributes\": {\n",
    "        \"RestaurantsTakeOut\": true,\n",
    "        \"BusinessParking\": {\n",
    "            \"garage\": false,\n",
    "            \"street\": true,\n",
    "            \"validated\": false,\n",
    "            \"lot\": false,\n",
    "            \"valet\": false\n",
    "        },\n",
    "    },\n",
    "\n",
    "    // an array of strings of business categories\n",
    "    \"categories\": [\n",
    "        \"Mexican\",\n",
    "        \"Burgers\",\n",
    "        \"Gastropubs\"\n",
    "    ],\n",
    "\n",
    "    // an object of key day to value hours, hours are using a 24hr clock\n",
    "    \"hours\": {\n",
    "        \"Monday\": \"10:00-21:00\",\n",
    "        \"Tuesday\": \"10:00-21:00\",\n",
    "        \"Friday\": \"10:00-21:00\",\n",
    "        \"Wednesday\": \"10:00-21:00\",\n",
    "        \"Thursday\": \"10:00-21:00\",\n",
    "        \"Sunday\": \"11:00-18:00\",\n",
    "        \"Saturday\": \"10:00-21:00\"\n",
    "    }\n",
    "}\n",
    "\n",
    "review.json\n",
    "\n",
    "Contains full review text data including the user_id that wrote the review and the business_id the review is written for.\n",
    "\n",
    "{\n",
    "    // string, 22 character unique review id\n",
    "    \"review_id\": \"zdSx_SD6obEhz9VrW9uAWA\",\n",
    "\n",
    "    // string, 22 character unique user id, maps to the user in user.json\n",
    "    \"user_id\": \"Ha3iJu77CxlrFm-vQRs_8g\",\n",
    "\n",
    "    // string, 22 character business id, maps to business in business.json\n",
    "    \"business_id\": \"tnhfDv5Il8EaGSXZGiuQGg\",\n",
    "\n",
    "    // integer, star rating\n",
    "    \"stars\": 4,\n",
    "\n",
    "    // string, date formatted YYYY-MM-DD\n",
    "    \"date\": \"2016-03-09\",\n",
    "\n",
    "    // string, the review itself\n",
    "    \"text\": \"Great place to hang out after work: the prices are decent, and the ambience is fun. It's a bit loud, but very lively. The staff is friendly, and the food is good. They have a good selection of drinks.\",\n",
    "\n",
    "    // integer, number of useful votes received\n",
    "    \"useful\": 0,\n",
    "\n",
    "    // integer, number of funny votes received\n",
    "    \"funny\": 0,\n",
    "\n",
    "    // integer, number of cool votes received\n",
    "    \"cool\": 0\n",
    "}\n",
    "\n",
    "user.json\n",
    "\n",
    "User data including the user's friend mapping and all the metadata associated with the user.\n",
    "\n",
    "{\n",
    "    // string, 22 character unique user id, maps to the user in user.json\n",
    "    \"user_id\": \"Ha3iJu77CxlrFm-vQRs_8g\",\n",
    "\n",
    "    // string, the user's first name\n",
    "    \"name\": \"Sebastien\",\n",
    "\n",
    "    // integer, the number of reviews they've written\n",
    "    \"review_count\": 56,\n",
    "\n",
    "    // string, when the user joined Yelp, formatted like YYYY-MM-DD\n",
    "    \"yelping_since\": \"2011-01-01\",\n",
    "\n",
    "    // array of strings, an array of the user's friend as user_ids\n",
    "    \"friends\": [\n",
    "        \"wqoXYLWmpkEH0YvTmHBsJQ\",\n",
    "        \"KUXLLiJGrjtSsapmxmpvTA\",\n",
    "        \"6e9rJKQC3n0RSKyHLViL-Q\"\n",
    "    ],\n",
    "\n",
    "    // integer, number of useful votes sent by the user\n",
    "    \"useful\": 21,\n",
    "\n",
    "    // integer, number of funny votes sent by the user\n",
    "    \"funny\": 88,\n",
    "\n",
    "    // integer, number of cool votes sent by the user\n",
    "    \"cool\": 15,\n",
    "\n",
    "    // integer, number of fans the user has\n",
    "    \"fans\": 1032,\n",
    "\n",
    "    // array of integers, the years the user was elite\n",
    "    \"elite\": [\n",
    "        2012,\n",
    "        2013\n",
    "    ],\n",
    "\n",
    "    // float, average rating of all reviews\n",
    "    \"average_stars\": 4.31,\n",
    "\n",
    "    // integer, number of hot compliments received by the user\n",
    "    \"compliment_hot\": 339,\n",
    "\n",
    "    // integer, number of more compliments received by the user\n",
    "    \"compliment_more\": 668,\n",
    "\n",
    "    // integer, number of profile compliments received by the user\n",
    "    \"compliment_profile\": 42,\n",
    "\n",
    "    // integer, number of cute compliments received by the user\n",
    "    \"compliment_cute\": 62,\n",
    "\n",
    "    // integer, number of list compliments received by the user\n",
    "    \"compliment_list\": 37,\n",
    "\n",
    "    // integer, number of note compliments received by the user\n",
    "    \"compliment_note\": 356,\n",
    "\n",
    "    // integer, number of plain compliments received by the user\n",
    "    \"compliment_plain\": 68,\n",
    "\n",
    "    // integer, number of cool compliments received by the user\n",
    "    \"compliment_cool\": 91,\n",
    "\n",
    "    // integer, number of funny compliments received by the user\n",
    "    \"compliment_funny\": 99,\n",
    "\n",
    "    // integer, number of writer compliments received by the user\n",
    "    \"compliment_writer\": 95,\n",
    "\n",
    "    // integer, number of photo compliments received by the user\n",
    "    \"compliment_photos\": 50\n",
    "}\n",
    "\n",
    "checkin.json\n",
    "\n",
    "Checkins on a business.\n",
    "\n",
    "{\n",
    "    // nested object of the day of the week with key of\n",
    "    // the hour (using a 24hr clock) with the count of checkins\n",
    "    // for that hour (e.g. 14:00 - 14:59).\n",
    "    \"time\": {\n",
    "        \"Wednesday\": {\n",
    "            \"14:00\": 2,\n",
    "            \"16:00\": 1,\n",
    "            \"2:00\": 1,\n",
    "            \"0:00\": 1\n",
    "        },\n",
    "        \"Sunday\": {\n",
    "            \"16:00\": 8,\n",
    "            \"14:00\": 3,\n",
    "            \"15:00\": 3,\n",
    "            \"13:00\": 1,\n",
    "            \"18:00\": 2,\n",
    "            \"23:00\": 1,\n",
    "            \"21:00\": 1,\n",
    "            \"17:00\": 2\n",
    "        },\n",
    "        \"Friday\": {\n",
    "            \"16:00\": 1,\n",
    "            \"13:00\": 1,\n",
    "            \"11:00\": 2,\n",
    "            \"23:00\": 2\n",
    "        },\n",
    "    },\n",
    "\n",
    "    // string, 22 character business id, maps to business in business.json\n",
    "    \"business_id\": \"tnhfDv5Il8EaGSXZGiuQGg\"\n",
    "}\n",
    "\n",
    "tip.json\n",
    "\n",
    "Tips written by a user on a business. Tips are shorter than reviews and tend to convey quick suggestions.\n",
    "\n",
    "{\n",
    "    // string, text of the tip\n",
    "    \"text\": \"Secret menu - fried chicken sando is da bombbbbbb Their zapatos are good too.\",\n",
    "\n",
    "    // string, when the tip was written, formatted like YYYY-MM-DD\n",
    "    \"date\": \"2013-09-20\",\n",
    "\n",
    "    // integer, how many likes it has\n",
    "    \"likes\": 172,\n",
    "\n",
    "    // string, 22 character business id, maps to business in business.json\n",
    "    \"business_id\": \"tnhfDv5Il8EaGSXZGiuQGg\",\n",
    "\n",
    "    // string, 22 character unique user id, maps to the user in user.json\n",
    "    \"user_id\": \"49JhAJh8vSQ-vM4Aourl0g\"\n",
    "}\n",
    "\n",
    "photo.json\n",
    "\n",
    "Contains photo data including the caption and classification (one of \"food\", \"drink\", \"menu\", \"inside\" or \"outside\").\n",
    "\n",
    "{\n",
    "    // string, 22 character unique photo id\n",
    "    \"photo_id\": \"_nN_DhLXkfwEkwPNxne9hw\",\n",
    "\n",
    "\n",
    "    // string, 22 character business id, maps to business in business.json\n",
    "    \"business_id\" : \"tnhfDv5Il8EaGSXZGiuQGg\",\n",
    "\n",
    "    // string, the photo caption, if any\n",
    "    \"caption\" : \"carne asada fries\",\n",
    "\n",
    "    // string, the category the photo belongs to, if any\n",
    "    \"label\" : \"food\"\n",
    "}\n",
    "'''\n"
   ]
  },
  {
   "cell_type": "markdown",
   "metadata": {},
   "source": [
    "Next, we combine the complete set of files into a URL list and use this to build our json file entry. In our case, just the 1 file"
   ]
  },
  {
   "cell_type": "code",
   "execution_count": 15,
   "metadata": {},
   "outputs": [],
   "source": [
    "rawdata.add_metadata(kind='DESCR', contents=yelp_readme)\n",
    "rawdata.add_metadata(kind='LICENSE', contents=yelp_license)\n"
   ]
  },
  {
   "cell_type": "code",
   "execution_count": 16,
   "metadata": {},
   "outputs": [
    {
     "data": {
      "text/plain": [
       "[{'hash_type': 'sha1',\n",
       "  'hash_value': None,\n",
       "  'name': None,\n",
       "  'file_name': 'yelp_dataset.tar.gz'},\n",
       " {'contents': '\\nYelp Dataset JSON\\n\\nEach file is composed of a single object type, one JSON-object per-line.\\n\\nTake a look at some examples to get you started: https://github.com/Yelp/dataset-examples.\\n\\nNote: the follow examples contain inline comments, which are technically not valid JSON. This is done here to simplify the documentation and explaining the structure, the JSON files you download will not contain any comments and will be fully valid JSON.\\nbusiness.json\\n\\nContains business data including location data, attributes, and categories.\\n\\n{\\n    // string, 22 character unique string business id\\n    \"business_id\": \"tnhfDv5Il8EaGSXZGiuQGg\",\\n\\n    // string, the business\\'s name\\n    \"name\": \"Garaje\",\\n\\n    // string, the neighborhood\\'s name\\n    \"neighborhood\": \"SoMa\",\\n\\n    // string, the full address of the business\\n    \"address\": \"475 3rd St\",\\n\\n    // string, the city\\n    \"city\": \"San Francisco\",\\n\\n    // string, 2 character state code, if applicable\\n    \"state\": \"CA\",\\n\\n    // string, the postal code\\n    \"postal code\": \"94107\",\\n\\n    // float, latitude\\n    \"latitude\": 37.7817529521,\\n\\n    // float, longitude\\n    \"longitude\": -122.39612197,\\n\\n    // float, star rating, rounded to half-stars\\n    \"stars\": 4.5,\\n\\n    // interger, number of reviews\\n    \"review_count\": 1198,\\n\\n    // integer, 0 or 1 for closed or open, respectively\\n    \"is_open\": 1,\\n\\n    // object, business attributes to values. note: some attribute values might be objects\\n    \"attributes\": {\\n        \"RestaurantsTakeOut\": true,\\n        \"BusinessParking\": {\\n            \"garage\": false,\\n            \"street\": true,\\n            \"validated\": false,\\n            \"lot\": false,\\n            \"valet\": false\\n        },\\n    },\\n\\n    // an array of strings of business categories\\n    \"categories\": [\\n        \"Mexican\",\\n        \"Burgers\",\\n        \"Gastropubs\"\\n    ],\\n\\n    // an object of key day to value hours, hours are using a 24hr clock\\n    \"hours\": {\\n        \"Monday\": \"10:00-21:00\",\\n        \"Tuesday\": \"10:00-21:00\",\\n        \"Friday\": \"10:00-21:00\",\\n        \"Wednesday\": \"10:00-21:00\",\\n        \"Thursday\": \"10:00-21:00\",\\n        \"Sunday\": \"11:00-18:00\",\\n        \"Saturday\": \"10:00-21:00\"\\n    }\\n}\\n\\nreview.json\\n\\nContains full review text data including the user_id that wrote the review and the business_id the review is written for.\\n\\n{\\n    // string, 22 character unique review id\\n    \"review_id\": \"zdSx_SD6obEhz9VrW9uAWA\",\\n\\n    // string, 22 character unique user id, maps to the user in user.json\\n    \"user_id\": \"Ha3iJu77CxlrFm-vQRs_8g\",\\n\\n    // string, 22 character business id, maps to business in business.json\\n    \"business_id\": \"tnhfDv5Il8EaGSXZGiuQGg\",\\n\\n    // integer, star rating\\n    \"stars\": 4,\\n\\n    // string, date formatted YYYY-MM-DD\\n    \"date\": \"2016-03-09\",\\n\\n    // string, the review itself\\n    \"text\": \"Great place to hang out after work: the prices are decent, and the ambience is fun. It\\'s a bit loud, but very lively. The staff is friendly, and the food is good. They have a good selection of drinks.\",\\n\\n    // integer, number of useful votes received\\n    \"useful\": 0,\\n\\n    // integer, number of funny votes received\\n    \"funny\": 0,\\n\\n    // integer, number of cool votes received\\n    \"cool\": 0\\n}\\n\\nuser.json\\n\\nUser data including the user\\'s friend mapping and all the metadata associated with the user.\\n\\n{\\n    // string, 22 character unique user id, maps to the user in user.json\\n    \"user_id\": \"Ha3iJu77CxlrFm-vQRs_8g\",\\n\\n    // string, the user\\'s first name\\n    \"name\": \"Sebastien\",\\n\\n    // integer, the number of reviews they\\'ve written\\n    \"review_count\": 56,\\n\\n    // string, when the user joined Yelp, formatted like YYYY-MM-DD\\n    \"yelping_since\": \"2011-01-01\",\\n\\n    // array of strings, an array of the user\\'s friend as user_ids\\n    \"friends\": [\\n        \"wqoXYLWmpkEH0YvTmHBsJQ\",\\n        \"KUXLLiJGrjtSsapmxmpvTA\",\\n        \"6e9rJKQC3n0RSKyHLViL-Q\"\\n    ],\\n\\n    // integer, number of useful votes sent by the user\\n    \"useful\": 21,\\n\\n    // integer, number of funny votes sent by the user\\n    \"funny\": 88,\\n\\n    // integer, number of cool votes sent by the user\\n    \"cool\": 15,\\n\\n    // integer, number of fans the user has\\n    \"fans\": 1032,\\n\\n    // array of integers, the years the user was elite\\n    \"elite\": [\\n        2012,\\n        2013\\n    ],\\n\\n    // float, average rating of all reviews\\n    \"average_stars\": 4.31,\\n\\n    // integer, number of hot compliments received by the user\\n    \"compliment_hot\": 339,\\n\\n    // integer, number of more compliments received by the user\\n    \"compliment_more\": 668,\\n\\n    // integer, number of profile compliments received by the user\\n    \"compliment_profile\": 42,\\n\\n    // integer, number of cute compliments received by the user\\n    \"compliment_cute\": 62,\\n\\n    // integer, number of list compliments received by the user\\n    \"compliment_list\": 37,\\n\\n    // integer, number of note compliments received by the user\\n    \"compliment_note\": 356,\\n\\n    // integer, number of plain compliments received by the user\\n    \"compliment_plain\": 68,\\n\\n    // integer, number of cool compliments received by the user\\n    \"compliment_cool\": 91,\\n\\n    // integer, number of funny compliments received by the user\\n    \"compliment_funny\": 99,\\n\\n    // integer, number of writer compliments received by the user\\n    \"compliment_writer\": 95,\\n\\n    // integer, number of photo compliments received by the user\\n    \"compliment_photos\": 50\\n}\\n\\ncheckin.json\\n\\nCheckins on a business.\\n\\n{\\n    // nested object of the day of the week with key of\\n    // the hour (using a 24hr clock) with the count of checkins\\n    // for that hour (e.g. 14:00 - 14:59).\\n    \"time\": {\\n        \"Wednesday\": {\\n            \"14:00\": 2,\\n            \"16:00\": 1,\\n            \"2:00\": 1,\\n            \"0:00\": 1\\n        },\\n        \"Sunday\": {\\n            \"16:00\": 8,\\n            \"14:00\": 3,\\n            \"15:00\": 3,\\n            \"13:00\": 1,\\n            \"18:00\": 2,\\n            \"23:00\": 1,\\n            \"21:00\": 1,\\n            \"17:00\": 2\\n        },\\n        \"Friday\": {\\n            \"16:00\": 1,\\n            \"13:00\": 1,\\n            \"11:00\": 2,\\n            \"23:00\": 2\\n        },\\n    },\\n\\n    // string, 22 character business id, maps to business in business.json\\n    \"business_id\": \"tnhfDv5Il8EaGSXZGiuQGg\"\\n}\\n\\ntip.json\\n\\nTips written by a user on a business. Tips are shorter than reviews and tend to convey quick suggestions.\\n\\n{\\n    // string, text of the tip\\n    \"text\": \"Secret menu - fried chicken sando is da bombbbbbb Their zapatos are good too.\",\\n\\n    // string, when the tip was written, formatted like YYYY-MM-DD\\n    \"date\": \"2013-09-20\",\\n\\n    // integer, how many likes it has\\n    \"likes\": 172,\\n\\n    // string, 22 character business id, maps to business in business.json\\n    \"business_id\": \"tnhfDv5Il8EaGSXZGiuQGg\",\\n\\n    // string, 22 character unique user id, maps to the user in user.json\\n    \"user_id\": \"49JhAJh8vSQ-vM4Aourl0g\"\\n}\\n\\nphoto.json\\n\\nContains photo data including the caption and classification (one of \"food\", \"drink\", \"menu\", \"inside\" or \"outside\").\\n\\n{\\n    // string, 22 character unique photo id\\n    \"photo_id\": \"_nN_DhLXkfwEkwPNxne9hw\",\\n\\n\\n    // string, 22 character business id, maps to business in business.json\\n    \"business_id\" : \"tnhfDv5Il8EaGSXZGiuQGg\",\\n\\n    // string, the photo caption, if any\\n    \"caption\" : \"carne asada fries\",\\n\\n    // string, the category the photo belongs to, if any\\n    \"label\" : \"food\"\\n}\\n',\n",
       "  'file_name': 'yelp.readme',\n",
       "  'name': 'DESCR'},\n",
       " {'contents': '\\nYelp Dataset JSON\\n\\nEach file is composed of a single object type, one JSON-object per-line.\\n\\nTake a look at some examples to get you started: https://github.com/Yelp/dataset-examples.\\n\\nNote: the follow examples contain inline comments, which are technically not valid JSON. This is done here to simplify the documentation and explaining the structure, the JSON files you download will not contain any comments and will be fully valid JSON.\\nbusiness.json\\n\\nContains business data including location data, attributes, and categories.\\n\\n{\\n    // string, 22 character unique string business id\\n    \"business_id\": \"tnhfDv5Il8EaGSXZGiuQGg\",\\n\\n    // string, the business\\'s name\\n    \"name\": \"Garaje\",\\n\\n    // string, the neighborhood\\'s name\\n    \"neighborhood\": \"SoMa\",\\n\\n    // string, the full address of the business\\n    \"address\": \"475 3rd St\",\\n\\n    // string, the city\\n    \"city\": \"San Francisco\",\\n\\n    // string, 2 character state code, if applicable\\n    \"state\": \"CA\",\\n\\n    // string, the postal code\\n    \"postal code\": \"94107\",\\n\\n    // float, latitude\\n    \"latitude\": 37.7817529521,\\n\\n    // float, longitude\\n    \"longitude\": -122.39612197,\\n\\n    // float, star rating, rounded to half-stars\\n    \"stars\": 4.5,\\n\\n    // interger, number of reviews\\n    \"review_count\": 1198,\\n\\n    // integer, 0 or 1 for closed or open, respectively\\n    \"is_open\": 1,\\n\\n    // object, business attributes to values. note: some attribute values might be objects\\n    \"attributes\": {\\n        \"RestaurantsTakeOut\": true,\\n        \"BusinessParking\": {\\n            \"garage\": false,\\n            \"street\": true,\\n            \"validated\": false,\\n            \"lot\": false,\\n            \"valet\": false\\n        },\\n    },\\n\\n    // an array of strings of business categories\\n    \"categories\": [\\n        \"Mexican\",\\n        \"Burgers\",\\n        \"Gastropubs\"\\n    ],\\n\\n    // an object of key day to value hours, hours are using a 24hr clock\\n    \"hours\": {\\n        \"Monday\": \"10:00-21:00\",\\n        \"Tuesday\": \"10:00-21:00\",\\n        \"Friday\": \"10:00-21:00\",\\n        \"Wednesday\": \"10:00-21:00\",\\n        \"Thursday\": \"10:00-21:00\",\\n        \"Sunday\": \"11:00-18:00\",\\n        \"Saturday\": \"10:00-21:00\"\\n    }\\n}\\n\\nreview.json\\n\\nContains full review text data including the user_id that wrote the review and the business_id the review is written for.\\n\\n{\\n    // string, 22 character unique review id\\n    \"review_id\": \"zdSx_SD6obEhz9VrW9uAWA\",\\n\\n    // string, 22 character unique user id, maps to the user in user.json\\n    \"user_id\": \"Ha3iJu77CxlrFm-vQRs_8g\",\\n\\n    // string, 22 character business id, maps to business in business.json\\n    \"business_id\": \"tnhfDv5Il8EaGSXZGiuQGg\",\\n\\n    // integer, star rating\\n    \"stars\": 4,\\n\\n    // string, date formatted YYYY-MM-DD\\n    \"date\": \"2016-03-09\",\\n\\n    // string, the review itself\\n    \"text\": \"Great place to hang out after work: the prices are decent, and the ambience is fun. It\\'s a bit loud, but very lively. The staff is friendly, and the food is good. They have a good selection of drinks.\",\\n\\n    // integer, number of useful votes received\\n    \"useful\": 0,\\n\\n    // integer, number of funny votes received\\n    \"funny\": 0,\\n\\n    // integer, number of cool votes received\\n    \"cool\": 0\\n}\\n\\nuser.json\\n\\nUser data including the user\\'s friend mapping and all the metadata associated with the user.\\n\\n{\\n    // string, 22 character unique user id, maps to the user in user.json\\n    \"user_id\": \"Ha3iJu77CxlrFm-vQRs_8g\",\\n\\n    // string, the user\\'s first name\\n    \"name\": \"Sebastien\",\\n\\n    // integer, the number of reviews they\\'ve written\\n    \"review_count\": 56,\\n\\n    // string, when the user joined Yelp, formatted like YYYY-MM-DD\\n    \"yelping_since\": \"2011-01-01\",\\n\\n    // array of strings, an array of the user\\'s friend as user_ids\\n    \"friends\": [\\n        \"wqoXYLWmpkEH0YvTmHBsJQ\",\\n        \"KUXLLiJGrjtSsapmxmpvTA\",\\n        \"6e9rJKQC3n0RSKyHLViL-Q\"\\n    ],\\n\\n    // integer, number of useful votes sent by the user\\n    \"useful\": 21,\\n\\n    // integer, number of funny votes sent by the user\\n    \"funny\": 88,\\n\\n    // integer, number of cool votes sent by the user\\n    \"cool\": 15,\\n\\n    // integer, number of fans the user has\\n    \"fans\": 1032,\\n\\n    // array of integers, the years the user was elite\\n    \"elite\": [\\n        2012,\\n        2013\\n    ],\\n\\n    // float, average rating of all reviews\\n    \"average_stars\": 4.31,\\n\\n    // integer, number of hot compliments received by the user\\n    \"compliment_hot\": 339,\\n\\n    // integer, number of more compliments received by the user\\n    \"compliment_more\": 668,\\n\\n    // integer, number of profile compliments received by the user\\n    \"compliment_profile\": 42,\\n\\n    // integer, number of cute compliments received by the user\\n    \"compliment_cute\": 62,\\n\\n    // integer, number of list compliments received by the user\\n    \"compliment_list\": 37,\\n\\n    // integer, number of note compliments received by the user\\n    \"compliment_note\": 356,\\n\\n    // integer, number of plain compliments received by the user\\n    \"compliment_plain\": 68,\\n\\n    // integer, number of cool compliments received by the user\\n    \"compliment_cool\": 91,\\n\\n    // integer, number of funny compliments received by the user\\n    \"compliment_funny\": 99,\\n\\n    // integer, number of writer compliments received by the user\\n    \"compliment_writer\": 95,\\n\\n    // integer, number of photo compliments received by the user\\n    \"compliment_photos\": 50\\n}\\n\\ncheckin.json\\n\\nCheckins on a business.\\n\\n{\\n    // nested object of the day of the week with key of\\n    // the hour (using a 24hr clock) with the count of checkins\\n    // for that hour (e.g. 14:00 - 14:59).\\n    \"time\": {\\n        \"Wednesday\": {\\n            \"14:00\": 2,\\n            \"16:00\": 1,\\n            \"2:00\": 1,\\n            \"0:00\": 1\\n        },\\n        \"Sunday\": {\\n            \"16:00\": 8,\\n            \"14:00\": 3,\\n            \"15:00\": 3,\\n            \"13:00\": 1,\\n            \"18:00\": 2,\\n            \"23:00\": 1,\\n            \"21:00\": 1,\\n            \"17:00\": 2\\n        },\\n        \"Friday\": {\\n            \"16:00\": 1,\\n            \"13:00\": 1,\\n            \"11:00\": 2,\\n            \"23:00\": 2\\n        },\\n    },\\n\\n    // string, 22 character business id, maps to business in business.json\\n    \"business_id\": \"tnhfDv5Il8EaGSXZGiuQGg\"\\n}\\n\\ntip.json\\n\\nTips written by a user on a business. Tips are shorter than reviews and tend to convey quick suggestions.\\n\\n{\\n    // string, text of the tip\\n    \"text\": \"Secret menu - fried chicken sando is da bombbbbbb Their zapatos are good too.\",\\n\\n    // string, when the tip was written, formatted like YYYY-MM-DD\\n    \"date\": \"2013-09-20\",\\n\\n    // integer, how many likes it has\\n    \"likes\": 172,\\n\\n    // string, 22 character business id, maps to business in business.json\\n    \"business_id\": \"tnhfDv5Il8EaGSXZGiuQGg\",\\n\\n    // string, 22 character unique user id, maps to the user in user.json\\n    \"user_id\": \"49JhAJh8vSQ-vM4Aourl0g\"\\n}\\n\\nphoto.json\\n\\nContains photo data including the caption and classification (one of \"food\", \"drink\", \"menu\", \"inside\" or \"outside\").\\n\\n{\\n    // string, 22 character unique photo id\\n    \"photo_id\": \"_nN_DhLXkfwEkwPNxne9hw\",\\n\\n\\n    // string, 22 character business id, maps to business in business.json\\n    \"business_id\" : \"tnhfDv5Il8EaGSXZGiuQGg\",\\n\\n    // string, the photo caption, if any\\n    \"caption\" : \"carne asada fries\",\\n\\n    // string, the category the photo belongs to, if any\\n    \"label\" : \"food\"\\n}\\n',\n",
       "  'file_name': 'yelp.readme',\n",
       "  'name': 'DESCR'},\n",
       " {'contents': \"\\nYELP DATASET TERMS OF USE\\n\\nLast Updated: July 26, 2018\\nThis document governs the terms under which you may access and use the data that Yelp\\nmakes available for download through this website (or made available by other means) for\\nacademic purposes (the “Data”). This document incorporates the terms of the following\\nadditional document, including all future amendments or modifications thereto (collectively, and\\ntogether with this document, the “Data Agreement” ):\\n\\nYelp Terms of Service:\\n\\nBy accessing or using the Data, you agree to be bound by the Data Agreement and represent\\nthat the contact information you provide to Yelp is correct. If you access or use the Data on\\nbehalf of a university, school, or other entity, you represent that you have authority to bind such\\nentity and its affiliates to the Data Agreement and that it is fully binding upon them. In such\\ncase, the term “you” and “your” will refer to such entity and its affiliates. If you do not have\\nauthority, or if you do not agree with the terms of the Data Agreement, you may not access or\\nuse the Data. You should read and keep a copy of each component of the Data Agreement for\\nyour records. In the event of a conflict among them, the terms of this document will control.\\n\\n1. Purpose\\n\\nThe Data is made available by Yelp Inc. (“Yelp”) to enable you to access valuable\\nlocal information to develop an academic project as part of an ongoing course of study. With this\\nin mind, Yelp reserves the right to continually review and evaluate all uses of the Data provided\\nunder the Data Agreement.\\n\\n2. Changes\\n\\nYelp reserves the right to modify or revise the Data Agreement at any time. If the\\nchange is deemed to be material and it is foreseeable that such change could be adverse to\\nyour interests, Yelp will provide you notice of the change to this Data Agreement by sending you\\nan email to the email you provided to Yelp. Your continued use of the Data after the notice of\\nmaterial change will constitute your acceptance of and agreement to such changes. \\n\\nIf YOU DO\\nNOT WISH TO BE BOUND TO ANY NEW TERMS, YOU MUST TERMINATE THE DATA\\nAGREEMENT BY IMMEDIATELY CEASING USE OF THE DATA AND DELETING IT FROM\\nANY SYSTEMS OR MEDIA.\\n\\n3. License\\n\\nSubject to the terms set forth in the Data Agreement (specifically the restrictions set\\nforth in Section 4 below), Yelp grants you a royalty-free, non-exclusive, revocable,\\nnon-sublicensable, non-transferable, fully paid-up right and license during the Term to use,\\naccess, and create derivative works of the Data in electronic form for academic purposes only.\\nYou may not use the Data for any other purpose without Yelp’s prior written consent. You\\nacknowledge and agree that Yelp may request information about, review, audit, and/or monitor\\nyour use of the Data at any time in order to confirm compliance with the Data Agreement.\\nNothing herein shall be construed as a license to use Yelp’s registered trademarks or service\\nmarks, or any other Yelp branding.\\n\\n4. Restrictions\\n\\nYou agree that you will not, and will not encourage, assist, or enable others to:\\nA. display, perform, or distribute any of the Data, or use the Data to update or create\\nyour own business listing information (i.e. you may not publicly display any of the Data to any\\nthird party, especially reviews and other user generated content, as this is a private data set\\nchallenge and not a license to compete with or disparage with Yelp);\\nB. use the Data in connection with any commercial purpose;\\nC. use the Data in any manner or for any purpose that may violate any law or regulation,\\nor any right of any person including, but not limited to, intellectual property rights, rights of\\nprivacy and/or rights of personality, or which otherwise may be harmful (in Yelp's sole\\ndiscretion) to Yelp, its providers, its suppliers, end users of this website, or your end users;\\nD. use the Data on behalf of any third party without Yelp’s consent;\\nE. create, redistribute or disclose any summary of, or metrics related to, the Data (e.g.,\\nthe number of reviewed business included in the Data and other statistical analysis) to any third\\nparty or on any website or other electronic media not expressly covered by this Agreement, this\\nprovision however, excludes any disclosures necessary for academic purposes, including\\nwithout limitation the publication of academic articles concerning your use of the Data;\\nF. use the Data in a manner that is competitive in nature with Yelp;\\nG. display Data in a manner that could reasonably imply an endorsement, relationship or\\naffiliation with or sponsorship between you or a third party and Yelp, other than your permitted\\nuse of the Data under the terms of the Data Agreement;\\nH. rent, lease, sell, transfer, assign, or sublicense, any part of the Data;\\nI. modify, rate, rank, review, vote or comment on, or otherwise respond to the content\\ncontained in the Data;\\nJ. display the Data or publicly communicate in any way, or on any site, in a manner that\\ndisparages Yelp or its products or services, or infringes any Yelp intellectual property or other\\nrights;\\nK. use the Data in a manner that could reasonably be interpreted to suggest that Yelp is\\nthe author or entity that is responsible, in whole or in part, for the creation or development of any\\nData or that such Data represents the views of Yelp; or\\nL. use the Data for any purpose prohibited by law.\\n\\n5. Ownership\\n\\nAs between you and Yelp, the Data and any derivative works you create from the\\nData, and all intellectual property rights contained in the foregoing, are and will at all times\\nremain the sole and exclusive property of Yelp and are protected by applicable intellectual\\nproperty laws and treaties (whether those rights happen to be registered or not, and wherever in\\nthe world those rights may exist), or as otherwise set forth in the contest rules where the various\\nsubmitted solutions must be made available under a specified open source license, such as the\\nMIT License.\\n\\n6. Indemnity\\n\\nYou agree that your use of the Data is at your own risk and you agree to hold\\nharmless, defend (subject to Yelp's right to participate with counsel it selects) and indemnify\\nYelp and its subsidiaries, affiliates, officers, agents, employees and suppliers from and against\\nany and all claims, damages, liabilities, costs and fees (including reasonable attorneys’ fee)\\narising from, or in any way related to your or your end users’ use or implementation of the Data.\\nYou will not agree to any settlement that imposes any obligation on Yelp without Yelp's prior\\nconsent.\\n                  \\n7. No Warranties by Yelp; No Entitlement to Support from Yelp\\n\\nTHE DATA IS PROVIDED\\n“AS IS”, “WITH ALL FAULTS” AND “AS AVAILABLE” WITHOUT WARRANTY, OF ANY KIND\\nAND AT YOUR SOLE RISK. EXCEPT TO THE MAXIMUM EXTENT REQUIRED BY\\nAPPLICABLE LAW, YELP DISCLAIMS ALL WARRANTIES, REPRESENTATIONS,\\nCONDITIONS, AND DUTIES, WHETHER EXPRESS, IMPLIED OR STATUTORY,\\nREGARDING THE DATA, INCLUDING, WITHOUT LIMITATION, ANY AND ALL IMPLIED\\nWARRANTIES OF MERCHANTABILITY, ACCURACY, RESULTS OF USE, RELIABILITY,\\nFITNESS FOR A PARTICULAR PURPOSE, TITLE, INTERFERENCE WITH QUIET\\nENJOYMENT AND NON-INFRINGEMENT OF THIRD-PARTY RIGHTS. FURTHER, YELP\\nDISCLAIMS ANY WARRANTY THAT YOUR USE OF THE DATA WILL BE UNINTERRUPTED,\\nSECURE, TIMELY OR ERROR FREE. FOR THE AVOIDANCE OF DOUBT, YOU\\nACKNOWLEDGE AND AGREE THAT THE DATA AGREEMENT DOES NOT ENTITLE YOU\\nTO ANY SUPPORT FOR THE DATA. NO ADVICE OR INFORMATION, WHETHER ORAL OR\\nIN WRITING, OBTAINED BY YOU FROM YELP WILL CREATE ANY WARRANTY NOT\\nEXPRESSLY STATED IN THE DATA AGREEMENT.\\n\\n8. Limitation of Liability\\n\\nTHE DATA IS BEING PROVIDED FREE OF CHARGE.\\nACCORDINGLY, YOU AGREE THAT YELP SHALL HAVE NO LIABILITY ARISING FROM OR\\nBASED ON YOUR USE OF THE DATA. REGARDLESS OF WHETHER ANY REMEDY SET\\nFORTH HEREIN FAILS OF ITS ESSENTIAL PURPOSE OR OTHERWISE, AND EXCEPT FOR\\nBODILY INJURY, IN NO EVENT SHALL YELP OR ITS SUBSIDIARIES, AFFILIATES,\\nOFFICERS, AGENTS, EMPLOYEES AND SUPPLIERS BE LIABLE TO YOU OR TO ANY\\nTHIRD PARTY UNDER ANY TORT, CONTRACT, NEGLIGENCE, STRICT LIABILITY OR\\nOTHER LEGAL OR EQUITABLE THEORY FOR ANY LOST PROFITS, LOST OR\\nCORRUPTED DATA, COMPUTER FAILURE OR MALFUNCTION, INTERRUPTION OF\\nBUSINESS, OR OTHER SPECIAL, INDIRECT, INCIDENTAL OR CONSEQUENTIAL\\nDAMAGES OF ANY KIND ARISING OUT OF THE USE OR INABILITY TO USE THE DATA,\\nEVEN IF YELP HAS BEEN ADVISED OF THE POSSIBILITY OF SUCH LOSS OR DAMAGES\\nAND WHETHER OR NOT SUCH LOSS OR DAMAGES ARE FORESEEABLE. ANY CLAIM\\nARISING OUT OF OR RELATING TO THE DATA AGREEMENT MUST BE BROUGHT WITHIN\\n(1) YEAR AFTER THE OCCURRENCE OF THE EVENT GIVING RISE TO SUCH CLAIM. IF\\nSUCH CLAIM IS NOT FILED, THEN THAT CLAIM IS PERMANENTLY BARRED. THIS\\nAPPLIES TO YOU AND YOUR SUCCESSORS, AND TO YELP AND ITS SUCCESSORS.\\nNOTWITHSTANDING THE FOREGOING, SINCE THIS LICENSE IS PROVIDED TO YOU AT\\nNO CHARGE, YELP’S MAXIMUM LIABILITY UNDER THIS DATA AGREEMENT SHALL NOT,\\nIN ANY EVENT, EXCEED US$50.00.\\n\\n9. Limited Relationship\\n                  \\nYelp and You are, and will remain, independent contractors, and\\nnothing in the Data Agreement will be construed as creating an employer-employee\\nrelationship, partnership or joint venture. Although you are permitted to publicize your use of the\\nData, you agree not to make any other statements, without the prior written consent of Yelp,\\nimplying a different kind of relationship between you and Yelp, including any implied\\nendorsement by Yelp. You do not have any authority of any kind to bind Yelp in any respect\\nwhatsoever.\\n\\n10. Term and Termination\\n                  \\nThis Data Agreement is effective as of the date you download or\\notherwise access the Data (“Effective Date” ) and shall continue in full force and effect for a term\\nof twelve (12) months from the Effective Date, unless earlier terminated by the parties or expires\\nin accordance with this Section 11 (the “Term”). Either party may immediately terminate this\\nData Agreement, for any reason or for no reason, by providing written notice to the other party.\\nYelp will provide notice of termination to the email account you provided to Yelp during\\nregistration and termination will be effective upon delivery of the email notice. Yelp reserves the\\nright, in its sole discretion (for any reason or for no reason) and at any time without notice to\\nyou, to change, suspend or discontinue the Data and/or suspend or terminate your further\\naccess to the Data. Any termination of the Data Agreement will also immediately terminate the\\nlicenses granted to you hereunder. Upon any termination of the Data Agreement, you will\\npromptly: (i) delete and remove all Data from any location, including any web pages, scripts,\\nwidgets, applications and any other software in your possession or under your control; (ii)\\ndestroy and remove from all computers, hard drives, networks and other storage media in your\\npossession or under your control all copies of any Data; and (iii) upon Yelp’s request, certify in\\nwriting to Yelp that such actions have been taken.\\n\\n11. Miscellaneous\\n                  \\nThe Data Agreement encompasses the entire agreement between you and\\nYelp regarding the subject matter discussed therein. The Data Agreement, and any disputes\\narising from or relating to the interpretation thereof, will be governed by and construed under the\\nlaws of the State of California without regard to its conflict of law provisions. You agree to\\npersonal jurisdiction by and venue in the state and federal courts of the State of California, City\\nof San Francisco. The failure of Yelp to exercise or enforce any right or provision of the Data\\nAgreement will not constitute a waiver of such right or provision. The failure of either party to\\nexercise in any respect any right provided for herein will not be deemed a waiver of any further\\nrights hereunder. If any provision of the Data Agreement is found to be unenforceable or invalid,\\nthat provision will be replaced with terms that most closely match the intent of the provision that\\nis not enforceable to the minimum extent necessary so that the remaining Data Agreement will\\notherwise remain in full force and effect and enforceable. The Data Agreement is not\\nassignable, transferable or sublicensable, in whole or in part, by you except with Yelp's prior\\nwritten consent. Any attempt to do so is void. Yelp may assign the Data Agreement, in whole or\\nin part, at any time with or without notice to you. The section titles in the Data Agreement are for\\nconvenience only and have no legal or contractual effect.\\n\\n12. Survival \\n\\nSections 4 through 13 will survive any expiration or termination of this Data\\nAgreement for any reason.\\n\\n13.  Contact and Violations\\n                  \\nPlease contact Yelp with any questions regarding the Data\\nAgreement. Please report any violations of the Data Agreement couvidat@yelp.com.\\n\",\n",
       "  'file_name': 'yelp.license',\n",
       "  'name': 'LICENSE'}]"
      ]
     },
     "execution_count": 16,
     "metadata": {},
     "output_type": "execute_result"
    }
   ],
   "source": [
    "rawdata.file_list"
   ]
  },
  {
   "cell_type": "markdown",
   "metadata": {},
   "source": [
    "### datasets.json\n",
    "The current list of datasets is stored in `datasources.json`, by default in `catalog/`\n",
    "\n",
    "We can add the url list using `add_datasource`"
   ]
  },
  {
   "cell_type": "code",
   "execution_count": 17,
   "metadata": {},
   "outputs": [],
   "source": [
    "from src import workflow"
   ]
  },
  {
   "cell_type": "code",
   "execution_count": 18,
   "metadata": {},
   "outputs": [
    {
     "name": "stderr",
     "output_type": "stream",
     "text": [
      "2019-02-26 14:24:38,472 - datasets - WARNING - No dataset file found: datasources.json\n"
     ]
    }
   ],
   "source": [
    "workflow.add_datasource(rawdata)"
   ]
  },
  {
   "cell_type": "code",
   "execution_count": 19,
   "metadata": {},
   "outputs": [
    {
     "data": {
      "text/plain": [
       "['yelp']"
      ]
     },
     "execution_count": 19,
     "metadata": {},
     "output_type": "execute_result"
    }
   ],
   "source": [
    "workflow.available_datasources()"
   ]
  },
  {
   "cell_type": "markdown",
   "metadata": {},
   "source": [
    "See that a generic `load_function` (`new_dataset`) has been used to process the data. This does nothing more than populates the DESCR and LICENSE fields (if possible), creating an otherwise empty `Dataset` object"
   ]
  },
  {
   "cell_type": "code",
   "execution_count": 21,
   "metadata": {},
   "outputs": [
    {
     "name": "stderr",
     "output_type": "stream",
     "text": [
      "2019-02-26 14:33:24,319 - utils - WARNING - Default unknown-dataset: Add parse function to generate `data` or `target`\n"
     ]
    },
    {
     "name": "stdout",
     "output_type": "stream",
     "text": [
      "CPU times: user 59.7 s, sys: 10.1 s, total: 1min 9s\n",
      "Wall time: 2min 14s\n"
     ]
    }
   ],
   "source": [
    "%%time\n",
    "dset = Dataset.from_raw('yelp')"
   ]
  },
  {
   "cell_type": "code",
   "execution_count": 22,
   "metadata": {},
   "outputs": [
    {
     "name": "stdout",
     "output_type": "stream",
     "text": [
      "\n",
      "YELP DATASET TERMS OF USE\n",
      "\n",
      "Last Updated: July 26, 2018\n",
      "This document governs the terms under which you may access and use the data that Yelp\n",
      "makes available for download through this website (or made available by other means) for\n",
      "academic purposes (the “Data”). This document incorporates the terms of the following\n",
      "additional document, including all future amendments or modifications thereto (collectively, and\n",
      "together with this document, the “Data Agreement” ):\n",
      "\n",
      "Yelp Terms of Service:\n",
      "\n",
      "By accessing or using the Data, you agree to be bound by the Data Agreement and represent\n",
      "that the contact information you provide to Yelp is correct. If you access or use the Data on\n",
      "behalf of a university, school, or other entity, you represent that you have authority to bind such\n",
      "entity and its affiliates to the Data Agreement and that it is fully binding upon them. In such\n",
      "case, the term “you” and “your” will refer to such entity and its affiliates. If you do not have\n",
      "authority, or if you do not agree with the terms of the Data Agreement, you may not access or\n",
      "use the Data. You should read and keep a copy of each component of the Data Agreement for\n",
      "your records. In the event of a conflict among them, the terms of this document will control.\n",
      "\n",
      "1. Purpose\n",
      "\n",
      "The Data is made available by Yelp Inc. (“Yelp”) to enable you to access valuable\n",
      "local information to develop an academic project as part of an ongoing course of study. With this\n",
      "in mind, Yelp reserves the right to continually review and evaluate all uses of the Data provided\n",
      "under the Data Agreement.\n",
      "\n",
      "2. Changes\n",
      "\n",
      "Yelp reserves the right to modify or revise the Data Agreement at any time. If the\n",
      "change is deemed to be material and it is foreseeable that such change could be adverse to\n",
      "your interests, Yelp will provide you notice of the change to this Data Agreement by sending you\n",
      "an email to the email you provided to Yelp. Your continued use of the Data after the notice of\n",
      "material change will constitute your acceptance of and agreement to such changes. \n",
      "\n",
      "If YOU DO\n",
      "NOT WISH TO BE BOUND TO ANY NEW TERMS, YOU MUST TERMINATE THE DATA\n",
      "AGREEMENT BY IMMEDIATELY CEASING USE OF THE DATA AND DELETING IT FROM\n",
      "ANY SYSTEMS OR MEDIA.\n",
      "\n",
      "3. License\n",
      "\n",
      "Subject to the terms set forth in the Data Agreement (specifically the restrictions set\n",
      "forth in Section 4 below), Yelp grants you a royalty-free, non-exclusive, revocable,\n",
      "non-sublicensable, non-transferable, fully paid-up right and license during the Term to use,\n",
      "access, and create derivative works of the Data in electronic form for academic purposes only.\n",
      "You may not use the Data for any other purpose without Yelp’s prior written consent. You\n",
      "acknowledge and agree that Yelp may request information about, review, audit, and/or monitor\n",
      "your use of the Data at any time in order to confirm compliance with the Data Agreement.\n",
      "Nothing herein shall be construed as a license to use Yelp’s registered trademarks or service\n",
      "marks, or any other Yelp branding.\n",
      "\n",
      "4. Restrictions\n",
      "\n",
      "You agree that you will not, and will not encourage, assist, or enable others to:\n",
      "A. display, perform, or distribute any of the Data, or use the Data to update or create\n",
      "your own business listing information (i.e. you may not publicly display any of the Data to any\n",
      "third party, especially reviews and other user generated content, as this is a private data set\n",
      "challenge and not a license to compete with or disparage with Yelp);\n",
      "B. use the Data in connection with any commercial purpose;\n",
      "C. use the Data in any manner or for any purpose that may violate any law or regulation,\n",
      "or any right of any person including, but not limited to, intellectual property rights, rights of\n",
      "privacy and/or rights of personality, or which otherwise may be harmful (in Yelp's sole\n",
      "discretion) to Yelp, its providers, its suppliers, end users of this website, or your end users;\n",
      "D. use the Data on behalf of any third party without Yelp’s consent;\n",
      "E. create, redistribute or disclose any summary of, or metrics related to, the Data (e.g.,\n",
      "the number of reviewed business included in the Data and other statistical analysis) to any third\n",
      "party or on any website or other electronic media not expressly covered by this Agreement, this\n",
      "provision however, excludes any disclosures necessary for academic purposes, including\n",
      "without limitation the publication of academic articles concerning your use of the Data;\n",
      "F. use the Data in a manner that is competitive in nature with Yelp;\n",
      "G. display Data in a manner that could reasonably imply an endorsement, relationship or\n",
      "affiliation with or sponsorship between you or a third party and Yelp, other than your permitted\n",
      "use of the Data under the terms of the Data Agreement;\n",
      "H. rent, lease, sell, transfer, assign, or sublicense, any part of the Data;\n",
      "I. modify, rate, rank, review, vote or comment on, or otherwise respond to the content\n",
      "contained in the Data;\n",
      "J. display the Data or publicly communicate in any way, or on any site, in a manner that\n",
      "disparages Yelp or its products or services, or infringes any Yelp intellectual property or other\n",
      "rights;\n",
      "K. use the Data in a manner that could reasonably be interpreted to suggest that Yelp is\n",
      "the author or entity that is responsible, in whole or in part, for the creation or development of any\n",
      "Data or that such Data represents the views of Yelp; or\n",
      "L. use the Data for any purpose prohibited by law.\n",
      "\n",
      "5. Ownership\n",
      "\n",
      "As between you and Yelp, the Data and any derivative works you create from the\n",
      "Data, and all intellectual property rights contained in the foregoing, are and will at all times\n",
      "remain the sole and exclusive property of Yelp and are protected by applicable intellectual\n",
      "property laws and treaties (whether those rights happen to be registered or not, and wherever in\n",
      "the world those rights may exist), or as otherwise set forth in the contest rules where the various\n",
      "submitted solutions must be made available under a specified open source license, such as the\n",
      "MIT License.\n",
      "\n",
      "6. Indemnity\n",
      "\n",
      "You agree that your use of the Data is at your own risk and you agree to hold\n",
      "harmless, defend (subject to Yelp's right to participate with counsel it selects) and indemnify\n",
      "Yelp and its subsidiaries, affiliates, officers, agents, employees and suppliers from and against\n",
      "any and all claims, damages, liabilities, costs and fees (including reasonable attorneys’ fee)\n",
      "arising from, or in any way related to your or your end users’ use or implementation of the Data.\n",
      "You will not agree to any settlement that imposes any obligation on Yelp without Yelp's prior\n",
      "consent.\n",
      "                  \n",
      "7. No Warranties by Yelp; No Entitlement to Support from Yelp\n",
      "\n",
      "THE DATA IS PROVIDED\n",
      "“AS IS”, “WITH ALL FAULTS” AND “AS AVAILABLE” WITHOUT WARRANTY, OF ANY KIND\n",
      "AND AT YOUR SOLE RISK. EXCEPT TO THE MAXIMUM EXTENT REQUIRED BY\n",
      "APPLICABLE LAW, YELP DISCLAIMS ALL WARRANTIES, REPRESENTATIONS,\n",
      "CONDITIONS, AND DUTIES, WHETHER EXPRESS, IMPLIED OR STATUTORY,\n",
      "REGARDING THE DATA, INCLUDING, WITHOUT LIMITATION, ANY AND ALL IMPLIED\n",
      "WARRANTIES OF MERCHANTABILITY, ACCURACY, RESULTS OF USE, RELIABILITY,\n",
      "FITNESS FOR A PARTICULAR PURPOSE, TITLE, INTERFERENCE WITH QUIET\n",
      "ENJOYMENT AND NON-INFRINGEMENT OF THIRD-PARTY RIGHTS. FURTHER, YELP\n",
      "DISCLAIMS ANY WARRANTY THAT YOUR USE OF THE DATA WILL BE UNINTERRUPTED,\n",
      "SECURE, TIMELY OR ERROR FREE. FOR THE AVOIDANCE OF DOUBT, YOU\n",
      "ACKNOWLEDGE AND AGREE THAT THE DATA AGREEMENT DOES NOT ENTITLE YOU\n",
      "TO ANY SUPPORT FOR THE DATA. NO ADVICE OR INFORMATION, WHETHER ORAL OR\n",
      "IN WRITING, OBTAINED BY YOU FROM YELP WILL CREATE ANY WARRANTY NOT\n",
      "EXPRESSLY STATED IN THE DATA AGREEMENT.\n",
      "\n",
      "8. Limitation of Liability\n",
      "\n",
      "THE DATA IS BEING PROVIDED FREE OF CHARGE.\n",
      "ACCORDINGLY, YOU AGREE THAT YELP SHALL HAVE NO LIABILITY ARISING FROM OR\n",
      "BASED ON YOUR USE OF THE DATA. REGARDLESS OF WHETHER ANY REMEDY SET\n",
      "FORTH HEREIN FAILS OF ITS ESSENTIAL PURPOSE OR OTHERWISE, AND EXCEPT FOR\n",
      "BODILY INJURY, IN NO EVENT SHALL YELP OR ITS SUBSIDIARIES, AFFILIATES,\n",
      "OFFICERS, AGENTS, EMPLOYEES AND SUPPLIERS BE LIABLE TO YOU OR TO ANY\n",
      "THIRD PARTY UNDER ANY TORT, CONTRACT, NEGLIGENCE, STRICT LIABILITY OR\n",
      "OTHER LEGAL OR EQUITABLE THEORY FOR ANY LOST PROFITS, LOST OR\n",
      "CORRUPTED DATA, COMPUTER FAILURE OR MALFUNCTION, INTERRUPTION OF\n",
      "BUSINESS, OR OTHER SPECIAL, INDIRECT, INCIDENTAL OR CONSEQUENTIAL\n",
      "DAMAGES OF ANY KIND ARISING OUT OF THE USE OR INABILITY TO USE THE DATA,\n",
      "EVEN IF YELP HAS BEEN ADVISED OF THE POSSIBILITY OF SUCH LOSS OR DAMAGES\n",
      "AND WHETHER OR NOT SUCH LOSS OR DAMAGES ARE FORESEEABLE. ANY CLAIM\n",
      "ARISING OUT OF OR RELATING TO THE DATA AGREEMENT MUST BE BROUGHT WITHIN\n",
      "(1) YEAR AFTER THE OCCURRENCE OF THE EVENT GIVING RISE TO SUCH CLAIM. IF\n",
      "SUCH CLAIM IS NOT FILED, THEN THAT CLAIM IS PERMANENTLY BARRED. THIS\n",
      "APPLIES TO YOU AND YOUR SUCCESSORS, AND TO YELP AND ITS SUCCESSORS.\n",
      "NOTWITHSTANDING THE FOREGOING, SINCE THIS LICENSE IS PROVIDED TO YOU AT\n",
      "NO CHARGE, YELP’S MAXIMUM LIABILITY UNDER THIS DATA AGREEMENT SHALL NOT,\n",
      "IN ANY EVENT, EXCEED US$50.00.\n",
      "\n",
      "9. Limited Relationship\n",
      "                  \n",
      "Yelp and You are, and will remain, independent contractors, and\n",
      "nothing in the Data Agreement will be construed as creating an employer-employee\n",
      "relationship, partnership or joint venture. Although you are permitted to publicize your use of the\n",
      "Data, you agree not to make any other statements, without the prior written consent of Yelp,\n",
      "implying a different kind of relationship between you and Yelp, including any implied\n",
      "endorsement by Yelp. You do not have any authority of any kind to bind Yelp in any respect\n",
      "whatsoever.\n",
      "\n",
      "10. Term and Termination\n",
      "                  \n",
      "This Data Agreement is effective as of the date you download or\n",
      "otherwise access the Data (“Effective Date” ) and shall continue in full force and effect for a term\n",
      "of twelve (12) months from the Effective Date, unless earlier terminated by the parties or expires\n",
      "in accordance with this Section 11 (the “Term”). Either party may immediately terminate this\n",
      "Data Agreement, for any reason or for no reason, by providing written notice to the other party.\n",
      "Yelp will provide notice of termination to the email account you provided to Yelp during\n",
      "registration and termination will be effective upon delivery of the email notice. Yelp reserves the\n",
      "right, in its sole discretion (for any reason or for no reason) and at any time without notice to\n",
      "you, to change, suspend or discontinue the Data and/or suspend or terminate your further\n",
      "access to the Data. Any termination of the Data Agreement will also immediately terminate the\n",
      "licenses granted to you hereunder. Upon any termination of the Data Agreement, you will\n",
      "promptly: (i) delete and remove all Data from any location, including any web pages, scripts,\n",
      "widgets, applications and any other software in your possession or under your control; (ii)\n",
      "destroy and remove from all computers, hard drives, networks and other storage media in your\n",
      "possession or under your control all copies of any Data; and (iii) upon Yelp’s request, certify in\n",
      "writing to Yelp that such actions have been taken.\n",
      "\n",
      "11. Miscellaneous\n",
      "                  \n",
      "The Data Agreement encompasses the entire agreement between you and\n",
      "Yelp regarding the subject matter discussed therein. The Data Agreement, and any disputes\n",
      "arising from or relating to the interpretation thereof, will be governed by and construed under the\n",
      "laws of the State of California without regard to its conflict of law provisions. You agree to\n",
      "personal jurisdiction by and venue in the state and federal courts of the State of California, City\n",
      "of San Francisco. The failure of Yelp to exercise or enforce any right or provision of the Data\n",
      "Agreement will not constitute a waiver of such right or provision. The failure of either party to\n",
      "exercise in any respect any right provided for herein will not be deemed a waiver of any further\n",
      "rights hereunder. If any provision of the Data Agreement is found to be unenforceable or invalid,\n",
      "that provision will be replaced with terms that most closely match the intent of the provision that\n",
      "is not enforceable to the minimum extent necessary so that the remaining Data Agreement will\n",
      "otherwise remain in full force and effect and enforceable. The Data Agreement is not\n",
      "assignable, transferable or sublicensable, in whole or in part, by you except with Yelp's prior\n",
      "written consent. Any attempt to do so is void. Yelp may assign the Data Agreement, in whole or\n",
      "in part, at any time with or without notice to you. The section titles in the Data Agreement are for\n",
      "convenience only and have no legal or contractual effect.\n",
      "\n",
      "12. Survival \n",
      "\n",
      "Sections 4 through 13 will survive any expiration or termination of this Data\n",
      "Agreement for any reason.\n",
      "\n",
      "13.  Contact and Violations\n",
      "                  \n",
      "Please contact Yelp with any questions regarding the Data\n",
      "Agreement. Please report any violations of the Data Agreement couvidat@yelp.com.\n",
      "\n"
     ]
    }
   ],
   "source": [
    "print(dset.LICENSE)"
   ]
  },
  {
   "cell_type": "code",
   "execution_count": 23,
   "metadata": {},
   "outputs": [
    {
     "data": {
      "text/plain": [
       "7282"
      ]
     },
     "execution_count": 23,
     "metadata": {},
     "output_type": "execute_result"
    }
   ],
   "source": [
    "len(dset.DESCR)"
   ]
  },
  {
   "cell_type": "markdown",
   "metadata": {},
   "source": [
    "Now, we haven't actually done anything with this raw dataset yet, other than download the raw data and set the license/description metadata.\n"
   ]
  },
  {
   "cell_type": "code",
   "execution_count": 24,
   "metadata": {},
   "outputs": [
    {
     "data": {
      "text/plain": [
       "(NoneType, NoneType)"
      ]
     },
     "execution_count": 24,
     "metadata": {},
     "output_type": "execute_result"
    }
   ],
   "source": [
    "type(dset.data), type(dset.target)"
   ]
  },
  {
   "cell_type": "markdown",
   "metadata": {},
   "source": [
    "## Processing the data\n",
    "The next step is to write an importer function that actually processes the data we will be using for this dataset - in our case, `process_yelp_data()`\n",
    "\n",
    "The important things to generate are `data` and `target` entries. A `metadata` is optional, but recommended if you want to save additional information about the dataset.\n",
    "\n",
    "Usually, this functionality gets bundled up into a function and added to `localdata.py`. The name (and module containing) this functionality is added to the appropriate entry in `datasets.py`\n"
   ]
  },
  {
   "cell_type": "code",
   "execution_count": 26,
   "metadata": {},
   "outputs": [],
   "source": [
    "# Unpack the file\n",
    "untar_dir = rawdata.unpack()\n"
   ]
  },
  {
   "cell_type": "code",
   "execution_count": 27,
   "metadata": {},
   "outputs": [
    {
     "data": {
      "text/plain": [
       "PosixPath('/home/ava00088/TIMC/sandbox/ava00088/devel/text_embed_john/data/interim/yelp')"
      ]
     },
     "execution_count": 27,
     "metadata": {},
     "output_type": "execute_result"
    }
   ],
   "source": [
    "untar_dir"
   ]
  },
  {
   "cell_type": "code",
   "execution_count": 28,
   "metadata": {},
   "outputs": [
    {
     "name": "stdout",
     "output_type": "stream",
     "text": [
      "total 7182484\r\n",
      "drwxr-xr-x 2 ava00088 users       4096 Feb 26 14:26 .\r\n",
      "drwxr-xr-x 2 ava00088 users          0 Feb 26 14:33 ..\r\n",
      "-rwxr-xr-x 1 ava00088 users        674 Jul 31  2018 ._Dataset_Challenge_Dataset_Agreement.pdf\r\n",
      "-rwxr-xr-x 1 ava00088 users     100912 Jul 31  2018 Dataset_Challenge_Dataset_Agreement.pdf\r\n",
      "-rwxr-xr-x 1 ava00088 users  146374098 Jul  2  2018 yelp_academic_dataset_business.json\r\n",
      "-rwxr-xr-x 1 ava00088 users   52744210 Jul  2  2018 yelp_academic_dataset_checkin.json\r\n",
      "-rwxr-xr-x 1 ava00088 users   36596656 Jul 31  2018 yelp_academic_dataset_photo.json\r\n",
      "-rwxr-xr-x 1 ava00088 users 4717078453 Jul  2  2018 yelp_academic_dataset_review.json\r\n",
      "-rwxr-xr-x 1 ava00088 users  213316940 Jul  2  2018 yelp_academic_dataset_tip.json\r\n",
      "-rwxr-xr-x 1 ava00088 users 2188485470 Jul  2  2018 yelp_academic_dataset_user.json\r\n",
      "-rwxr-xr-x 1 ava00088 users        674 Jul 31  2018 ._Yelp_Dataset_Challenge_Round_12.pdf\r\n",
      "-rwxr-xr-x 1 ava00088 users     111712 Jul 31  2018 Yelp_Dataset_Challenge_Round_12.pdf\r\n",
      "-rwxr-xr-x 1 ava00088 users      12848 Feb 26 15:46 yelp.license\r\n",
      "-rwxr-xr-x 1 ava00088 users       7282 Feb 26 15:46 yelp.readme\r\n"
     ]
    }
   ],
   "source": [
    "!ls -la $untar_dir"
   ]
  },
  {
   "cell_type": "code",
   "execution_count": 29,
   "metadata": {},
   "outputs": [
    {
     "data": {
      "text/plain": [
       "True"
      ]
     },
     "execution_count": 29,
     "metadata": {},
     "output_type": "execute_result"
    }
   ],
   "source": [
    "biz_file = untar_dir / 'yelp_academic_dataset_business.json'\n",
    "review_file = untar_dir / 'yelp_academic_dataset_review.json'\n",
    "\n",
    "biz_file.exists() and review_file.exists()"
   ]
  },
  {
   "cell_type": "markdown",
   "metadata": {},
   "source": [
    "Recall, our DESCR gives us a complete discription of the data format"
   ]
  },
  {
   "cell_type": "code",
   "execution_count": 30,
   "metadata": {},
   "outputs": [],
   "source": [
    "def yelp_json_to_df(filename):\n",
    "    \"\"\"Convert a yelp JSON file to a dataframe\n",
    "    \n",
    "    Yelp data consists of one json-object per line.\n",
    "    \n",
    "    Parameters\n",
    "    ----------\n",
    "    \n",
    "    Returns\n",
    "    -------\n",
    "    dataframe corresponding to the file\n",
    "    \"\"\"\n",
    "    with open(filename, 'r') as f:\n",
    "        data = f.readlines()\n",
    "\n",
    "    # remove the trailing CR from each line\n",
    "    data = map(lambda x: x.rstrip(), data)\n",
    "\n",
    "    # Pack it up as a json list\n",
    "    data_json_str = \"[\" + ','.join(data) + \"]\"\n",
    "\n",
    "    # and load it into pandas\n",
    "    df = pd.read_json(data_json_str)\n",
    "    return df"
   ]
  },
  {
   "cell_type": "code",
   "execution_count": 31,
   "metadata": {},
   "outputs": [
    {
     "name": "stdout",
     "output_type": "stream",
     "text": [
      "CPU times: user 21.5 s, sys: 3.36 s, total: 24.8 s\n",
      "Wall time: 52.2 s\n"
     ]
    }
   ],
   "source": [
    "%%time\n",
    "k = 100000\n",
    "sample = reservoir_sample(review_file, k)\n",
    "data_json_str = \"[\" + ','.join(sample) + \"]\"\n",
    "df = pd.read_json(data_json_str)"
   ]
  },
  {
   "cell_type": "code",
   "execution_count": 32,
   "metadata": {},
   "outputs": [
    {
     "data": {
      "text/html": [
       "<div>\n",
       "<style scoped>\n",
       "    .dataframe tbody tr th:only-of-type {\n",
       "        vertical-align: middle;\n",
       "    }\n",
       "\n",
       "    .dataframe tbody tr th {\n",
       "        vertical-align: top;\n",
       "    }\n",
       "\n",
       "    .dataframe thead th {\n",
       "        text-align: right;\n",
       "    }\n",
       "</style>\n",
       "<table border=\"1\" class=\"dataframe\">\n",
       "  <thead>\n",
       "    <tr style=\"text-align: right;\">\n",
       "      <th></th>\n",
       "      <th>business_id</th>\n",
       "      <th>cool</th>\n",
       "      <th>date</th>\n",
       "      <th>funny</th>\n",
       "      <th>review_id</th>\n",
       "      <th>stars</th>\n",
       "      <th>text</th>\n",
       "      <th>useful</th>\n",
       "      <th>user_id</th>\n",
       "    </tr>\n",
       "  </thead>\n",
       "  <tbody>\n",
       "    <tr>\n",
       "      <th>0</th>\n",
       "      <td>Mbse3WI8bA3K9ZbaFAye9g</td>\n",
       "      <td>0</td>\n",
       "      <td>2015-05-14</td>\n",
       "      <td>0</td>\n",
       "      <td>OPFcKZ-5s5FPUAcK2UCtvQ</td>\n",
       "      <td>1</td>\n",
       "      <td>Beware!! Beware!!\\nThis is a slumlord business...</td>\n",
       "      <td>2</td>\n",
       "      <td>4J1tTZDHmDfbUp_T-e7pCg</td>\n",
       "    </tr>\n",
       "    <tr>\n",
       "      <th>1</th>\n",
       "      <td>AkbfeCmcICFT9MAA8VcwgQ</td>\n",
       "      <td>3</td>\n",
       "      <td>2014-02-11</td>\n",
       "      <td>7</td>\n",
       "      <td>eXLiRs14yGz8TlOm3lx6tg</td>\n",
       "      <td>4</td>\n",
       "      <td>Great green spot in downtown Phoenix!  It's fu...</td>\n",
       "      <td>9</td>\n",
       "      <td>Q6Dcxo3_lNCzkqK7J3FL7A</td>\n",
       "    </tr>\n",
       "    <tr>\n",
       "      <th>2</th>\n",
       "      <td>dimv16yFu0JXR1n1SAqedQ</td>\n",
       "      <td>0</td>\n",
       "      <td>2017-05-21</td>\n",
       "      <td>0</td>\n",
       "      <td>qhXdWemsICDJktYrlVqmnw</td>\n",
       "      <td>4</td>\n",
       "      <td>I ordered for delivery and got the baklava for...</td>\n",
       "      <td>0</td>\n",
       "      <td>I-w4JNt1S6B6i3UfacRSXg</td>\n",
       "    </tr>\n",
       "    <tr>\n",
       "      <th>3</th>\n",
       "      <td>nTMZSvPMSIofI5RLARFIaA</td>\n",
       "      <td>0</td>\n",
       "      <td>2018-05-28</td>\n",
       "      <td>0</td>\n",
       "      <td>yXDB3j2paVwYre_jifDT_g</td>\n",
       "      <td>3</td>\n",
       "      <td>Really flavorful aburri. Only negative was the...</td>\n",
       "      <td>0</td>\n",
       "      <td>FWfKrENiUZgEjFuIUv315A</td>\n",
       "    </tr>\n",
       "    <tr>\n",
       "      <th>4</th>\n",
       "      <td>OIhwgAsg_JvPSZuST7WP5w</td>\n",
       "      <td>0</td>\n",
       "      <td>2018-02-24</td>\n",
       "      <td>0</td>\n",
       "      <td>MOkfJjhWvI6bIYMWFssquQ</td>\n",
       "      <td>5</td>\n",
       "      <td>Got locked out of my condo and Elmer came out ...</td>\n",
       "      <td>0</td>\n",
       "      <td>6vEE64sdbkYJ66VZYTJ4Mw</td>\n",
       "    </tr>\n",
       "  </tbody>\n",
       "</table>\n",
       "</div>"
      ],
      "text/plain": [
       "              business_id  cool       date  funny               review_id  \\\n",
       "0  Mbse3WI8bA3K9ZbaFAye9g     0 2015-05-14      0  OPFcKZ-5s5FPUAcK2UCtvQ   \n",
       "1  AkbfeCmcICFT9MAA8VcwgQ     3 2014-02-11      7  eXLiRs14yGz8TlOm3lx6tg   \n",
       "2  dimv16yFu0JXR1n1SAqedQ     0 2017-05-21      0  qhXdWemsICDJktYrlVqmnw   \n",
       "3  nTMZSvPMSIofI5RLARFIaA     0 2018-05-28      0  yXDB3j2paVwYre_jifDT_g   \n",
       "4  OIhwgAsg_JvPSZuST7WP5w     0 2018-02-24      0  MOkfJjhWvI6bIYMWFssquQ   \n",
       "\n",
       "   stars                                               text  useful  \\\n",
       "0      1  Beware!! Beware!!\\nThis is a slumlord business...       2   \n",
       "1      4  Great green spot in downtown Phoenix!  It's fu...       9   \n",
       "2      4  I ordered for delivery and got the baklava for...       0   \n",
       "3      3  Really flavorful aburri. Only negative was the...       0   \n",
       "4      5  Got locked out of my condo and Elmer came out ...       0   \n",
       "\n",
       "                  user_id  \n",
       "0  4J1tTZDHmDfbUp_T-e7pCg  \n",
       "1  Q6Dcxo3_lNCzkqK7J3FL7A  \n",
       "2  I-w4JNt1S6B6i3UfacRSXg  \n",
       "3  FWfKrENiUZgEjFuIUv315A  \n",
       "4  6vEE64sdbkYJ66VZYTJ4Mw  "
      ]
     },
     "execution_count": 32,
     "metadata": {},
     "output_type": "execute_result"
    }
   ],
   "source": [
    "df.head()"
   ]
  },
  {
   "cell_type": "markdown",
   "metadata": {},
   "source": [
    "This seems to work, so let's wrap this functionality up into a processing function.\n",
    "\n",
    "By convention, a `process_*` function takes a `dataset_name`, and any other options that may be useful for reading the data, and returns a dictionary that matches the `Dataset` constructor signature.\n",
    "\n",
    "We will place this function in `localdata.py`, (and add it to `__all__`) to make it visible to our dataset code.\n",
    "\n",
    "Here's what the `Dataset` constructor signature looks like:"
   ]
  },
  {
   "cell_type": "code",
   "execution_count": 23,
   "metadata": {},
   "outputs": [
    {
     "name": "stdout",
     "output_type": "stream",
     "text": [
      "Help on function __init__ in module src.data.dset:\n",
      "\n",
      "__init__(self, dataset_name=None, data=None, target=None, metadata=None, license_txt=None, descr_txt=None, license_file=None, descr_file=None, **kwargs)\n",
      "    Object representing a dataset object.\n",
      "    Notionally compatible with scikit-learn's Bunch object\n",
      "    \n",
      "    dataset_name: string (required)\n",
      "        key to use for this dataset\n",
      "    data:\n",
      "        Data: (usually np.array or np.ndarray)\n",
      "    target: np.array\n",
      "        Either classification target or label to be used. for each of the points\n",
      "        in `data`\n",
      "    metadata: dict\n",
      "        Data about the object. Key fields include `license_txt` and `descr`\n",
      "    license_txt: str\n",
      "        String to use as the LICENSE for this dataset\n",
      "    license_file: filename\n",
      "        If `license_txt` is None, license text can be read from this file\n",
      "    descr_txt: str\n",
      "        String to use as the DESCR (description) for this dataset\n",
      "    descr_file: filename\n",
      "        If `descr_txt` is None, description text can be read from this file\n",
      "\n"
     ]
    }
   ],
   "source": [
    "help(Dataset.__init__)"
   ]
  },
  {
   "cell_type": "code",
   "execution_count": 34,
   "metadata": {},
   "outputs": [],
   "source": [
    "def process_yelp(dataset_name='yelp', metadata=None, num_reviews=None, filename=None, random_seed=None):\n",
    "    \"\"\"Convert raw yelp data to a Dataset Options dictionary\n",
    "    \n",
    "    Parameters\n",
    "    ----------\n",
    "    num_reviews: int or None\n",
    "        if set, randomly sample this many reviews from the yelp data\n",
    "    random_seed: int\n",
    "        Set for reproducible randomness\n",
    "    \"\"\"\n",
    "    if metadata is None:\n",
    "        metadata = {}\n",
    "    if filename is None:\n",
    "        filename = interim_data_path / 'yelp' / 'yelp_academic_dataset_review.json'\n",
    "    else:\n",
    "        filename = pathlib.Path(filename)\n",
    "    \n",
    "    if random_seed is not None:\n",
    "        metadata['random_seed'] = random_seed\n",
    "        random.seed(random_seed)\n",
    "    \n",
    "    if num_reviews is None:\n",
    "        df = yelp_json_to_df(filename)\n",
    "    else:\n",
    "        sample = reservoir_sample(review_file, k, random_seed=random_seed)\n",
    "        data_json_str = \"[\" + ','.join(sample) + \"]\"\n",
    "        df = pd.read_json(data_json_str)\n",
    "    \n",
    "    data = np.array(df.text)\n",
    "    \n",
    "    target = None\n",
    "    return data, target, metadata\n",
    "        "
   ]
  },
  {
   "cell_type": "code",
   "execution_count": 35,
   "metadata": {},
   "outputs": [
    {
     "name": "stdout",
     "output_type": "stream",
     "text": [
      "CPU times: user 22 s, sys: 3.69 s, total: 25.7 s\n",
      "Wall time: 43.6 s\n"
     ]
    }
   ],
   "source": [
    "%%time\n",
    "data, target, metadata = process_yelp(num_reviews=10000, metadata=dset.metadata)"
   ]
  },
  {
   "cell_type": "code",
   "execution_count": 68,
   "metadata": {},
   "outputs": [
    {
     "name": "stdout",
     "output_type": "stream",
     "text": [
      "Overwriting ../src/data/localdata.py\n"
     ]
    }
   ],
   "source": [
    "%%file ../src/data/localdata.py\n",
    "\"\"\"\n",
    "Custom dataset processing/generation functions should be added to this file\n",
    "\"\"\"\n",
    "\n",
    "from .utils import reservoir_sample\n",
    "from ..paths import interim_data_path\n",
    "import pandas as pd\n",
    "import numpy as np\n",
    "import random\n",
    "\n",
    "__all__ = ['process_yelp']\n",
    "\n",
    "def yelp_json_to_df(filename):\n",
    "    \"\"\"Convert a yelp JSON file to a dataframe\n",
    "    \n",
    "    Yelp data consists of one json-object per line.\n",
    "    \n",
    "    Parameters\n",
    "    ----------\n",
    "    \n",
    "    Returns\n",
    "    -------\n",
    "    dataframe corresponding to the file\n",
    "    \"\"\"\n",
    "    with open(filename, 'r') as f:\n",
    "        data = f.readlines()\n",
    "\n",
    "    # remove the trailing CR from each line\n",
    "    data = map(lambda x: x.rstrip(), data)\n",
    "\n",
    "    # Pack it up as a json list\n",
    "    data_json_str = \"[\" + ','.join(data) + \"]\"\n",
    "\n",
    "    # and load it into pandas\n",
    "    df = pd.read_json(data_json_str)\n",
    "    return df\n",
    "\n",
    "def process_yelp(dataset_name='yelp', metadata=None, num_reviews=100000, filename=None, random_seed=None):\n",
    "    \"\"\"Convert raw yelp data to a Dataset Options dictionary\n",
    "    \n",
    "    Parameters\n",
    "    ----------\n",
    "    num_reviews: int or None\n",
    "        if set, randomly sample this many reviews from the yelp data\n",
    "    random_seed: int\n",
    "        Set for reproducible randomness\n",
    "    \"\"\"\n",
    "    if metadata is None:\n",
    "        metadata = {}\n",
    "    if filename is None:\n",
    "        filename = interim_data_path / 'yelp' / 'yelp_academic_dataset_review.json'\n",
    "    else:\n",
    "        filename = pathlib.Path(filename)\n",
    "    \n",
    "    if random_seed is not None:\n",
    "        metadata['random_seed'] = random_seed\n",
    "        random.seed(random_seed)\n",
    "    \n",
    "    if num_reviews is None:\n",
    "        df = yelp_json_to_df(filename)\n",
    "    else:\n",
    "        sample = reservoir_sample(filename, num_reviews, random_seed=random_seed)\n",
    "        data_json_str = \"[\" + ','.join(sample) + \"]\"\n",
    "        df = pd.read_json(data_json_str)\n",
    "    \n",
    "    data = np.array(df.text)\n",
    "    \n",
    "    target = None\n",
    "    return data, target, metadata"
   ]
  },
  {
   "cell_type": "markdown",
   "metadata": {},
   "source": [
    "Let's make sure this works as expected"
   ]
  },
  {
   "cell_type": "code",
   "execution_count": 69,
   "metadata": {},
   "outputs": [],
   "source": [
    "from src.data.localdata import process_yelp\n"
   ]
  },
  {
   "cell_type": "code",
   "execution_count": 70,
   "metadata": {},
   "outputs": [
    {
     "data": {
      "text/plain": [
       "['yelp']"
      ]
     },
     "execution_count": 70,
     "metadata": {},
     "output_type": "execute_result"
    }
   ],
   "source": [
    "rawdata.parse_function = process_yelp\n",
    "workflow.add_datasource(rawdata)\n",
    "workflow.available_datasources()"
   ]
  },
  {
   "cell_type": "code",
   "execution_count": 52,
   "metadata": {},
   "outputs": [
    {
     "name": "stdout",
     "output_type": "stream",
     "text": [
      "data=(100000,)\n",
      "CPU times: user 1min 27s, sys: 14.7 s, total: 1min 42s\n",
      "Wall time: 3min 13s\n"
     ]
    }
   ],
   "source": [
    "%%time \n",
    "dset = Dataset.from_raw('yelp')\n",
    "print(f'data={dset.data.shape}')"
   ]
  },
  {
   "cell_type": "markdown",
   "metadata": {},
   "source": [
    "This all looks good\n"
   ]
  },
  {
   "cell_type": "code",
   "execution_count": 53,
   "metadata": {},
   "outputs": [
    {
     "data": {
      "text/plain": [
       "(numpy.ndarray, NoneType)"
      ]
     },
     "execution_count": 53,
     "metadata": {},
     "output_type": "execute_result"
    }
   ],
   "source": [
    "type(dset.data), type(dset.target)"
   ]
  },
  {
   "cell_type": "markdown",
   "metadata": {},
   "source": [
    "Finally, re-load the dataset and save a copy of it"
   ]
  },
  {
   "cell_type": "code",
   "execution_count": 54,
   "metadata": {},
   "outputs": [
    {
     "name": "stdout",
     "output_type": "stream",
     "text": [
      "<Dataset: yelp, data.shape=(100000,), metadata=['descr', 'license', 'dataset_name', 'hash_type', 'data_hash', 'target_hash']>\n",
      "CPU times: user 535 ms, sys: 151 ms, total: 686 ms\n",
      "Wall time: 924 ms\n"
     ]
    }
   ],
   "source": [
    "%%time\n",
    "print(str(dset))\n",
    "dset.dump()"
   ]
  },
  {
   "cell_type": "markdown",
   "metadata": {},
   "source": [
    "The saved data is stored in the `processed_data_path`. An copy of just the metadata is also stored, so that it may be quickly checked without loading the entire dataset."
   ]
  },
  {
   "cell_type": "code",
   "execution_count": 55,
   "metadata": {},
   "outputs": [
    {
     "name": "stdout",
     "output_type": "stream",
     "text": [
      "total 62280\r\n",
      "drwxr-xr-x 2 ava00088 users        0 Feb 26 16:43 .\r\n",
      "drwxr-xr-x 2 ava00088 users        0 Feb 26 13:26 ..\r\n",
      "-rwxr-xr-x 1 ava00088 users        0 Feb 26 13:26 .gitkeep\r\n",
      "-rwxr-xr-x 1 ava00088 users 63751542 Feb 26 16:43 yelp.dataset\r\n",
      "-rwxr-xr-x 1 ava00088 users    20363 Feb 26 16:43 yelp.metadata\r\n"
     ]
    }
   ],
   "source": [
    "!ls -la $processed_data_path"
   ]
  },
  {
   "cell_type": "code",
   "execution_count": 56,
   "metadata": {},
   "outputs": [
    {
     "data": {
      "text/plain": [
       "(100000,)"
      ]
     },
     "execution_count": 56,
     "metadata": {},
     "output_type": "execute_result"
    }
   ],
   "source": [
    "dset.data.shape"
   ]
  },
  {
   "cell_type": "code",
   "execution_count": 57,
   "metadata": {},
   "outputs": [
    {
     "data": {
      "text/plain": [
       "dict_keys(['descr', 'license', 'dataset_name', 'hash_type', 'data_hash', 'target_hash'])"
      ]
     },
     "execution_count": 57,
     "metadata": {},
     "output_type": "execute_result"
    }
   ],
   "source": [
    "dset.metadata.keys()"
   ]
  },
  {
   "cell_type": "code",
   "execution_count": 61,
   "metadata": {},
   "outputs": [],
   "source": [
    "ds = Dataset.load(dataset_name)"
   ]
  },
  {
   "cell_type": "code",
   "execution_count": 62,
   "metadata": {},
   "outputs": [
    {
     "data": {
      "text/plain": [
       "(100000,)"
      ]
     },
     "execution_count": 62,
     "metadata": {},
     "output_type": "execute_result"
    }
   ],
   "source": [
    "ds.data.shape"
   ]
  },
  {
   "cell_type": "code",
   "execution_count": 63,
   "metadata": {},
   "outputs": [
    {
     "data": {
      "text/plain": [
       "'I called Jason on a Friday afternoon to replace a paleolithic LiftMaster unit that had finally hit \"end-of-life.\"  Jason showed up at the appointed hour on Monday to remove and replace the unit.  The service was efficient and effective; I couldn\\'t have reasonably asked for more.  My regards to Jason.'"
      ]
     },
     "execution_count": 63,
     "metadata": {},
     "output_type": "execute_result"
    }
   ],
   "source": [
    "ds.data[0]"
   ]
  },
  {
   "cell_type": "code",
   "execution_count": null,
   "metadata": {},
   "outputs": [],
   "source": [
    "### Exercise - make it work so I can specify the number of lines"
   ]
  },
  {
   "cell_type": "code",
   "execution_count": 71,
   "metadata": {},
   "outputs": [
    {
     "name": "stdout",
     "output_type": "stream",
     "text": [
      "CPU times: user 1min 2s, sys: 10.4 s, total: 1min 12s\n",
      "Wall time: 2min 20s\n"
     ]
    }
   ],
   "source": [
    "%%time\n",
    "ds = Dataset.from_raw('yelp', num_reviews=99999)"
   ]
  },
  {
   "cell_type": "code",
   "execution_count": 72,
   "metadata": {},
   "outputs": [
    {
     "data": {
      "text/plain": [
       "(100000,)"
      ]
     },
     "execution_count": 72,
     "metadata": {},
     "output_type": "execute_result"
    }
   ],
   "source": [
    "ds.data.shape"
   ]
  },
  {
   "cell_type": "code",
   "execution_count": 73,
   "metadata": {},
   "outputs": [
    {
     "data": {
      "text/plain": [
       "[{'hash_type': 'sha1',\n",
       "  'hash_value': '096ac5ced8a9229ecc5116e77b6be8d8f90fdacb',\n",
       "  'name': None,\n",
       "  'file_name': 'yelp_dataset.tar.gz'},\n",
       " {'contents': '\\nYelp Dataset JSON\\n\\nEach file is composed of a single object type, one JSON-object per-line.\\n\\nTake a look at some examples to get you started: https://github.com/Yelp/dataset-examples.\\n\\nNote: the follow examples contain inline comments, which are technically not valid JSON. This is done here to simplify the documentation and explaining the structure, the JSON files you download will not contain any comments and will be fully valid JSON.\\nbusiness.json\\n\\nContains business data including location data, attributes, and categories.\\n\\n{\\n    // string, 22 character unique string business id\\n    \"business_id\": \"tnhfDv5Il8EaGSXZGiuQGg\",\\n\\n    // string, the business\\'s name\\n    \"name\": \"Garaje\",\\n\\n    // string, the neighborhood\\'s name\\n    \"neighborhood\": \"SoMa\",\\n\\n    // string, the full address of the business\\n    \"address\": \"475 3rd St\",\\n\\n    // string, the city\\n    \"city\": \"San Francisco\",\\n\\n    // string, 2 character state code, if applicable\\n    \"state\": \"CA\",\\n\\n    // string, the postal code\\n    \"postal code\": \"94107\",\\n\\n    // float, latitude\\n    \"latitude\": 37.7817529521,\\n\\n    // float, longitude\\n    \"longitude\": -122.39612197,\\n\\n    // float, star rating, rounded to half-stars\\n    \"stars\": 4.5,\\n\\n    // interger, number of reviews\\n    \"review_count\": 1198,\\n\\n    // integer, 0 or 1 for closed or open, respectively\\n    \"is_open\": 1,\\n\\n    // object, business attributes to values. note: some attribute values might be objects\\n    \"attributes\": {\\n        \"RestaurantsTakeOut\": true,\\n        \"BusinessParking\": {\\n            \"garage\": false,\\n            \"street\": true,\\n            \"validated\": false,\\n            \"lot\": false,\\n            \"valet\": false\\n        },\\n    },\\n\\n    // an array of strings of business categories\\n    \"categories\": [\\n        \"Mexican\",\\n        \"Burgers\",\\n        \"Gastropubs\"\\n    ],\\n\\n    // an object of key day to value hours, hours are using a 24hr clock\\n    \"hours\": {\\n        \"Monday\": \"10:00-21:00\",\\n        \"Tuesday\": \"10:00-21:00\",\\n        \"Friday\": \"10:00-21:00\",\\n        \"Wednesday\": \"10:00-21:00\",\\n        \"Thursday\": \"10:00-21:00\",\\n        \"Sunday\": \"11:00-18:00\",\\n        \"Saturday\": \"10:00-21:00\"\\n    }\\n}\\n\\nreview.json\\n\\nContains full review text data including the user_id that wrote the review and the business_id the review is written for.\\n\\n{\\n    // string, 22 character unique review id\\n    \"review_id\": \"zdSx_SD6obEhz9VrW9uAWA\",\\n\\n    // string, 22 character unique user id, maps to the user in user.json\\n    \"user_id\": \"Ha3iJu77CxlrFm-vQRs_8g\",\\n\\n    // string, 22 character business id, maps to business in business.json\\n    \"business_id\": \"tnhfDv5Il8EaGSXZGiuQGg\",\\n\\n    // integer, star rating\\n    \"stars\": 4,\\n\\n    // string, date formatted YYYY-MM-DD\\n    \"date\": \"2016-03-09\",\\n\\n    // string, the review itself\\n    \"text\": \"Great place to hang out after work: the prices are decent, and the ambience is fun. It\\'s a bit loud, but very lively. The staff is friendly, and the food is good. They have a good selection of drinks.\",\\n\\n    // integer, number of useful votes received\\n    \"useful\": 0,\\n\\n    // integer, number of funny votes received\\n    \"funny\": 0,\\n\\n    // integer, number of cool votes received\\n    \"cool\": 0\\n}\\n\\nuser.json\\n\\nUser data including the user\\'s friend mapping and all the metadata associated with the user.\\n\\n{\\n    // string, 22 character unique user id, maps to the user in user.json\\n    \"user_id\": \"Ha3iJu77CxlrFm-vQRs_8g\",\\n\\n    // string, the user\\'s first name\\n    \"name\": \"Sebastien\",\\n\\n    // integer, the number of reviews they\\'ve written\\n    \"review_count\": 56,\\n\\n    // string, when the user joined Yelp, formatted like YYYY-MM-DD\\n    \"yelping_since\": \"2011-01-01\",\\n\\n    // array of strings, an array of the user\\'s friend as user_ids\\n    \"friends\": [\\n        \"wqoXYLWmpkEH0YvTmHBsJQ\",\\n        \"KUXLLiJGrjtSsapmxmpvTA\",\\n        \"6e9rJKQC3n0RSKyHLViL-Q\"\\n    ],\\n\\n    // integer, number of useful votes sent by the user\\n    \"useful\": 21,\\n\\n    // integer, number of funny votes sent by the user\\n    \"funny\": 88,\\n\\n    // integer, number of cool votes sent by the user\\n    \"cool\": 15,\\n\\n    // integer, number of fans the user has\\n    \"fans\": 1032,\\n\\n    // array of integers, the years the user was elite\\n    \"elite\": [\\n        2012,\\n        2013\\n    ],\\n\\n    // float, average rating of all reviews\\n    \"average_stars\": 4.31,\\n\\n    // integer, number of hot compliments received by the user\\n    \"compliment_hot\": 339,\\n\\n    // integer, number of more compliments received by the user\\n    \"compliment_more\": 668,\\n\\n    // integer, number of profile compliments received by the user\\n    \"compliment_profile\": 42,\\n\\n    // integer, number of cute compliments received by the user\\n    \"compliment_cute\": 62,\\n\\n    // integer, number of list compliments received by the user\\n    \"compliment_list\": 37,\\n\\n    // integer, number of note compliments received by the user\\n    \"compliment_note\": 356,\\n\\n    // integer, number of plain compliments received by the user\\n    \"compliment_plain\": 68,\\n\\n    // integer, number of cool compliments received by the user\\n    \"compliment_cool\": 91,\\n\\n    // integer, number of funny compliments received by the user\\n    \"compliment_funny\": 99,\\n\\n    // integer, number of writer compliments received by the user\\n    \"compliment_writer\": 95,\\n\\n    // integer, number of photo compliments received by the user\\n    \"compliment_photos\": 50\\n}\\n\\ncheckin.json\\n\\nCheckins on a business.\\n\\n{\\n    // nested object of the day of the week with key of\\n    // the hour (using a 24hr clock) with the count of checkins\\n    // for that hour (e.g. 14:00 - 14:59).\\n    \"time\": {\\n        \"Wednesday\": {\\n            \"14:00\": 2,\\n            \"16:00\": 1,\\n            \"2:00\": 1,\\n            \"0:00\": 1\\n        },\\n        \"Sunday\": {\\n            \"16:00\": 8,\\n            \"14:00\": 3,\\n            \"15:00\": 3,\\n            \"13:00\": 1,\\n            \"18:00\": 2,\\n            \"23:00\": 1,\\n            \"21:00\": 1,\\n            \"17:00\": 2\\n        },\\n        \"Friday\": {\\n            \"16:00\": 1,\\n            \"13:00\": 1,\\n            \"11:00\": 2,\\n            \"23:00\": 2\\n        },\\n    },\\n\\n    // string, 22 character business id, maps to business in business.json\\n    \"business_id\": \"tnhfDv5Il8EaGSXZGiuQGg\"\\n}\\n\\ntip.json\\n\\nTips written by a user on a business. Tips are shorter than reviews and tend to convey quick suggestions.\\n\\n{\\n    // string, text of the tip\\n    \"text\": \"Secret menu - fried chicken sando is da bombbbbbb Their zapatos are good too.\",\\n\\n    // string, when the tip was written, formatted like YYYY-MM-DD\\n    \"date\": \"2013-09-20\",\\n\\n    // integer, how many likes it has\\n    \"likes\": 172,\\n\\n    // string, 22 character business id, maps to business in business.json\\n    \"business_id\": \"tnhfDv5Il8EaGSXZGiuQGg\",\\n\\n    // string, 22 character unique user id, maps to the user in user.json\\n    \"user_id\": \"49JhAJh8vSQ-vM4Aourl0g\"\\n}\\n\\nphoto.json\\n\\nContains photo data including the caption and classification (one of \"food\", \"drink\", \"menu\", \"inside\" or \"outside\").\\n\\n{\\n    // string, 22 character unique photo id\\n    \"photo_id\": \"_nN_DhLXkfwEkwPNxne9hw\",\\n\\n\\n    // string, 22 character business id, maps to business in business.json\\n    \"business_id\" : \"tnhfDv5Il8EaGSXZGiuQGg\",\\n\\n    // string, the photo caption, if any\\n    \"caption\" : \"carne asada fries\",\\n\\n    // string, the category the photo belongs to, if any\\n    \"label\" : \"food\"\\n}\\n',\n",
       "  'file_name': 'yelp.readme',\n",
       "  'name': 'DESCR',\n",
       "  'hash_value': 'f686e70bab08a995ec7098a342cb76294439a59c'},\n",
       " {'contents': '\\nYelp Dataset JSON\\n\\nEach file is composed of a single object type, one JSON-object per-line.\\n\\nTake a look at some examples to get you started: https://github.com/Yelp/dataset-examples.\\n\\nNote: the follow examples contain inline comments, which are technically not valid JSON. This is done here to simplify the documentation and explaining the structure, the JSON files you download will not contain any comments and will be fully valid JSON.\\nbusiness.json\\n\\nContains business data including location data, attributes, and categories.\\n\\n{\\n    // string, 22 character unique string business id\\n    \"business_id\": \"tnhfDv5Il8EaGSXZGiuQGg\",\\n\\n    // string, the business\\'s name\\n    \"name\": \"Garaje\",\\n\\n    // string, the neighborhood\\'s name\\n    \"neighborhood\": \"SoMa\",\\n\\n    // string, the full address of the business\\n    \"address\": \"475 3rd St\",\\n\\n    // string, the city\\n    \"city\": \"San Francisco\",\\n\\n    // string, 2 character state code, if applicable\\n    \"state\": \"CA\",\\n\\n    // string, the postal code\\n    \"postal code\": \"94107\",\\n\\n    // float, latitude\\n    \"latitude\": 37.7817529521,\\n\\n    // float, longitude\\n    \"longitude\": -122.39612197,\\n\\n    // float, star rating, rounded to half-stars\\n    \"stars\": 4.5,\\n\\n    // interger, number of reviews\\n    \"review_count\": 1198,\\n\\n    // integer, 0 or 1 for closed or open, respectively\\n    \"is_open\": 1,\\n\\n    // object, business attributes to values. note: some attribute values might be objects\\n    \"attributes\": {\\n        \"RestaurantsTakeOut\": true,\\n        \"BusinessParking\": {\\n            \"garage\": false,\\n            \"street\": true,\\n            \"validated\": false,\\n            \"lot\": false,\\n            \"valet\": false\\n        },\\n    },\\n\\n    // an array of strings of business categories\\n    \"categories\": [\\n        \"Mexican\",\\n        \"Burgers\",\\n        \"Gastropubs\"\\n    ],\\n\\n    // an object of key day to value hours, hours are using a 24hr clock\\n    \"hours\": {\\n        \"Monday\": \"10:00-21:00\",\\n        \"Tuesday\": \"10:00-21:00\",\\n        \"Friday\": \"10:00-21:00\",\\n        \"Wednesday\": \"10:00-21:00\",\\n        \"Thursday\": \"10:00-21:00\",\\n        \"Sunday\": \"11:00-18:00\",\\n        \"Saturday\": \"10:00-21:00\"\\n    }\\n}\\n\\nreview.json\\n\\nContains full review text data including the user_id that wrote the review and the business_id the review is written for.\\n\\n{\\n    // string, 22 character unique review id\\n    \"review_id\": \"zdSx_SD6obEhz9VrW9uAWA\",\\n\\n    // string, 22 character unique user id, maps to the user in user.json\\n    \"user_id\": \"Ha3iJu77CxlrFm-vQRs_8g\",\\n\\n    // string, 22 character business id, maps to business in business.json\\n    \"business_id\": \"tnhfDv5Il8EaGSXZGiuQGg\",\\n\\n    // integer, star rating\\n    \"stars\": 4,\\n\\n    // string, date formatted YYYY-MM-DD\\n    \"date\": \"2016-03-09\",\\n\\n    // string, the review itself\\n    \"text\": \"Great place to hang out after work: the prices are decent, and the ambience is fun. It\\'s a bit loud, but very lively. The staff is friendly, and the food is good. They have a good selection of drinks.\",\\n\\n    // integer, number of useful votes received\\n    \"useful\": 0,\\n\\n    // integer, number of funny votes received\\n    \"funny\": 0,\\n\\n    // integer, number of cool votes received\\n    \"cool\": 0\\n}\\n\\nuser.json\\n\\nUser data including the user\\'s friend mapping and all the metadata associated with the user.\\n\\n{\\n    // string, 22 character unique user id, maps to the user in user.json\\n    \"user_id\": \"Ha3iJu77CxlrFm-vQRs_8g\",\\n\\n    // string, the user\\'s first name\\n    \"name\": \"Sebastien\",\\n\\n    // integer, the number of reviews they\\'ve written\\n    \"review_count\": 56,\\n\\n    // string, when the user joined Yelp, formatted like YYYY-MM-DD\\n    \"yelping_since\": \"2011-01-01\",\\n\\n    // array of strings, an array of the user\\'s friend as user_ids\\n    \"friends\": [\\n        \"wqoXYLWmpkEH0YvTmHBsJQ\",\\n        \"KUXLLiJGrjtSsapmxmpvTA\",\\n        \"6e9rJKQC3n0RSKyHLViL-Q\"\\n    ],\\n\\n    // integer, number of useful votes sent by the user\\n    \"useful\": 21,\\n\\n    // integer, number of funny votes sent by the user\\n    \"funny\": 88,\\n\\n    // integer, number of cool votes sent by the user\\n    \"cool\": 15,\\n\\n    // integer, number of fans the user has\\n    \"fans\": 1032,\\n\\n    // array of integers, the years the user was elite\\n    \"elite\": [\\n        2012,\\n        2013\\n    ],\\n\\n    // float, average rating of all reviews\\n    \"average_stars\": 4.31,\\n\\n    // integer, number of hot compliments received by the user\\n    \"compliment_hot\": 339,\\n\\n    // integer, number of more compliments received by the user\\n    \"compliment_more\": 668,\\n\\n    // integer, number of profile compliments received by the user\\n    \"compliment_profile\": 42,\\n\\n    // integer, number of cute compliments received by the user\\n    \"compliment_cute\": 62,\\n\\n    // integer, number of list compliments received by the user\\n    \"compliment_list\": 37,\\n\\n    // integer, number of note compliments received by the user\\n    \"compliment_note\": 356,\\n\\n    // integer, number of plain compliments received by the user\\n    \"compliment_plain\": 68,\\n\\n    // integer, number of cool compliments received by the user\\n    \"compliment_cool\": 91,\\n\\n    // integer, number of funny compliments received by the user\\n    \"compliment_funny\": 99,\\n\\n    // integer, number of writer compliments received by the user\\n    \"compliment_writer\": 95,\\n\\n    // integer, number of photo compliments received by the user\\n    \"compliment_photos\": 50\\n}\\n\\ncheckin.json\\n\\nCheckins on a business.\\n\\n{\\n    // nested object of the day of the week with key of\\n    // the hour (using a 24hr clock) with the count of checkins\\n    // for that hour (e.g. 14:00 - 14:59).\\n    \"time\": {\\n        \"Wednesday\": {\\n            \"14:00\": 2,\\n            \"16:00\": 1,\\n            \"2:00\": 1,\\n            \"0:00\": 1\\n        },\\n        \"Sunday\": {\\n            \"16:00\": 8,\\n            \"14:00\": 3,\\n            \"15:00\": 3,\\n            \"13:00\": 1,\\n            \"18:00\": 2,\\n            \"23:00\": 1,\\n            \"21:00\": 1,\\n            \"17:00\": 2\\n        },\\n        \"Friday\": {\\n            \"16:00\": 1,\\n            \"13:00\": 1,\\n            \"11:00\": 2,\\n            \"23:00\": 2\\n        },\\n    },\\n\\n    // string, 22 character business id, maps to business in business.json\\n    \"business_id\": \"tnhfDv5Il8EaGSXZGiuQGg\"\\n}\\n\\ntip.json\\n\\nTips written by a user on a business. Tips are shorter than reviews and tend to convey quick suggestions.\\n\\n{\\n    // string, text of the tip\\n    \"text\": \"Secret menu - fried chicken sando is da bombbbbbb Their zapatos are good too.\",\\n\\n    // string, when the tip was written, formatted like YYYY-MM-DD\\n    \"date\": \"2013-09-20\",\\n\\n    // integer, how many likes it has\\n    \"likes\": 172,\\n\\n    // string, 22 character business id, maps to business in business.json\\n    \"business_id\": \"tnhfDv5Il8EaGSXZGiuQGg\",\\n\\n    // string, 22 character unique user id, maps to the user in user.json\\n    \"user_id\": \"49JhAJh8vSQ-vM4Aourl0g\"\\n}\\n\\nphoto.json\\n\\nContains photo data including the caption and classification (one of \"food\", \"drink\", \"menu\", \"inside\" or \"outside\").\\n\\n{\\n    // string, 22 character unique photo id\\n    \"photo_id\": \"_nN_DhLXkfwEkwPNxne9hw\",\\n\\n\\n    // string, 22 character business id, maps to business in business.json\\n    \"business_id\" : \"tnhfDv5Il8EaGSXZGiuQGg\",\\n\\n    // string, the photo caption, if any\\n    \"caption\" : \"carne asada fries\",\\n\\n    // string, the category the photo belongs to, if any\\n    \"label\" : \"food\"\\n}\\n',\n",
       "  'file_name': 'yelp.readme',\n",
       "  'name': 'DESCR',\n",
       "  'hash_value': 'f686e70bab08a995ec7098a342cb76294439a59c'},\n",
       " {'contents': \"\\nYELP DATASET TERMS OF USE\\n\\nLast Updated: July 26, 2018\\nThis document governs the terms under which you may access and use the data that Yelp\\nmakes available for download through this website (or made available by other means) for\\nacademic purposes (the “Data”). This document incorporates the terms of the following\\nadditional document, including all future amendments or modifications thereto (collectively, and\\ntogether with this document, the “Data Agreement” ):\\n\\nYelp Terms of Service:\\n\\nBy accessing or using the Data, you agree to be bound by the Data Agreement and represent\\nthat the contact information you provide to Yelp is correct. If you access or use the Data on\\nbehalf of a university, school, or other entity, you represent that you have authority to bind such\\nentity and its affiliates to the Data Agreement and that it is fully binding upon them. In such\\ncase, the term “you” and “your” will refer to such entity and its affiliates. If you do not have\\nauthority, or if you do not agree with the terms of the Data Agreement, you may not access or\\nuse the Data. You should read and keep a copy of each component of the Data Agreement for\\nyour records. In the event of a conflict among them, the terms of this document will control.\\n\\n1. Purpose\\n\\nThe Data is made available by Yelp Inc. (“Yelp”) to enable you to access valuable\\nlocal information to develop an academic project as part of an ongoing course of study. With this\\nin mind, Yelp reserves the right to continually review and evaluate all uses of the Data provided\\nunder the Data Agreement.\\n\\n2. Changes\\n\\nYelp reserves the right to modify or revise the Data Agreement at any time. If the\\nchange is deemed to be material and it is foreseeable that such change could be adverse to\\nyour interests, Yelp will provide you notice of the change to this Data Agreement by sending you\\nan email to the email you provided to Yelp. Your continued use of the Data after the notice of\\nmaterial change will constitute your acceptance of and agreement to such changes. \\n\\nIf YOU DO\\nNOT WISH TO BE BOUND TO ANY NEW TERMS, YOU MUST TERMINATE THE DATA\\nAGREEMENT BY IMMEDIATELY CEASING USE OF THE DATA AND DELETING IT FROM\\nANY SYSTEMS OR MEDIA.\\n\\n3. License\\n\\nSubject to the terms set forth in the Data Agreement (specifically the restrictions set\\nforth in Section 4 below), Yelp grants you a royalty-free, non-exclusive, revocable,\\nnon-sublicensable, non-transferable, fully paid-up right and license during the Term to use,\\naccess, and create derivative works of the Data in electronic form for academic purposes only.\\nYou may not use the Data for any other purpose without Yelp’s prior written consent. You\\nacknowledge and agree that Yelp may request information about, review, audit, and/or monitor\\nyour use of the Data at any time in order to confirm compliance with the Data Agreement.\\nNothing herein shall be construed as a license to use Yelp’s registered trademarks or service\\nmarks, or any other Yelp branding.\\n\\n4. Restrictions\\n\\nYou agree that you will not, and will not encourage, assist, or enable others to:\\nA. display, perform, or distribute any of the Data, or use the Data to update or create\\nyour own business listing information (i.e. you may not publicly display any of the Data to any\\nthird party, especially reviews and other user generated content, as this is a private data set\\nchallenge and not a license to compete with or disparage with Yelp);\\nB. use the Data in connection with any commercial purpose;\\nC. use the Data in any manner or for any purpose that may violate any law or regulation,\\nor any right of any person including, but not limited to, intellectual property rights, rights of\\nprivacy and/or rights of personality, or which otherwise may be harmful (in Yelp's sole\\ndiscretion) to Yelp, its providers, its suppliers, end users of this website, or your end users;\\nD. use the Data on behalf of any third party without Yelp’s consent;\\nE. create, redistribute or disclose any summary of, or metrics related to, the Data (e.g.,\\nthe number of reviewed business included in the Data and other statistical analysis) to any third\\nparty or on any website or other electronic media not expressly covered by this Agreement, this\\nprovision however, excludes any disclosures necessary for academic purposes, including\\nwithout limitation the publication of academic articles concerning your use of the Data;\\nF. use the Data in a manner that is competitive in nature with Yelp;\\nG. display Data in a manner that could reasonably imply an endorsement, relationship or\\naffiliation with or sponsorship between you or a third party and Yelp, other than your permitted\\nuse of the Data under the terms of the Data Agreement;\\nH. rent, lease, sell, transfer, assign, or sublicense, any part of the Data;\\nI. modify, rate, rank, review, vote or comment on, or otherwise respond to the content\\ncontained in the Data;\\nJ. display the Data or publicly communicate in any way, or on any site, in a manner that\\ndisparages Yelp or its products or services, or infringes any Yelp intellectual property or other\\nrights;\\nK. use the Data in a manner that could reasonably be interpreted to suggest that Yelp is\\nthe author or entity that is responsible, in whole or in part, for the creation or development of any\\nData or that such Data represents the views of Yelp; or\\nL. use the Data for any purpose prohibited by law.\\n\\n5. Ownership\\n\\nAs between you and Yelp, the Data and any derivative works you create from the\\nData, and all intellectual property rights contained in the foregoing, are and will at all times\\nremain the sole and exclusive property of Yelp and are protected by applicable intellectual\\nproperty laws and treaties (whether those rights happen to be registered or not, and wherever in\\nthe world those rights may exist), or as otherwise set forth in the contest rules where the various\\nsubmitted solutions must be made available under a specified open source license, such as the\\nMIT License.\\n\\n6. Indemnity\\n\\nYou agree that your use of the Data is at your own risk and you agree to hold\\nharmless, defend (subject to Yelp's right to participate with counsel it selects) and indemnify\\nYelp and its subsidiaries, affiliates, officers, agents, employees and suppliers from and against\\nany and all claims, damages, liabilities, costs and fees (including reasonable attorneys’ fee)\\narising from, or in any way related to your or your end users’ use or implementation of the Data.\\nYou will not agree to any settlement that imposes any obligation on Yelp without Yelp's prior\\nconsent.\\n                  \\n7. No Warranties by Yelp; No Entitlement to Support from Yelp\\n\\nTHE DATA IS PROVIDED\\n“AS IS”, “WITH ALL FAULTS” AND “AS AVAILABLE” WITHOUT WARRANTY, OF ANY KIND\\nAND AT YOUR SOLE RISK. EXCEPT TO THE MAXIMUM EXTENT REQUIRED BY\\nAPPLICABLE LAW, YELP DISCLAIMS ALL WARRANTIES, REPRESENTATIONS,\\nCONDITIONS, AND DUTIES, WHETHER EXPRESS, IMPLIED OR STATUTORY,\\nREGARDING THE DATA, INCLUDING, WITHOUT LIMITATION, ANY AND ALL IMPLIED\\nWARRANTIES OF MERCHANTABILITY, ACCURACY, RESULTS OF USE, RELIABILITY,\\nFITNESS FOR A PARTICULAR PURPOSE, TITLE, INTERFERENCE WITH QUIET\\nENJOYMENT AND NON-INFRINGEMENT OF THIRD-PARTY RIGHTS. FURTHER, YELP\\nDISCLAIMS ANY WARRANTY THAT YOUR USE OF THE DATA WILL BE UNINTERRUPTED,\\nSECURE, TIMELY OR ERROR FREE. FOR THE AVOIDANCE OF DOUBT, YOU\\nACKNOWLEDGE AND AGREE THAT THE DATA AGREEMENT DOES NOT ENTITLE YOU\\nTO ANY SUPPORT FOR THE DATA. NO ADVICE OR INFORMATION, WHETHER ORAL OR\\nIN WRITING, OBTAINED BY YOU FROM YELP WILL CREATE ANY WARRANTY NOT\\nEXPRESSLY STATED IN THE DATA AGREEMENT.\\n\\n8. Limitation of Liability\\n\\nTHE DATA IS BEING PROVIDED FREE OF CHARGE.\\nACCORDINGLY, YOU AGREE THAT YELP SHALL HAVE NO LIABILITY ARISING FROM OR\\nBASED ON YOUR USE OF THE DATA. REGARDLESS OF WHETHER ANY REMEDY SET\\nFORTH HEREIN FAILS OF ITS ESSENTIAL PURPOSE OR OTHERWISE, AND EXCEPT FOR\\nBODILY INJURY, IN NO EVENT SHALL YELP OR ITS SUBSIDIARIES, AFFILIATES,\\nOFFICERS, AGENTS, EMPLOYEES AND SUPPLIERS BE LIABLE TO YOU OR TO ANY\\nTHIRD PARTY UNDER ANY TORT, CONTRACT, NEGLIGENCE, STRICT LIABILITY OR\\nOTHER LEGAL OR EQUITABLE THEORY FOR ANY LOST PROFITS, LOST OR\\nCORRUPTED DATA, COMPUTER FAILURE OR MALFUNCTION, INTERRUPTION OF\\nBUSINESS, OR OTHER SPECIAL, INDIRECT, INCIDENTAL OR CONSEQUENTIAL\\nDAMAGES OF ANY KIND ARISING OUT OF THE USE OR INABILITY TO USE THE DATA,\\nEVEN IF YELP HAS BEEN ADVISED OF THE POSSIBILITY OF SUCH LOSS OR DAMAGES\\nAND WHETHER OR NOT SUCH LOSS OR DAMAGES ARE FORESEEABLE. ANY CLAIM\\nARISING OUT OF OR RELATING TO THE DATA AGREEMENT MUST BE BROUGHT WITHIN\\n(1) YEAR AFTER THE OCCURRENCE OF THE EVENT GIVING RISE TO SUCH CLAIM. IF\\nSUCH CLAIM IS NOT FILED, THEN THAT CLAIM IS PERMANENTLY BARRED. THIS\\nAPPLIES TO YOU AND YOUR SUCCESSORS, AND TO YELP AND ITS SUCCESSORS.\\nNOTWITHSTANDING THE FOREGOING, SINCE THIS LICENSE IS PROVIDED TO YOU AT\\nNO CHARGE, YELP’S MAXIMUM LIABILITY UNDER THIS DATA AGREEMENT SHALL NOT,\\nIN ANY EVENT, EXCEED US$50.00.\\n\\n9. Limited Relationship\\n                  \\nYelp and You are, and will remain, independent contractors, and\\nnothing in the Data Agreement will be construed as creating an employer-employee\\nrelationship, partnership or joint venture. Although you are permitted to publicize your use of the\\nData, you agree not to make any other statements, without the prior written consent of Yelp,\\nimplying a different kind of relationship between you and Yelp, including any implied\\nendorsement by Yelp. You do not have any authority of any kind to bind Yelp in any respect\\nwhatsoever.\\n\\n10. Term and Termination\\n                  \\nThis Data Agreement is effective as of the date you download or\\notherwise access the Data (“Effective Date” ) and shall continue in full force and effect for a term\\nof twelve (12) months from the Effective Date, unless earlier terminated by the parties or expires\\nin accordance with this Section 11 (the “Term”). Either party may immediately terminate this\\nData Agreement, for any reason or for no reason, by providing written notice to the other party.\\nYelp will provide notice of termination to the email account you provided to Yelp during\\nregistration and termination will be effective upon delivery of the email notice. Yelp reserves the\\nright, in its sole discretion (for any reason or for no reason) and at any time without notice to\\nyou, to change, suspend or discontinue the Data and/or suspend or terminate your further\\naccess to the Data. Any termination of the Data Agreement will also immediately terminate the\\nlicenses granted to you hereunder. Upon any termination of the Data Agreement, you will\\npromptly: (i) delete and remove all Data from any location, including any web pages, scripts,\\nwidgets, applications and any other software in your possession or under your control; (ii)\\ndestroy and remove from all computers, hard drives, networks and other storage media in your\\npossession or under your control all copies of any Data; and (iii) upon Yelp’s request, certify in\\nwriting to Yelp that such actions have been taken.\\n\\n11. Miscellaneous\\n                  \\nThe Data Agreement encompasses the entire agreement between you and\\nYelp regarding the subject matter discussed therein. The Data Agreement, and any disputes\\narising from or relating to the interpretation thereof, will be governed by and construed under the\\nlaws of the State of California without regard to its conflict of law provisions. You agree to\\npersonal jurisdiction by and venue in the state and federal courts of the State of California, City\\nof San Francisco. The failure of Yelp to exercise or enforce any right or provision of the Data\\nAgreement will not constitute a waiver of such right or provision. The failure of either party to\\nexercise in any respect any right provided for herein will not be deemed a waiver of any further\\nrights hereunder. If any provision of the Data Agreement is found to be unenforceable or invalid,\\nthat provision will be replaced with terms that most closely match the intent of the provision that\\nis not enforceable to the minimum extent necessary so that the remaining Data Agreement will\\notherwise remain in full force and effect and enforceable. The Data Agreement is not\\nassignable, transferable or sublicensable, in whole or in part, by you except with Yelp's prior\\nwritten consent. Any attempt to do so is void. Yelp may assign the Data Agreement, in whole or\\nin part, at any time with or without notice to you. The section titles in the Data Agreement are for\\nconvenience only and have no legal or contractual effect.\\n\\n12. Survival \\n\\nSections 4 through 13 will survive any expiration or termination of this Data\\nAgreement for any reason.\\n\\n13.  Contact and Violations\\n                  \\nPlease contact Yelp with any questions regarding the Data\\nAgreement. Please report any violations of the Data Agreement couvidat@yelp.com.\\n\",\n",
       "  'file_name': 'yelp.license',\n",
       "  'name': 'LICENSE',\n",
       "  'hash_value': 'dcd73f42faa2414fecb7bd26725a27e5d3b42f90'}]"
      ]
     },
     "execution_count": 73,
     "metadata": {},
     "output_type": "execute_result"
    }
   ],
   "source": [
    "rawdata.file_list"
   ]
  },
  {
   "cell_type": "code",
   "execution_count": null,
   "metadata": {},
   "outputs": [],
   "source": []
  }
 ],
 "metadata": {
  "kernelspec": {
   "display_name": "Python 3",
   "language": "python",
   "name": "python3"
  },
  "language_info": {
   "codemirror_mode": {
    "name": "ipython",
    "version": 3
   },
   "file_extension": ".py",
   "mimetype": "text/x-python",
   "name": "python",
   "nbconvert_exporter": "python",
   "pygments_lexer": "ipython3",
   "version": "3.7.2"
  }
 },
 "nbformat": 4,
 "nbformat_minor": 2
}
